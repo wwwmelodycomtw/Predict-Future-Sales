{
 "cells": [
  {
   "cell_type": "markdown",
   "metadata": {},
   "source": [
    "## 安裝套件"
   ]
  },
  {
   "cell_type": "code",
   "execution_count": 10,
   "metadata": {},
   "outputs": [
    {
     "data": {
      "text/plain": [
       "sys.version_info(major=3, minor=6, micro=5, releaselevel='final', serial=0)"
      ]
     },
     "execution_count": 10,
     "metadata": {},
     "output_type": "execute_result"
    }
   ],
   "source": [
    "import numpy as np\n",
    "import pandas as pd\n",
    "pd.set_option('display.max_rows', 500)\n",
    "pd.set_option('display.max_columns', 100)\n",
    "\n",
    "from itertools import product\n",
    "from sklearn.preprocessing import LabelEncoder\n",
    "\n",
    "import seaborn as sns\n",
    "import matplotlib.pyplot as plt\n",
    "%matplotlib inline\n",
    "\n",
    "from xgboost import XGBRegressor                             #XGBoost Regressor\n",
    "from xgboost import plot_importance\n",
    "\n",
    "def plot_features(booster, figsize):    \n",
    "    fig, ax = plt.subplots(1,1,figsize=figsize)\n",
    "    return plot_importance(booster=booster, ax=ax)\n",
    "\n",
    "import lightgbm as lgb                                       #LightGBM\n",
    "from sklearn.model_selection import GridSearchCV             #Grid Search\n",
    "from sklearn.ensemble import RandomForestRegressor           #Random Forest\n",
    "from sklearn.linear_model import LogisticRegression          #Logistic Regression\n",
    "\n",
    "import time\n",
    "import sys\n",
    "import gc\n",
    "import pickle\n",
    "sys.version_info"
   ]
  },
  {
   "cell_type": "markdown",
   "metadata": {},
   "source": [
    "## 匯入data"
   ]
  },
  {
   "cell_type": "code",
   "execution_count": 3,
   "metadata": {},
   "outputs": [],
   "source": [
    "items = pd.read_csv('competitive-data-science-predict-future-sales/items.csv')\n",
    "shops = pd.read_csv('competitive-data-science-predict-future-sales/shops.csv')\n",
    "cats = pd.read_csv('competitive-data-science-predict-future-sales/item_categories.csv')\n",
    "train = pd.read_csv('competitive-data-science-predict-future-sales/sales_train_v2.csv')\n",
    "# set index to ID to avoid droping it later\n",
    "test  = pd.read_csv('competitive-data-science-predict-future-sales/test.csv').set_index('ID')"
   ]
  },
  {
   "cell_type": "markdown",
   "metadata": {},
   "source": [
    "## 以下資料前處理與特徵選取皆參考至:\n",
    "https://www.kaggle.com/dhimananubhav/feature-engineering-xgboost"
   ]
  },
  {
   "cell_type": "markdown",
   "metadata": {},
   "source": [
    "# 1.Outlier處理"
   ]
  },
  {
   "cell_type": "markdown",
   "metadata": {},
   "source": [
    "查看item_cnt_day和item_price的分布"
   ]
  },
  {
   "cell_type": "code",
   "execution_count": 109,
   "metadata": {},
   "outputs": [
    {
     "data": {
      "text/plain": [
       "<matplotlib.axes._subplots.AxesSubplot at 0x1a9ae971278>"
      ]
     },
     "execution_count": 109,
     "metadata": {},
     "output_type": "execute_result"
    },
    {
     "data": {
      "image/png": "[encoded data removed]",
      "text/plain": [
       "<Figure size 720x288 with 1 Axes>"
      ]
     },
     "metadata": {
      "needs_background": "light"
     },
     "output_type": "display_data"
    },
    {
     "data": {
      "image/png": "[encoded data removed]",
      "text/plain": [
       "<Figure size 720x288 with 1 Axes>"
      ]
     },
     "metadata": {
      "needs_background": "light"
     },
     "output_type": "display_data"
    }
   ],
   "source": [
    "plt.figure(figsize=(10,4))\n",
    "plt.xlim(-100, 3000)\n",
    "sns.boxplot(x=train.item_cnt_day)\n",
    "\n",
    "plt.figure(figsize=(10,4))\n",
    "plt.xlim(train.item_price.min(), train.item_price.max()*1.1)\n",
    "sns.boxplot(x=train.item_price)"
   ]
  },
  {
   "cell_type": "markdown",
   "metadata": {},
   "source": [
    "### 除去outlier以免影響模型(price>10000和sales>1000)"
   ]
  },
  {
   "cell_type": "code",
   "execution_count": 110,
   "metadata": {},
   "outputs": [],
   "source": [
    "train = train[train.item_price<100000]\n",
    "train = train[train.item_cnt_day<1001]"
   ]
  },
  {
   "cell_type": "markdown",
   "metadata": {},
   "source": [
    "# 2.Missing Value處理"
   ]
  },
  {
   "cell_type": "markdown",
   "metadata": {},
   "source": [
    "將price<0的不合理情形用同shop_id/同item_id/同data_block_num/item_price>0的中位數替代"
   ]
  },
  {
   "cell_type": "code",
   "execution_count": 111,
   "metadata": {},
   "outputs": [],
   "source": [
    "median = train[(train.shop_id==32)&(train.item_id==2973)&(train.date_block_num==4)&(train.item_price>0)].item_price.median()\n",
    "train.loc[train.item_price<0, 'item_price'] = median"
   ]
  },
  {
   "cell_type": "markdown",
   "metadata": {},
   "source": [
    "修正有錯誤的shop_id"
   ]
  },
  {
   "cell_type": "code",
   "execution_count": 112,
   "metadata": {},
   "outputs": [],
   "source": [
    "# Якутск Орджоникидзе, 56\n",
    "train.loc[train.shop_id == 0, 'shop_id'] = 57\n",
    "test.loc[test.shop_id == 0, 'shop_id'] = 57\n",
    "# Якутск ТЦ \"Центральный\"\n",
    "train.loc[train.shop_id == 1, 'shop_id'] = 58\n",
    "test.loc[test.shop_id == 1, 'shop_id'] = 58\n",
    "# Жуковский ул. Чкалова 39м²\n",
    "train.loc[train.shop_id == 10, 'shop_id'] = 11\n",
    "test.loc[test.shop_id == 10, 'shop_id'] = 11"
   ]
  },
  {
   "cell_type": "code",
   "execution_count": 113,
   "metadata": {},
   "outputs": [],
   "source": [
    "shops.loc[shops.shop_name == 'Сергиев Посад ТЦ \"7Я\"', 'shop_name'] = 'СергиевПосад ТЦ \"7Я\"'\n",
    "shops['city'] = shops['shop_name'].str.split(' ').map(lambda x: x[0])\n",
    "shops.loc[shops.city == '!Якутск', 'city'] = 'Якутск'\n",
    "shops['city_code'] = LabelEncoder().fit_transform(shops['city'])\n",
    "shops = shops[['shop_id','city_code']]\n",
    "\n",
    "cats['split'] = cats['item_category_name'].str.split('-')\n",
    "cats['type'] = cats['split'].map(lambda x: x[0].strip())\n",
    "cats['type_code'] = LabelEncoder().fit_transform(cats['type'])\n",
    "# if subtype is nan then type\n",
    "cats['subtype'] = cats['split'].map(lambda x: x[1].strip() if len(x) > 1 else x[0].strip())\n",
    "cats['subtype_code'] = LabelEncoder().fit_transform(cats['subtype'])\n",
    "cats = cats[['item_category_id','type_code', 'subtype_code']]\n",
    "\n",
    "items.drop(['item_name'], axis=1, inplace=True)"
   ]
  },
  {
   "cell_type": "markdown",
   "metadata": {},
   "source": [
    "test的item, shop組合會有沒出現在train中的情形，表示train的銷售量為0，故將train增加筆數並補上0"
   ]
  },
  {
   "cell_type": "code",
   "execution_count": 114,
   "metadata": {},
   "outputs": [
    {
     "data": {
      "text/plain": [
       "(363, 5100, 214200)"
      ]
     },
     "execution_count": 114,
     "metadata": {},
     "output_type": "execute_result"
    }
   ],
   "source": [
    "len(list(set(test.item_id) - set(test.item_id).intersection(set(train.item_id)))), len(list(set(test.item_id))), len(test)"
   ]
  },
  {
   "cell_type": "code",
   "execution_count": 37,
   "metadata": {},
   "outputs": [
    {
     "data": {
      "text/plain": [
       "10.474971055984497"
      ]
     },
     "execution_count": 37,
     "metadata": {},
     "output_type": "execute_result"
    }
   ],
   "source": [
    "ts = time.time()\n",
    "matrix = []\n",
    "cols = ['date_block_num','shop_id','item_id']\n",
    "for i in range(34):\n",
    "    sales = train[train.date_block_num==i]\n",
    "    matrix.append(np.array(list(product([i], sales.shop_id.unique(), sales.item_id.unique())), dtype='int16'))\n",
    "    \n",
    "matrix = pd.DataFrame(np.vstack(matrix), columns=cols)\n",
    "matrix['date_block_num'] = matrix['date_block_num'].astype(np.int8)\n",
    "matrix['shop_id'] = matrix['shop_id'].astype(np.int8)\n",
    "matrix['item_id'] = matrix['item_id'].astype(np.int16)\n",
    "matrix.sort_values(cols,inplace=True)\n",
    "time.time() - ts"
   ]
  },
  {
   "cell_type": "code",
   "execution_count": 38,
   "metadata": {},
   "outputs": [],
   "source": [
    "train['revenue'] = train['item_price'] *  train['item_cnt_day']"
   ]
  },
  {
   "cell_type": "code",
   "execution_count": 39,
   "metadata": {},
   "outputs": [
    {
     "data": {
      "text/plain": [
       "4.634642839431763"
      ]
     },
     "execution_count": 39,
     "metadata": {},
     "output_type": "execute_result"
    }
   ],
   "source": [
    "ts = time.time()\n",
    "group = train.groupby(['date_block_num','shop_id','item_id']).agg({'item_cnt_day': ['sum']})\n",
    "group.columns = ['item_cnt_month']\n",
    "group.reset_index(inplace=True)\n",
    "\n",
    "matrix = pd.merge(matrix, group, on=cols, how='left')\n",
    "matrix['item_cnt_month'] = (matrix['item_cnt_month']\n",
    "                                .fillna(0)\n",
    "                                .clip(0,20) # NB clip target here\n",
    "                                .astype(np.float16))\n",
    "time.time() - ts"
   ]
  },
  {
   "cell_type": "markdown",
   "metadata": {},
   "source": [
    "# 3.增加feature"
   ]
  },
  {
   "cell_type": "markdown",
   "metadata": {},
   "source": [
    "補上date_block_num=34，也就是要預測的2015年11月的筆數"
   ]
  },
  {
   "cell_type": "code",
   "execution_count": 40,
   "metadata": {},
   "outputs": [],
   "source": [
    "test['date_block_num'] = 34\n",
    "test['date_block_num'] = test['date_block_num'].astype(np.int8)\n",
    "test['shop_id'] = test['shop_id'].astype(np.int8)\n",
    "test['item_id'] = test['item_id'].astype(np.int16)"
   ]
  },
  {
   "cell_type": "code",
   "execution_count": 41,
   "metadata": {},
   "outputs": [
    {
     "data": {
      "text/plain": [
       "0.19279265403747559"
      ]
     },
     "execution_count": 41,
     "metadata": {},
     "output_type": "execute_result"
    }
   ],
   "source": [
    "ts = time.time()\n",
    "matrix = pd.concat([matrix, test], ignore_index=True, sort=False, keys=cols)\n",
    "matrix.fillna(0, inplace=True) # 34 month\n",
    "time.time() - ts"
   ]
  },
  {
   "cell_type": "markdown",
   "metadata": {},
   "source": [
    "### Shops/Items/Cats features "
   ]
  },
  {
   "cell_type": "code",
   "execution_count": 42,
   "metadata": {},
   "outputs": [
    {
     "data": {
      "text/plain": [
       "4.912867069244385"
      ]
     },
     "execution_count": 42,
     "metadata": {},
     "output_type": "execute_result"
    }
   ],
   "source": [
    "ts = time.time()\n",
    "matrix = pd.merge(matrix, shops, on=['shop_id'], how='left')\n",
    "matrix = pd.merge(matrix, items, on=['item_id'], how='left')\n",
    "matrix = pd.merge(matrix, cats, on=['item_category_id'], how='left')\n",
    "matrix['city_code'] = matrix['city_code'].astype(np.int8)\n",
    "matrix['item_category_id'] = matrix['item_category_id'].astype(np.int8)\n",
    "matrix['type_code'] = matrix['type_code'].astype(np.int8)\n",
    "matrix['subtype_code'] = matrix['subtype_code'].astype(np.int8)\n",
    "time.time() - ts"
   ]
  },
  {
   "cell_type": "markdown",
   "metadata": {},
   "source": [
    "### Traget lags"
   ]
  },
  {
   "cell_type": "code",
   "execution_count": 43,
   "metadata": {},
   "outputs": [],
   "source": [
    "def lag_feature(df, lags, col):\n",
    "    tmp = df[['date_block_num','shop_id','item_id',col]]\n",
    "    for i in lags:\n",
    "        shifted = tmp.copy()\n",
    "        shifted.columns = ['date_block_num','shop_id','item_id', col+'_lag_'+str(i)]\n",
    "        shifted['date_block_num'] += i\n",
    "        df = pd.merge(df, shifted, on=['date_block_num','shop_id','item_id'], how='left')\n",
    "    return df\n"
   ]
  },
  {
   "cell_type": "code",
   "execution_count": 44,
   "metadata": {},
   "outputs": [
    {
     "data": {
      "text/plain": [
       "29.41637110710144"
      ]
     },
     "execution_count": 44,
     "metadata": {},
     "output_type": "execute_result"
    }
   ],
   "source": [
    "ts = time.time()\n",
    "matrix = lag_feature(matrix, [1,2,3,6,12], 'item_cnt_month')\n",
    "time.time() - ts"
   ]
  },
  {
   "cell_type": "markdown",
   "metadata": {},
   "source": [
    "### Mean encoded features"
   ]
  },
  {
   "cell_type": "code",
   "execution_count": 45,
   "metadata": {},
   "outputs": [
    {
     "data": {
      "text/plain": [
       "10.327449798583984"
      ]
     },
     "execution_count": 45,
     "metadata": {},
     "output_type": "execute_result"
    }
   ],
   "source": [
    "ts = time.time()\n",
    "group = matrix.groupby(['date_block_num']).agg({'item_cnt_month': ['mean']})\n",
    "group.columns = [ 'date_avg_item_cnt' ]\n",
    "group.reset_index(inplace=True)\n",
    "\n",
    "matrix = pd.merge(matrix, group, on=['date_block_num'], how='left')\n",
    "matrix['date_avg_item_cnt'] = matrix['date_avg_item_cnt'].astype(np.float16)\n",
    "matrix = lag_feature(matrix, [1], 'date_avg_item_cnt')\n",
    "matrix.drop(['date_avg_item_cnt'], axis=1, inplace=True)\n",
    "time.time() - ts"
   ]
  },
  {
   "cell_type": "code",
   "execution_count": 46,
   "metadata": {},
   "outputs": [
    {
     "data": {
      "text/plain": [
       "36.86150336265564"
      ]
     },
     "execution_count": 46,
     "metadata": {},
     "output_type": "execute_result"
    }
   ],
   "source": [
    "ts = time.time()\n",
    "group = matrix.groupby(['date_block_num', 'item_id']).agg({'item_cnt_month': ['mean']})\n",
    "group.columns = [ 'date_item_avg_item_cnt' ]\n",
    "group.reset_index(inplace=True)\n",
    "\n",
    "matrix = pd.merge(matrix, group, on=['date_block_num','item_id'], how='left')\n",
    "matrix['date_item_avg_item_cnt'] = matrix['date_item_avg_item_cnt'].astype(np.float16)\n",
    "matrix = lag_feature(matrix, [1,2,3,6,12], 'date_item_avg_item_cnt')\n",
    "matrix.drop(['date_item_avg_item_cnt'], axis=1, inplace=True)\n",
    "time.time() - ts"
   ]
  },
  {
   "cell_type": "code",
   "execution_count": 47,
   "metadata": {},
   "outputs": [
    {
     "data": {
      "text/plain": [
       "38.30161666870117"
      ]
     },
     "execution_count": 47,
     "metadata": {},
     "output_type": "execute_result"
    }
   ],
   "source": [
    "ts = time.time()\n",
    "group = matrix.groupby(['date_block_num', 'shop_id']).agg({'item_cnt_month': ['mean']})\n",
    "group.columns = [ 'date_shop_avg_item_cnt' ]\n",
    "group.reset_index(inplace=True)\n",
    "\n",
    "matrix = pd.merge(matrix, group, on=['date_block_num','shop_id'], how='left')\n",
    "matrix['date_shop_avg_item_cnt'] = matrix['date_shop_avg_item_cnt'].astype(np.float16)\n",
    "matrix = lag_feature(matrix, [1,2,3,6,12], 'date_shop_avg_item_cnt')\n",
    "matrix.drop(['date_shop_avg_item_cnt'], axis=1, inplace=True)\n",
    "time.time() - ts"
   ]
  },
  {
   "cell_type": "code",
   "execution_count": 48,
   "metadata": {},
   "outputs": [
    {
     "data": {
      "text/plain": [
       "13.849035501480103"
      ]
     },
     "execution_count": 48,
     "metadata": {},
     "output_type": "execute_result"
    }
   ],
   "source": [
    "ts = time.time()\n",
    "group = matrix.groupby(['date_block_num', 'item_category_id']).agg({'item_cnt_month': ['mean']})\n",
    "group.columns = [ 'date_cat_avg_item_cnt' ]\n",
    "group.reset_index(inplace=True)\n",
    "\n",
    "matrix = pd.merge(matrix, group, on=['date_block_num','item_category_id'], how='left')\n",
    "matrix['date_cat_avg_item_cnt'] = matrix['date_cat_avg_item_cnt'].astype(np.float16)\n",
    "matrix = lag_feature(matrix, [1], 'date_cat_avg_item_cnt')\n",
    "matrix.drop(['date_cat_avg_item_cnt'], axis=1, inplace=True)\n",
    "time.time() - ts"
   ]
  },
  {
   "cell_type": "code",
   "execution_count": 49,
   "metadata": {},
   "outputs": [
    {
     "data": {
      "text/plain": [
       "14.941097259521484"
      ]
     },
     "execution_count": 49,
     "metadata": {},
     "output_type": "execute_result"
    }
   ],
   "source": [
    "ts = time.time()\n",
    "group = matrix.groupby(['date_block_num', 'shop_id', 'item_category_id']).agg({'item_cnt_month': ['mean']})\n",
    "group.columns = ['date_shop_cat_avg_item_cnt']\n",
    "group.reset_index(inplace=True)\n",
    "\n",
    "matrix = pd.merge(matrix, group, on=['date_block_num', 'shop_id', 'item_category_id'], how='left')\n",
    "matrix['date_shop_cat_avg_item_cnt'] = matrix['date_shop_cat_avg_item_cnt'].astype(np.float16)\n",
    "matrix = lag_feature(matrix, [1], 'date_shop_cat_avg_item_cnt')\n",
    "matrix.drop(['date_shop_cat_avg_item_cnt'], axis=1, inplace=True)\n",
    "time.time() - ts"
   ]
  },
  {
   "cell_type": "code",
   "execution_count": 50,
   "metadata": {},
   "outputs": [
    {
     "data": {
      "text/plain": [
       "15.842651844024658"
      ]
     },
     "execution_count": 50,
     "metadata": {},
     "output_type": "execute_result"
    }
   ],
   "source": [
    "ts = time.time()\n",
    "group = matrix.groupby(['date_block_num', 'shop_id', 'type_code']).agg({'item_cnt_month': ['mean']})\n",
    "group.columns = ['date_shop_type_avg_item_cnt']\n",
    "group.reset_index(inplace=True)\n",
    "\n",
    "matrix = pd.merge(matrix, group, on=['date_block_num', 'shop_id', 'type_code'], how='left')\n",
    "matrix['date_shop_type_avg_item_cnt'] = matrix['date_shop_type_avg_item_cnt'].astype(np.float16)\n",
    "matrix = lag_feature(matrix, [1], 'date_shop_type_avg_item_cnt')\n",
    "matrix.drop(['date_shop_type_avg_item_cnt'], axis=1, inplace=True)\n",
    "time.time() - ts"
   ]
  },
  {
   "cell_type": "code",
   "execution_count": 51,
   "metadata": {},
   "outputs": [
    {
     "data": {
      "text/plain": [
       "15.480675220489502"
      ]
     },
     "execution_count": 51,
     "metadata": {},
     "output_type": "execute_result"
    }
   ],
   "source": [
    "ts = time.time()\n",
    "group = matrix.groupby(['date_block_num', 'shop_id', 'subtype_code']).agg({'item_cnt_month': ['mean']})\n",
    "group.columns = ['date_shop_subtype_avg_item_cnt']\n",
    "group.reset_index(inplace=True)\n",
    "\n",
    "matrix = pd.merge(matrix, group, on=['date_block_num', 'shop_id', 'subtype_code'], how='left')\n",
    "matrix['date_shop_subtype_avg_item_cnt'] = matrix['date_shop_subtype_avg_item_cnt'].astype(np.float16)\n",
    "matrix = lag_feature(matrix, [1], 'date_shop_subtype_avg_item_cnt')\n",
    "matrix.drop(['date_shop_subtype_avg_item_cnt'], axis=1, inplace=True)\n",
    "time.time() - ts"
   ]
  },
  {
   "cell_type": "code",
   "execution_count": 52,
   "metadata": {},
   "outputs": [
    {
     "data": {
      "text/plain": [
       "15.079691648483276"
      ]
     },
     "execution_count": 52,
     "metadata": {},
     "output_type": "execute_result"
    }
   ],
   "source": [
    "ts = time.time()\n",
    "group = matrix.groupby(['date_block_num', 'city_code']).agg({'item_cnt_month': ['mean']})\n",
    "group.columns = [ 'date_city_avg_item_cnt' ]\n",
    "group.reset_index(inplace=True)\n",
    "\n",
    "matrix = pd.merge(matrix, group, on=['date_block_num', 'city_code'], how='left')\n",
    "matrix['date_city_avg_item_cnt'] = matrix['date_city_avg_item_cnt'].astype(np.float16)\n",
    "matrix = lag_feature(matrix, [1], 'date_city_avg_item_cnt')\n",
    "matrix.drop(['date_city_avg_item_cnt'], axis=1, inplace=True)\n",
    "time.time() - ts"
   ]
  },
  {
   "cell_type": "code",
   "execution_count": 53,
   "metadata": {},
   "outputs": [
    {
     "data": {
      "text/plain": [
       "21.189361095428467"
      ]
     },
     "execution_count": 53,
     "metadata": {},
     "output_type": "execute_result"
    }
   ],
   "source": [
    "ts = time.time()\n",
    "group = matrix.groupby(['date_block_num', 'item_id', 'city_code']).agg({'item_cnt_month': ['mean']})\n",
    "group.columns = [ 'date_item_city_avg_item_cnt' ]\n",
    "group.reset_index(inplace=True)\n",
    "\n",
    "matrix = pd.merge(matrix, group, on=['date_block_num', 'item_id', 'city_code'], how='left')\n",
    "matrix['date_item_city_avg_item_cnt'] = matrix['date_item_city_avg_item_cnt'].astype(np.float16)\n",
    "matrix = lag_feature(matrix, [1], 'date_item_city_avg_item_cnt')\n",
    "matrix.drop(['date_item_city_avg_item_cnt'], axis=1, inplace=True)\n",
    "time.time() - ts"
   ]
  },
  {
   "cell_type": "code",
   "execution_count": 54,
   "metadata": {},
   "outputs": [
    {
     "data": {
      "text/plain": [
       "15.626266479492188"
      ]
     },
     "execution_count": 54,
     "metadata": {},
     "output_type": "execute_result"
    }
   ],
   "source": [
    "ts = time.time()\n",
    "group = matrix.groupby(['date_block_num', 'type_code']).agg({'item_cnt_month': ['mean']})\n",
    "group.columns = [ 'date_type_avg_item_cnt' ]\n",
    "group.reset_index(inplace=True)\n",
    "\n",
    "matrix = pd.merge(matrix, group, on=['date_block_num', 'type_code'], how='left')\n",
    "matrix['date_type_avg_item_cnt'] = matrix['date_type_avg_item_cnt'].astype(np.float16)\n",
    "matrix = lag_feature(matrix, [1], 'date_type_avg_item_cnt')\n",
    "matrix.drop(['date_type_avg_item_cnt'], axis=1, inplace=True)\n",
    "time.time() - ts"
   ]
  },
  {
   "cell_type": "code",
   "execution_count": 55,
   "metadata": {},
   "outputs": [
    {
     "data": {
      "text/plain": [
       "15.966309785842896"
      ]
     },
     "execution_count": 55,
     "metadata": {},
     "output_type": "execute_result"
    }
   ],
   "source": [
    "ts = time.time()\n",
    "group = matrix.groupby(['date_block_num', 'subtype_code']).agg({'item_cnt_month': ['mean']})\n",
    "group.columns = [ 'date_subtype_avg_item_cnt' ]\n",
    "group.reset_index(inplace=True)\n",
    "\n",
    "matrix = pd.merge(matrix, group, on=['date_block_num', 'subtype_code'], how='left')\n",
    "matrix['date_subtype_avg_item_cnt'] = matrix['date_subtype_avg_item_cnt'].astype(np.float16)\n",
    "matrix = lag_feature(matrix, [1], 'date_subtype_avg_item_cnt')\n",
    "matrix.drop(['date_subtype_avg_item_cnt'], axis=1, inplace=True)\n",
    "time.time() - ts\n"
   ]
  },
  {
   "cell_type": "markdown",
   "metadata": {},
   "source": [
    "### Trend features\n",
    "最後六個月的價格趨勢"
   ]
  },
  {
   "cell_type": "code",
   "execution_count": 56,
   "metadata": {},
   "outputs": [
    {
     "data": {
      "text/plain": [
       "301.5755457878113"
      ]
     },
     "execution_count": 56,
     "metadata": {},
     "output_type": "execute_result"
    }
   ],
   "source": [
    "ts = time.time()\n",
    "group = train.groupby(['item_id']).agg({'item_price': ['mean']})\n",
    "group.columns = ['item_avg_item_price']\n",
    "group.reset_index(inplace=True)\n",
    "\n",
    "matrix = pd.merge(matrix, group, on=['item_id'], how='left')\n",
    "matrix['item_avg_item_price'] = matrix['item_avg_item_price'].astype(np.float16)\n",
    "\n",
    "group = train.groupby(['date_block_num','item_id']).agg({'item_price': ['mean']})\n",
    "group.columns = ['date_item_avg_item_price']\n",
    "group.reset_index(inplace=True)\n",
    "\n",
    "matrix = pd.merge(matrix, group, on=['date_block_num','item_id'], how='left')\n",
    "matrix['date_item_avg_item_price'] = matrix['date_item_avg_item_price'].astype(np.float16)\n",
    "\n",
    "lags = [1,2,3,4,5,6]\n",
    "matrix = lag_feature(matrix, lags, 'date_item_avg_item_price')\n",
    "\n",
    "for i in lags:\n",
    "    matrix['delta_price_lag_'+str(i)] = \\\n",
    "        (matrix['date_item_avg_item_price_lag_'+str(i)] - matrix['item_avg_item_price']) / matrix['item_avg_item_price']\n",
    "\n",
    "def select_trend(row):\n",
    "    for i in lags:\n",
    "        if row['delta_price_lag_'+str(i)]:\n",
    "            return row['delta_price_lag_'+str(i)]\n",
    "    return 0\n",
    "    \n",
    "matrix['delta_price_lag'] = matrix.apply(select_trend, axis=1)\n",
    "matrix['delta_price_lag'] = matrix['delta_price_lag'].astype(np.float16)\n",
    "matrix['delta_price_lag'].fillna(0, inplace=True)\n",
    "\n",
    "# https://stackoverflow.com/questions/31828240/first-non-null-value-per-row-from-a-list-of-pandas-columns/31828559\n",
    "# matrix['price_trend'] = matrix[['delta_price_lag_1','delta_price_lag_2','delta_price_lag_3']].bfill(axis=1).iloc[:, 0]\n",
    "# Invalid dtype for backfill_2d [float16]\n",
    "\n",
    "fetures_to_drop = ['item_avg_item_price', 'date_item_avg_item_price']\n",
    "for i in lags:\n",
    "    fetures_to_drop += ['date_item_avg_item_price_lag_'+str(i)]\n",
    "    fetures_to_drop += ['delta_price_lag_'+str(i)]\n",
    "\n",
    "matrix.drop(fetures_to_drop, axis=1, inplace=True)\n",
    "\n",
    "time.time() - ts"
   ]
  },
  {
   "cell_type": "markdown",
   "metadata": {},
   "source": [
    "最後一個月的店家收益趨勢"
   ]
  },
  {
   "cell_type": "code",
   "execution_count": 57,
   "metadata": {},
   "outputs": [
    {
     "data": {
      "text/plain": [
       "20.050748348236084"
      ]
     },
     "execution_count": 57,
     "metadata": {},
     "output_type": "execute_result"
    }
   ],
   "source": [
    "ts = time.time()\n",
    "group = train.groupby(['date_block_num','shop_id']).agg({'revenue': ['sum']})\n",
    "group.columns = ['date_shop_revenue']\n",
    "group.reset_index(inplace=True)\n",
    "\n",
    "matrix = pd.merge(matrix, group, on=['date_block_num','shop_id'], how='left')\n",
    "matrix['date_shop_revenue'] = matrix['date_shop_revenue'].astype(np.float32)\n",
    "\n",
    "group = group.groupby(['shop_id']).agg({'date_shop_revenue': ['mean']})\n",
    "group.columns = ['shop_avg_revenue']\n",
    "group.reset_index(inplace=True)\n",
    "\n",
    "matrix = pd.merge(matrix, group, on=['shop_id'], how='left')\n",
    "matrix['shop_avg_revenue'] = matrix['shop_avg_revenue'].astype(np.float32)\n",
    "\n",
    "matrix['delta_revenue'] = (matrix['date_shop_revenue'] - matrix['shop_avg_revenue']) / matrix['shop_avg_revenue']\n",
    "matrix['delta_revenue'] = matrix['delta_revenue'].astype(np.float16)\n",
    "\n",
    "matrix = lag_feature(matrix, [1], 'delta_revenue')\n",
    "\n",
    "matrix.drop(['date_shop_revenue','shop_avg_revenue','delta_revenue'], axis=1, inplace=True)\n",
    "time.time() - ts"
   ]
  },
  {
   "cell_type": "markdown",
   "metadata": {},
   "source": [
    "### 其他特徵"
   ]
  },
  {
   "cell_type": "markdown",
   "metadata": {},
   "source": [
    "#### 月份"
   ]
  },
  {
   "cell_type": "code",
   "execution_count": 58,
   "metadata": {},
   "outputs": [],
   "source": [
    "matrix['month'] = matrix['date_block_num'] % 12"
   ]
  },
  {
   "cell_type": "markdown",
   "metadata": {},
   "source": [
    "#### 當月的天數"
   ]
  },
  {
   "cell_type": "code",
   "execution_count": 59,
   "metadata": {},
   "outputs": [],
   "source": [
    "days = pd.Series([31,28,31,30,31,30,31,31,30,31,30,31])\n",
    "matrix['days'] = matrix['month'].map(days).astype(np.int8)"
   ]
  },
  {
   "cell_type": "code",
   "execution_count": 60,
   "metadata": {},
   "outputs": [
    {
     "data": {
      "text/plain": [
       "990.5863890647888"
      ]
     },
     "execution_count": 60,
     "metadata": {},
     "output_type": "execute_result"
    }
   ],
   "source": [
    "ts = time.time()\n",
    "cache = {}\n",
    "matrix['item_shop_last_sale'] = -1\n",
    "matrix['item_shop_last_sale'] = matrix['item_shop_last_sale'].astype(np.int8)\n",
    "for idx, row in matrix.iterrows():    \n",
    "    key = str(row.item_id)+' '+str(row.shop_id)\n",
    "    if key not in cache:\n",
    "        if row.item_cnt_month!=0:\n",
    "            cache[key] = row.date_block_num\n",
    "    else:\n",
    "        last_date_block_num = cache[key]\n",
    "        matrix.at[idx, 'item_shop_last_sale'] = row.date_block_num - last_date_block_num\n",
    "        cache[key] = row.date_block_num         \n",
    "time.time() - ts"
   ]
  },
  {
   "cell_type": "code",
   "execution_count": 61,
   "metadata": {},
   "outputs": [
    {
     "data": {
      "text/plain": [
       "595.3668985366821"
      ]
     },
     "execution_count": 61,
     "metadata": {},
     "output_type": "execute_result"
    }
   ],
   "source": [
    "ts = time.time()\n",
    "cache = {}\n",
    "matrix['item_last_sale'] = -1\n",
    "matrix['item_last_sale'] = matrix['item_last_sale'].astype(np.int8)\n",
    "for idx, row in matrix.iterrows():    \n",
    "    key = row.item_id\n",
    "    if key not in cache:\n",
    "        if row.item_cnt_month!=0:\n",
    "            cache[key] = row.date_block_num\n",
    "    else:\n",
    "        last_date_block_num = cache[key]\n",
    "        if row.date_block_num>last_date_block_num:\n",
    "            matrix.at[idx, 'item_last_sale'] = row.date_block_num - last_date_block_num\n",
    "            cache[key] = row.date_block_num         \n",
    "time.time() - ts"
   ]
  },
  {
   "cell_type": "code",
   "execution_count": 62,
   "metadata": {},
   "outputs": [
    {
     "data": {
      "text/plain": [
       "2.684757947921753"
      ]
     },
     "execution_count": 62,
     "metadata": {},
     "output_type": "execute_result"
    }
   ],
   "source": [
    "ts = time.time()\n",
    "matrix['item_shop_first_sale'] = matrix['date_block_num'] - matrix.groupby(['item_id','shop_id'])['date_block_num'].transform('min')\n",
    "matrix['item_first_sale'] = matrix['date_block_num'] - matrix.groupby('item_id')['date_block_num'].transform('min')\n",
    "time.time() - ts"
   ]
  },
  {
   "cell_type": "markdown",
   "metadata": {},
   "source": [
    "# 4.最後準備 \n",
    "因為有加入前12個月的lag feature去作預測，故刪掉最前面12個月份的資料，以免發生資料不齊全的問題"
   ]
  },
  {
   "cell_type": "code",
   "execution_count": 63,
   "metadata": {},
   "outputs": [
    {
     "data": {
      "text/plain": [
       "1.1009485721588135"
      ]
     },
     "execution_count": 63,
     "metadata": {},
     "output_type": "execute_result"
    }
   ],
   "source": [
    "ts = time.time()\n",
    "matrix = matrix[matrix.date_block_num > 11]\n",
    "time.time() - ts"
   ]
  },
  {
   "cell_type": "code",
   "execution_count": 64,
   "metadata": {},
   "outputs": [
    {
     "data": {
      "text/plain": [
       "4.250424385070801"
      ]
     },
     "execution_count": 64,
     "metadata": {},
     "output_type": "execute_result"
    }
   ],
   "source": [
    "ts = time.time()\n",
    "def fill_na(df):\n",
    "    for col in df.columns:\n",
    "        if ('_lag_' in col) & (df[col].isnull().any()):\n",
    "            if ('item_cnt' in col):\n",
    "                df[col].fillna(0, inplace=True)         \n",
    "    return df\n",
    "\n",
    "matrix = fill_na(matrix)\n",
    "time.time() - ts"
   ]
  },
  {
   "cell_type": "code",
   "execution_count": 65,
   "metadata": {},
   "outputs": [
    {
     "data": {
      "text/plain": [
       "Index(['date_block_num', 'shop_id', 'item_id', 'item_cnt_month', 'city_code',\n",
       "       'item_category_id', 'type_code', 'subtype_code', 'item_cnt_month_lag_1',\n",
       "       'item_cnt_month_lag_2', 'item_cnt_month_lag_3', 'item_cnt_month_lag_6',\n",
       "       'item_cnt_month_lag_12', 'date_avg_item_cnt_lag_1',\n",
       "       'date_item_avg_item_cnt_lag_1', 'date_item_avg_item_cnt_lag_2',\n",
       "       'date_item_avg_item_cnt_lag_3', 'date_item_avg_item_cnt_lag_6',\n",
       "       'date_item_avg_item_cnt_lag_12', 'date_shop_avg_item_cnt_lag_1',\n",
       "       'date_shop_avg_item_cnt_lag_2', 'date_shop_avg_item_cnt_lag_3',\n",
       "       'date_shop_avg_item_cnt_lag_6', 'date_shop_avg_item_cnt_lag_12',\n",
       "       'date_cat_avg_item_cnt_lag_1', 'date_shop_cat_avg_item_cnt_lag_1',\n",
       "       'date_shop_type_avg_item_cnt_lag_1',\n",
       "       'date_shop_subtype_avg_item_cnt_lag_1', 'date_city_avg_item_cnt_lag_1',\n",
       "       'date_item_city_avg_item_cnt_lag_1', 'date_type_avg_item_cnt_lag_1',\n",
       "       'date_subtype_avg_item_cnt_lag_1', 'delta_price_lag',\n",
       "       'delta_revenue_lag_1', 'month', 'days', 'item_shop_last_sale',\n",
       "       'item_last_sale', 'item_shop_first_sale', 'item_first_sale'],\n",
       "      dtype='object')"
      ]
     },
     "execution_count": 65,
     "metadata": {},
     "output_type": "execute_result"
    }
   ],
   "source": [
    "matrix.columns"
   ]
  },
  {
   "cell_type": "code",
   "execution_count": 66,
   "metadata": {},
   "outputs": [
    {
     "name": "stdout",
     "output_type": "stream",
     "text": [
      "<class 'pandas.core.frame.DataFrame'>\n",
      "Int64Index: 6639294 entries, 4488710 to 11128003\n",
      "Data columns (total 40 columns):\n",
      "date_block_num                          int8\n",
      "shop_id                                 int8\n",
      "item_id                                 int16\n",
      "item_cnt_month                          float16\n",
      "city_code                               int8\n",
      "item_category_id                        int8\n",
      "type_code                               int8\n",
      "subtype_code                            int8\n",
      "item_cnt_month_lag_1                    float16\n",
      "item_cnt_month_lag_2                    float16\n",
      "item_cnt_month_lag_3                    float16\n",
      "item_cnt_month_lag_6                    float16\n",
      "item_cnt_month_lag_12                   float16\n",
      "date_avg_item_cnt_lag_1                 float16\n",
      "date_item_avg_item_cnt_lag_1            float16\n",
      "date_item_avg_item_cnt_lag_2            float16\n",
      "date_item_avg_item_cnt_lag_3            float16\n",
      "date_item_avg_item_cnt_lag_6            float16\n",
      "date_item_avg_item_cnt_lag_12           float16\n",
      "date_shop_avg_item_cnt_lag_1            float16\n",
      "date_shop_avg_item_cnt_lag_2            float16\n",
      "date_shop_avg_item_cnt_lag_3            float16\n",
      "date_shop_avg_item_cnt_lag_6            float16\n",
      "date_shop_avg_item_cnt_lag_12           float16\n",
      "date_cat_avg_item_cnt_lag_1             float16\n",
      "date_shop_cat_avg_item_cnt_lag_1        float16\n",
      "date_shop_type_avg_item_cnt_lag_1       float16\n",
      "date_shop_subtype_avg_item_cnt_lag_1    float16\n",
      "date_city_avg_item_cnt_lag_1            float16\n",
      "date_item_city_avg_item_cnt_lag_1       float16\n",
      "date_type_avg_item_cnt_lag_1            float16\n",
      "date_subtype_avg_item_cnt_lag_1         float16\n",
      "delta_price_lag                         float16\n",
      "delta_revenue_lag_1                     float16\n",
      "month                                   int8\n",
      "days                                    int8\n",
      "item_shop_last_sale                     int8\n",
      "item_last_sale                          int8\n",
      "item_shop_first_sale                    int8\n",
      "item_first_sale                         int8\n",
      "dtypes: float16(27), int16(1), int8(12)\n",
      "memory usage: 481.2 MB\n"
     ]
    }
   ],
   "source": [
    "matrix.info()"
   ]
  },
  {
   "cell_type": "markdown",
   "metadata": {},
   "source": [
    "## 把處理好的資料存在data.pkl，以便下次載入"
   ]
  },
  {
   "cell_type": "code",
   "execution_count": 67,
   "metadata": {},
   "outputs": [],
   "source": [
    "matrix.to_pickle('data.pkl')\n",
    "del matrix\n",
    "del cache\n",
    "del group\n",
    "del items\n",
    "del shops\n",
    "del cats\n",
    "del train\n",
    "# leave test for submission\n",
    "gc.collect();"
   ]
  },
  {
   "cell_type": "code",
   "execution_count": 4,
   "metadata": {},
   "outputs": [],
   "source": [
    "data = pd.read_pickle('data.pkl')"
   ]
  },
  {
   "cell_type": "markdown",
   "metadata": {},
   "source": [
    "# 選擇features"
   ]
  },
  {
   "cell_type": "markdown",
   "metadata": {},
   "source": [
    "一開始先嘗試全部變數放入模型中，再從XGBoost判斷出較為相關的因子進行篩選。"
   ]
  },
  {
   "cell_type": "code",
   "execution_count": 5,
   "metadata": {},
   "outputs": [],
   "source": [
    "data = data[[\n",
    "    'date_block_num',\n",
    "    'shop_id',\n",
    "    'item_id',\n",
    "    'item_cnt_month',\n",
    "    #'city_code',\n",
    "    'item_category_id',\n",
    "    'type_code',\n",
    "    'subtype_code',\n",
    "    'item_cnt_month_lag_1',\n",
    "    'item_cnt_month_lag_2',\n",
    "    'item_cnt_month_lag_3',\n",
    "    'item_cnt_month_lag_6',\n",
    "    'item_cnt_month_lag_12',\n",
    "    #'date_avg_item_cnt_lag_1',\n",
    "    'date_item_avg_item_cnt_lag_1',\n",
    "    'date_item_avg_item_cnt_lag_2',\n",
    "    'date_item_avg_item_cnt_lag_3',\n",
    "    #'date_item_avg_item_cnt_lag_6',\n",
    "    #'date_item_avg_item_cnt_lag_12',\n",
    "    'date_shop_avg_item_cnt_lag_1',\n",
    "    'date_shop_avg_item_cnt_lag_2',\n",
    "    'date_shop_avg_item_cnt_lag_3',\n",
    "    #'date_shop_avg_item_cnt_lag_6',\n",
    "    #'date_shop_avg_item_cnt_lag_12',\n",
    "    'date_cat_avg_item_cnt_lag_1',\n",
    "    #'date_shop_cat_avg_item_cnt_lag_1',\n",
    "    #'date_shop_type_avg_item_cnt_lag_1',\n",
    "    #'date_shop_subtype_avg_item_cnt_lag_1',\n",
    "    #'date_city_avg_item_cnt_lag_1',\n",
    "    #'date_item_city_avg_item_cnt_lag_1',\n",
    "    #'date_type_avg_item_cnt_lag_1',\n",
    "    #'date_subtype_avg_item_cnt_lag_1',\n",
    "    #'delta_price_lag',\n",
    "    'month',\n",
    "    'days',\n",
    "    'item_shop_last_sale',\n",
    "    'item_last_sale',\n",
    "    'item_shop_first_sale',\n",
    "    'item_first_sale',\n",
    "]]"
   ]
  },
  {
   "cell_type": "markdown",
   "metadata": {},
   "source": [
    "將資料分割成train(第13~33個月)、valid(第33個月)、test(第34個月=最後要預測的)"
   ]
  },
  {
   "cell_type": "code",
   "execution_count": 7,
   "metadata": {},
   "outputs": [],
   "source": [
    "X_train = data[data.date_block_num <= 33].drop(['item_cnt_month'], axis=1)\n",
    "Y_train = data[data.date_block_num <= 33]['item_cnt_month']\n",
    "X_valid = data[data.date_block_num == 33].drop(['item_cnt_month'], axis=1)\n",
    "Y_valid = data[data.date_block_num == 33]['item_cnt_month']\n",
    "X_test = data[data.date_block_num == 34].drop(['item_cnt_month'], axis=1)"
   ]
  },
  {
   "cell_type": "code",
   "execution_count": 8,
   "metadata": {},
   "outputs": [],
   "source": [
    "del data\n",
    "gc.collect();"
   ]
  },
  {
   "cell_type": "markdown",
   "metadata": {},
   "source": [
    "### 查看train/valid/test data格式與內容"
   ]
  },
  {
   "cell_type": "code",
   "execution_count": 99,
   "metadata": {
    "scrolled": true
   },
   "outputs": [
    {
     "data": {
      "text/html": [
       "<div>\n",
       "<style scoped>\n",
       "    .dataframe tbody tr th:only-of-type {\n",
       "        vertical-align: middle;\n",
       "    }\n",
       "\n",
       "    .dataframe tbody tr th {\n",
       "        vertical-align: top;\n",
       "    }\n",
       "\n",
       "    .dataframe thead th {\n",
       "        text-align: right;\n",
       "    }\n",
       "</style>\n",
       "<table border=\"1\" class=\"dataframe\">\n",
       "  <thead>\n",
       "    <tr style=\"text-align: right;\">\n",
       "      <th></th>\n",
       "      <th>date_block_num</th>\n",
       "      <th>shop_id</th>\n",
       "      <th>item_id</th>\n",
       "      <th>city_code</th>\n",
       "      <th>item_category_id</th>\n",
       "      <th>type_code</th>\n",
       "      <th>subtype_code</th>\n",
       "      <th>item_cnt_month_lag_1</th>\n",
       "      <th>item_cnt_month_lag_2</th>\n",
       "      <th>item_cnt_month_lag_3</th>\n",
       "      <th>item_cnt_month_lag_6</th>\n",
       "      <th>item_cnt_month_lag_12</th>\n",
       "      <th>date_avg_item_cnt_lag_1</th>\n",
       "      <th>date_item_avg_item_cnt_lag_1</th>\n",
       "      <th>date_item_avg_item_cnt_lag_2</th>\n",
       "      <th>date_item_avg_item_cnt_lag_3</th>\n",
       "      <th>date_item_avg_item_cnt_lag_6</th>\n",
       "      <th>date_item_avg_item_cnt_lag_12</th>\n",
       "      <th>date_shop_avg_item_cnt_lag_1</th>\n",
       "      <th>date_shop_avg_item_cnt_lag_2</th>\n",
       "      <th>date_shop_avg_item_cnt_lag_3</th>\n",
       "      <th>date_shop_avg_item_cnt_lag_6</th>\n",
       "      <th>date_shop_avg_item_cnt_lag_12</th>\n",
       "      <th>date_cat_avg_item_cnt_lag_1</th>\n",
       "      <th>date_shop_cat_avg_item_cnt_lag_1</th>\n",
       "      <th>date_city_avg_item_cnt_lag_1</th>\n",
       "      <th>date_item_city_avg_item_cnt_lag_1</th>\n",
       "      <th>delta_price_lag</th>\n",
       "      <th>month</th>\n",
       "      <th>days</th>\n",
       "      <th>item_shop_last_sale</th>\n",
       "      <th>item_last_sale</th>\n",
       "      <th>item_shop_first_sale</th>\n",
       "      <th>item_first_sale</th>\n",
       "    </tr>\n",
       "  </thead>\n",
       "  <tbody>\n",
       "    <tr>\n",
       "      <th>4488710</th>\n",
       "      <td>12</td>\n",
       "      <td>2</td>\n",
       "      <td>27</td>\n",
       "      <td>0</td>\n",
       "      <td>19</td>\n",
       "      <td>5</td>\n",
       "      <td>10</td>\n",
       "      <td>0.0</td>\n",
       "      <td>0.0</td>\n",
       "      <td>0.0</td>\n",
       "      <td>0.0</td>\n",
       "      <td>1.0</td>\n",
       "      <td>0.411377</td>\n",
       "      <td>0.086975</td>\n",
       "      <td>0.044434</td>\n",
       "      <td>0.130493</td>\n",
       "      <td>0.065247</td>\n",
       "      <td>0.155518</td>\n",
       "      <td>0.148071</td>\n",
       "      <td>0.100647</td>\n",
       "      <td>0.08905</td>\n",
       "      <td>0.096008</td>\n",
       "      <td>0.141235</td>\n",
       "      <td>1.082031</td>\n",
       "      <td>0.955566</td>\n",
       "      <td>0.148071</td>\n",
       "      <td>0.0</td>\n",
       "      <td>-0.282715</td>\n",
       "      <td>0</td>\n",
       "      <td>31</td>\n",
       "      <td>1</td>\n",
       "      <td>1</td>\n",
       "      <td>12</td>\n",
       "      <td>12</td>\n",
       "    </tr>\n",
       "  </tbody>\n",
       "</table>\n",
       "</div>"
      ],
      "text/plain": [
       "         date_block_num  shop_id  item_id  city_code  item_category_id  \\\n",
       "4488710              12        2       27          0                19   \n",
       "\n",
       "         type_code  subtype_code  item_cnt_month_lag_1  item_cnt_month_lag_2  \\\n",
       "4488710          5            10                   0.0                   0.0   \n",
       "\n",
       "         item_cnt_month_lag_3  item_cnt_month_lag_6  item_cnt_month_lag_12  \\\n",
       "4488710                   0.0                   0.0                    1.0   \n",
       "\n",
       "         date_avg_item_cnt_lag_1  date_item_avg_item_cnt_lag_1  \\\n",
       "4488710                 0.411377                      0.086975   \n",
       "\n",
       "         date_item_avg_item_cnt_lag_2  date_item_avg_item_cnt_lag_3  \\\n",
       "4488710                      0.044434                      0.130493   \n",
       "\n",
       "         date_item_avg_item_cnt_lag_6  date_item_avg_item_cnt_lag_12  \\\n",
       "4488710                      0.065247                       0.155518   \n",
       "\n",
       "         date_shop_avg_item_cnt_lag_1  date_shop_avg_item_cnt_lag_2  \\\n",
       "4488710                      0.148071                      0.100647   \n",
       "\n",
       "         date_shop_avg_item_cnt_lag_3  date_shop_avg_item_cnt_lag_6  \\\n",
       "4488710                       0.08905                      0.096008   \n",
       "\n",
       "         date_shop_avg_item_cnt_lag_12  date_cat_avg_item_cnt_lag_1  \\\n",
       "4488710                       0.141235                     1.082031   \n",
       "\n",
       "         date_shop_cat_avg_item_cnt_lag_1  date_city_avg_item_cnt_lag_1  \\\n",
       "4488710                          0.955566                      0.148071   \n",
       "\n",
       "         date_item_city_avg_item_cnt_lag_1  delta_price_lag  month  days  \\\n",
       "4488710                                0.0        -0.282715      0    31   \n",
       "\n",
       "         item_shop_last_sale  item_last_sale  item_shop_first_sale  \\\n",
       "4488710                    1               1                    12   \n",
       "\n",
       "         item_first_sale  \n",
       "4488710               12  "
      ]
     },
     "execution_count": 99,
     "metadata": {},
     "output_type": "execute_result"
    }
   ],
   "source": [
    "X_train.head(1)"
   ]
  },
  {
   "cell_type": "code",
   "execution_count": 100,
   "metadata": {},
   "outputs": [
    {
     "data": {
      "text/plain": [
       "4488710    0.0\n",
       "4488711    0.0\n",
       "4488712    0.0\n",
       "4488713    1.0\n",
       "4488714    1.0\n",
       "4488715    0.0\n",
       "4488716    0.0\n",
       "4488717    0.0\n",
       "4488718    0.0\n",
       "4488719    0.0\n",
       "Name: item_cnt_month, dtype: float16"
      ]
     },
     "execution_count": 100,
     "metadata": {},
     "output_type": "execute_result"
    }
   ],
   "source": [
    "Y_train.head(10)"
   ]
  },
  {
   "cell_type": "code",
   "execution_count": 101,
   "metadata": {},
   "outputs": [
    {
     "data": {
      "text/html": [
       "<div>\n",
       "<style scoped>\n",
       "    .dataframe tbody tr th:only-of-type {\n",
       "        vertical-align: middle;\n",
       "    }\n",
       "\n",
       "    .dataframe tbody tr th {\n",
       "        vertical-align: top;\n",
       "    }\n",
       "\n",
       "    .dataframe thead th {\n",
       "        text-align: right;\n",
       "    }\n",
       "</style>\n",
       "<table border=\"1\" class=\"dataframe\">\n",
       "  <thead>\n",
       "    <tr style=\"text-align: right;\">\n",
       "      <th></th>\n",
       "      <th>date_block_num</th>\n",
       "      <th>shop_id</th>\n",
       "      <th>item_id</th>\n",
       "      <th>city_code</th>\n",
       "      <th>item_category_id</th>\n",
       "      <th>type_code</th>\n",
       "      <th>subtype_code</th>\n",
       "      <th>item_cnt_month_lag_1</th>\n",
       "      <th>item_cnt_month_lag_2</th>\n",
       "      <th>item_cnt_month_lag_3</th>\n",
       "      <th>item_cnt_month_lag_6</th>\n",
       "      <th>item_cnt_month_lag_12</th>\n",
       "      <th>date_avg_item_cnt_lag_1</th>\n",
       "      <th>date_item_avg_item_cnt_lag_1</th>\n",
       "      <th>date_item_avg_item_cnt_lag_2</th>\n",
       "      <th>date_item_avg_item_cnt_lag_3</th>\n",
       "      <th>date_item_avg_item_cnt_lag_6</th>\n",
       "      <th>date_item_avg_item_cnt_lag_12</th>\n",
       "      <th>date_shop_avg_item_cnt_lag_1</th>\n",
       "      <th>date_shop_avg_item_cnt_lag_2</th>\n",
       "      <th>date_shop_avg_item_cnt_lag_3</th>\n",
       "      <th>date_shop_avg_item_cnt_lag_6</th>\n",
       "      <th>date_shop_avg_item_cnt_lag_12</th>\n",
       "      <th>date_cat_avg_item_cnt_lag_1</th>\n",
       "      <th>date_shop_cat_avg_item_cnt_lag_1</th>\n",
       "      <th>date_city_avg_item_cnt_lag_1</th>\n",
       "      <th>date_item_city_avg_item_cnt_lag_1</th>\n",
       "      <th>delta_price_lag</th>\n",
       "      <th>month</th>\n",
       "      <th>days</th>\n",
       "      <th>item_shop_last_sale</th>\n",
       "      <th>item_last_sale</th>\n",
       "      <th>item_shop_first_sale</th>\n",
       "      <th>item_first_sale</th>\n",
       "    </tr>\n",
       "  </thead>\n",
       "  <tbody>\n",
       "    <tr>\n",
       "      <th>10675632</th>\n",
       "      <td>33</td>\n",
       "      <td>2</td>\n",
       "      <td>30</td>\n",
       "      <td>0</td>\n",
       "      <td>40</td>\n",
       "      <td>11</td>\n",
       "      <td>4</td>\n",
       "      <td>0.0</td>\n",
       "      <td>0.0</td>\n",
       "      <td>0.0</td>\n",
       "      <td>0.0</td>\n",
       "      <td>0.0</td>\n",
       "      <td>0.263672</td>\n",
       "      <td>0.069763</td>\n",
       "      <td>0.142822</td>\n",
       "      <td>0.093018</td>\n",
       "      <td>0.085083</td>\n",
       "      <td>0.25</td>\n",
       "      <td>0.157959</td>\n",
       "      <td>0.184448</td>\n",
       "      <td>0.143311</td>\n",
       "      <td>0.125122</td>\n",
       "      <td>0.138916</td>\n",
       "      <td>0.200928</td>\n",
       "      <td>0.058746</td>\n",
       "      <td>0.157959</td>\n",
       "      <td>0.0</td>\n",
       "      <td>-0.632324</td>\n",
       "      <td>9</td>\n",
       "      <td>31</td>\n",
       "      <td>1</td>\n",
       "      <td>1</td>\n",
       "      <td>32</td>\n",
       "      <td>32</td>\n",
       "    </tr>\n",
       "  </tbody>\n",
       "</table>\n",
       "</div>"
      ],
      "text/plain": [
       "          date_block_num  shop_id  item_id  city_code  item_category_id  \\\n",
       "10675632              33        2       30          0                40   \n",
       "\n",
       "          type_code  subtype_code  item_cnt_month_lag_1  item_cnt_month_lag_2  \\\n",
       "10675632         11             4                   0.0                   0.0   \n",
       "\n",
       "          item_cnt_month_lag_3  item_cnt_month_lag_6  item_cnt_month_lag_12  \\\n",
       "10675632                   0.0                   0.0                    0.0   \n",
       "\n",
       "          date_avg_item_cnt_lag_1  date_item_avg_item_cnt_lag_1  \\\n",
       "10675632                 0.263672                      0.069763   \n",
       "\n",
       "          date_item_avg_item_cnt_lag_2  date_item_avg_item_cnt_lag_3  \\\n",
       "10675632                      0.142822                      0.093018   \n",
       "\n",
       "          date_item_avg_item_cnt_lag_6  date_item_avg_item_cnt_lag_12  \\\n",
       "10675632                      0.085083                           0.25   \n",
       "\n",
       "          date_shop_avg_item_cnt_lag_1  date_shop_avg_item_cnt_lag_2  \\\n",
       "10675632                      0.157959                      0.184448   \n",
       "\n",
       "          date_shop_avg_item_cnt_lag_3  date_shop_avg_item_cnt_lag_6  \\\n",
       "10675632                      0.143311                      0.125122   \n",
       "\n",
       "          date_shop_avg_item_cnt_lag_12  date_cat_avg_item_cnt_lag_1  \\\n",
       "10675632                       0.138916                     0.200928   \n",
       "\n",
       "          date_shop_cat_avg_item_cnt_lag_1  date_city_avg_item_cnt_lag_1  \\\n",
       "10675632                          0.058746                      0.157959   \n",
       "\n",
       "          date_item_city_avg_item_cnt_lag_1  delta_price_lag  month  days  \\\n",
       "10675632                                0.0        -0.632324      9    31   \n",
       "\n",
       "          item_shop_last_sale  item_last_sale  item_shop_first_sale  \\\n",
       "10675632                    1               1                    32   \n",
       "\n",
       "          item_first_sale  \n",
       "10675632               32  "
      ]
     },
     "execution_count": 101,
     "metadata": {},
     "output_type": "execute_result"
    }
   ],
   "source": [
    "X_valid.head(1)"
   ]
  },
  {
   "cell_type": "code",
   "execution_count": 102,
   "metadata": {},
   "outputs": [
    {
     "data": {
      "text/plain": [
       "10675632    0.0\n",
       "10675633    1.0\n",
       "10675634    0.0\n",
       "10675635    0.0\n",
       "10675636    0.0\n",
       "10675637    0.0\n",
       "10675638    0.0\n",
       "10675639    0.0\n",
       "10675640    0.0\n",
       "10675641    0.0\n",
       "Name: item_cnt_month, dtype: float16"
      ]
     },
     "execution_count": 102,
     "metadata": {},
     "output_type": "execute_result"
    }
   ],
   "source": [
    "Y_valid.head(10)"
   ]
  },
  {
   "cell_type": "code",
   "execution_count": 103,
   "metadata": {
    "scrolled": true
   },
   "outputs": [
    {
     "data": {
      "text/html": [
       "<div>\n",
       "<style scoped>\n",
       "    .dataframe tbody tr th:only-of-type {\n",
       "        vertical-align: middle;\n",
       "    }\n",
       "\n",
       "    .dataframe tbody tr th {\n",
       "        vertical-align: top;\n",
       "    }\n",
       "\n",
       "    .dataframe thead th {\n",
       "        text-align: right;\n",
       "    }\n",
       "</style>\n",
       "<table border=\"1\" class=\"dataframe\">\n",
       "  <thead>\n",
       "    <tr style=\"text-align: right;\">\n",
       "      <th></th>\n",
       "      <th>date_block_num</th>\n",
       "      <th>shop_id</th>\n",
       "      <th>item_id</th>\n",
       "      <th>city_code</th>\n",
       "      <th>item_category_id</th>\n",
       "      <th>type_code</th>\n",
       "      <th>subtype_code</th>\n",
       "      <th>item_cnt_month_lag_1</th>\n",
       "      <th>item_cnt_month_lag_2</th>\n",
       "      <th>item_cnt_month_lag_3</th>\n",
       "      <th>item_cnt_month_lag_6</th>\n",
       "      <th>item_cnt_month_lag_12</th>\n",
       "      <th>date_avg_item_cnt_lag_1</th>\n",
       "      <th>date_item_avg_item_cnt_lag_1</th>\n",
       "      <th>date_item_avg_item_cnt_lag_2</th>\n",
       "      <th>date_item_avg_item_cnt_lag_3</th>\n",
       "      <th>date_item_avg_item_cnt_lag_6</th>\n",
       "      <th>date_item_avg_item_cnt_lag_12</th>\n",
       "      <th>date_shop_avg_item_cnt_lag_1</th>\n",
       "      <th>date_shop_avg_item_cnt_lag_2</th>\n",
       "      <th>date_shop_avg_item_cnt_lag_3</th>\n",
       "      <th>date_shop_avg_item_cnt_lag_6</th>\n",
       "      <th>date_shop_avg_item_cnt_lag_12</th>\n",
       "      <th>date_cat_avg_item_cnt_lag_1</th>\n",
       "      <th>date_shop_cat_avg_item_cnt_lag_1</th>\n",
       "      <th>date_city_avg_item_cnt_lag_1</th>\n",
       "      <th>date_item_city_avg_item_cnt_lag_1</th>\n",
       "      <th>delta_price_lag</th>\n",
       "      <th>month</th>\n",
       "      <th>days</th>\n",
       "      <th>item_shop_last_sale</th>\n",
       "      <th>item_last_sale</th>\n",
       "      <th>item_shop_first_sale</th>\n",
       "      <th>item_first_sale</th>\n",
       "    </tr>\n",
       "  </thead>\n",
       "  <tbody>\n",
       "    <tr>\n",
       "      <th>10913804</th>\n",
       "      <td>34</td>\n",
       "      <td>5</td>\n",
       "      <td>5037</td>\n",
       "      <td>3</td>\n",
       "      <td>19</td>\n",
       "      <td>5</td>\n",
       "      <td>10</td>\n",
       "      <td>0.0</td>\n",
       "      <td>1.0</td>\n",
       "      <td>3.0</td>\n",
       "      <td>1.0</td>\n",
       "      <td>1.0</td>\n",
       "      <td>0.258545</td>\n",
       "      <td>0.568359</td>\n",
       "      <td>2.511719</td>\n",
       "      <td>2.833984</td>\n",
       "      <td>1.977539</td>\n",
       "      <td>1.299805</td>\n",
       "      <td>0.190063</td>\n",
       "      <td>0.205933</td>\n",
       "      <td>0.245117</td>\n",
       "      <td>0.180054</td>\n",
       "      <td>0.206055</td>\n",
       "      <td>0.37915</td>\n",
       "      <td>0.513672</td>\n",
       "      <td>0.190063</td>\n",
       "      <td>0.0</td>\n",
       "      <td>-0.222046</td>\n",
       "      <td>10</td>\n",
       "      <td>30</td>\n",
       "      <td>1</td>\n",
       "      <td>1</td>\n",
       "      <td>14</td>\n",
       "      <td>14</td>\n",
       "    </tr>\n",
       "  </tbody>\n",
       "</table>\n",
       "</div>"
      ],
      "text/plain": [
       "          date_block_num  shop_id  item_id  city_code  item_category_id  \\\n",
       "10913804              34        5     5037          3                19   \n",
       "\n",
       "          type_code  subtype_code  item_cnt_month_lag_1  item_cnt_month_lag_2  \\\n",
       "10913804          5            10                   0.0                   1.0   \n",
       "\n",
       "          item_cnt_month_lag_3  item_cnt_month_lag_6  item_cnt_month_lag_12  \\\n",
       "10913804                   3.0                   1.0                    1.0   \n",
       "\n",
       "          date_avg_item_cnt_lag_1  date_item_avg_item_cnt_lag_1  \\\n",
       "10913804                 0.258545                      0.568359   \n",
       "\n",
       "          date_item_avg_item_cnt_lag_2  date_item_avg_item_cnt_lag_3  \\\n",
       "10913804                      2.511719                      2.833984   \n",
       "\n",
       "          date_item_avg_item_cnt_lag_6  date_item_avg_item_cnt_lag_12  \\\n",
       "10913804                      1.977539                       1.299805   \n",
       "\n",
       "          date_shop_avg_item_cnt_lag_1  date_shop_avg_item_cnt_lag_2  \\\n",
       "10913804                      0.190063                      0.205933   \n",
       "\n",
       "          date_shop_avg_item_cnt_lag_3  date_shop_avg_item_cnt_lag_6  \\\n",
       "10913804                      0.245117                      0.180054   \n",
       "\n",
       "          date_shop_avg_item_cnt_lag_12  date_cat_avg_item_cnt_lag_1  \\\n",
       "10913804                       0.206055                      0.37915   \n",
       "\n",
       "          date_shop_cat_avg_item_cnt_lag_1  date_city_avg_item_cnt_lag_1  \\\n",
       "10913804                          0.513672                      0.190063   \n",
       "\n",
       "          date_item_city_avg_item_cnt_lag_1  delta_price_lag  month  days  \\\n",
       "10913804                                0.0        -0.222046     10    30   \n",
       "\n",
       "          item_shop_last_sale  item_last_sale  item_shop_first_sale  \\\n",
       "10913804                    1               1                    14   \n",
       "\n",
       "          item_first_sale  \n",
       "10913804               14  "
      ]
     },
     "execution_count": 103,
     "metadata": {},
     "output_type": "execute_result"
    }
   ],
   "source": [
    "X_test.head(1)"
   ]
  },
  {
   "cell_type": "markdown",
   "metadata": {},
   "source": [
    "# Models"
   ]
  },
  {
   "cell_type": "markdown",
   "metadata": {},
   "source": [
    "## 1.XGBoost"
   ]
  },
  {
   "cell_type": "code",
   "execution_count": 83,
   "metadata": {},
   "outputs": [
    {
     "name": "stdout",
     "output_type": "stream",
     "text": [
      "[0]\tvalidation_0-rmse:1.15179\tvalidation_1-rmse:1.11774\n",
      "Multiple eval metrics have been passed: 'validation_1-rmse' will be used for early stopping.\n",
      "\n",
      "Will train until validation_1-rmse hasn't improved in 10 rounds.\n",
      "[1]\tvalidation_0-rmse:1.10753\tvalidation_1-rmse:1.08395\n",
      "[2]\tvalidation_0-rmse:1.06724\tvalidation_1-rmse:1.05278\n",
      "[3]\tvalidation_0-rmse:1.03251\tvalidation_1-rmse:1.02682\n",
      "[4]\tvalidation_0-rmse:1.00304\tvalidation_1-rmse:1.00487\n",
      "[5]\tvalidation_0-rmse:0.978405\tvalidation_1-rmse:0.988371\n",
      "[6]\tvalidation_0-rmse:0.957285\tvalidation_1-rmse:0.973155\n",
      "[7]\tvalidation_0-rmse:0.939471\tvalidation_1-rmse:0.962816\n",
      "[8]\tvalidation_0-rmse:0.924087\tvalidation_1-rmse:0.952786\n",
      "[9]\tvalidation_0-rmse:0.911297\tvalidation_1-rmse:0.9448\n",
      "[10]\tvalidation_0-rmse:0.900617\tvalidation_1-rmse:0.938403\n",
      "[11]\tvalidation_0-rmse:0.891762\tvalidation_1-rmse:0.932723\n",
      "[12]\tvalidation_0-rmse:0.883636\tvalidation_1-rmse:0.928693\n",
      "[13]\tvalidation_0-rmse:0.877379\tvalidation_1-rmse:0.925811\n",
      "[14]\tvalidation_0-rmse:0.871099\tvalidation_1-rmse:0.922418\n",
      "[15]\tvalidation_0-rmse:0.866444\tvalidation_1-rmse:0.920117\n",
      "[16]\tvalidation_0-rmse:0.862471\tvalidation_1-rmse:0.918671\n",
      "[17]\tvalidation_0-rmse:0.858127\tvalidation_1-rmse:0.916484\n",
      "[18]\tvalidation_0-rmse:0.854404\tvalidation_1-rmse:0.914728\n",
      "[19]\tvalidation_0-rmse:0.851028\tvalidation_1-rmse:0.912662\n",
      "[20]\tvalidation_0-rmse:0.848376\tvalidation_1-rmse:0.912131\n",
      "[21]\tvalidation_0-rmse:0.846049\tvalidation_1-rmse:0.911632\n",
      "[22]\tvalidation_0-rmse:0.843787\tvalidation_1-rmse:0.910771\n",
      "[23]\tvalidation_0-rmse:0.841859\tvalidation_1-rmse:0.910529\n",
      "[24]\tvalidation_0-rmse:0.840022\tvalidation_1-rmse:0.909648\n",
      "[25]\tvalidation_0-rmse:0.837765\tvalidation_1-rmse:0.909612\n",
      "[26]\tvalidation_0-rmse:0.835675\tvalidation_1-rmse:0.909859\n",
      "[27]\tvalidation_0-rmse:0.834351\tvalidation_1-rmse:0.909805\n",
      "[28]\tvalidation_0-rmse:0.832697\tvalidation_1-rmse:0.909989\n",
      "[29]\tvalidation_0-rmse:0.831427\tvalidation_1-rmse:0.909669\n",
      "[30]\tvalidation_0-rmse:0.830261\tvalidation_1-rmse:0.909747\n",
      "[31]\tvalidation_0-rmse:0.828739\tvalidation_1-rmse:0.909477\n",
      "[32]\tvalidation_0-rmse:0.827445\tvalidation_1-rmse:0.909443\n",
      "[33]\tvalidation_0-rmse:0.826443\tvalidation_1-rmse:0.909454\n",
      "[34]\tvalidation_0-rmse:0.825662\tvalidation_1-rmse:0.909979\n",
      "[35]\tvalidation_0-rmse:0.825046\tvalidation_1-rmse:0.91011\n",
      "[36]\tvalidation_0-rmse:0.824262\tvalidation_1-rmse:0.910368\n",
      "[37]\tvalidation_0-rmse:0.823586\tvalidation_1-rmse:0.910492\n",
      "[38]\tvalidation_0-rmse:0.822874\tvalidation_1-rmse:0.910648\n",
      "[39]\tvalidation_0-rmse:0.821942\tvalidation_1-rmse:0.91113\n",
      "[40]\tvalidation_0-rmse:0.821099\tvalidation_1-rmse:0.911168\n",
      "[41]\tvalidation_0-rmse:0.820561\tvalidation_1-rmse:0.911312\n",
      "[42]\tvalidation_0-rmse:0.820105\tvalidation_1-rmse:0.911118\n",
      "Stopping. Best iteration:\n",
      "[32]\tvalidation_0-rmse:0.827445\tvalidation_1-rmse:0.909443\n",
      "\n"
     ]
    },
    {
     "data": {
      "text/plain": [
       "2062.665502548218"
      ]
     },
     "execution_count": 83,
     "metadata": {},
     "output_type": "execute_result"
    }
   ],
   "source": [
    "ts = time.time()\n",
    "\n",
    "xgboost = XGBRegressor(\n",
    "    max_depth=8,\n",
    "    n_estimators=100,\n",
    "    min_child_weight=300, \n",
    "    colsample_bytree=0.8, \n",
    "    subsample=0.8, \n",
    "    eta=0.3,    \n",
    "    seed=42)\n",
    "\n",
    "xgboost.fit(\n",
    "    X_train, \n",
    "    Y_train, \n",
    "    eval_metric=\"rmse\", \n",
    "    eval_set=[(X_train, Y_train), (X_valid, Y_valid)], \n",
    "    verbose=True, \n",
    "    early_stopping_rounds = 10)\n",
    "\n",
    "time.time() - ts"
   ]
  },
  {
   "cell_type": "code",
   "execution_count": 84,
   "metadata": {},
   "outputs": [],
   "source": [
    "Y_pred = xgboost.predict(X_valid).clip(0, 20)\n",
    "Y_test = xgboost.predict(X_test).clip(0, 20)\n",
    "\n",
    "submission = pd.DataFrame({\n",
    "    \"ID\": test.index, \n",
    "    \"item_cnt_month\": Y_test\n",
    "})\n",
    "submission.to_csv('xgb_submission.csv', index=False)\n",
    "\n",
    "# save predictions for an ensemble\n",
    "pickle.dump(Y_pred, open('xgb_train.pickle', 'wb'))\n",
    "pickle.dump(Y_test, open('xgb_test.pickle', 'wb'))"
   ]
  },
  {
   "cell_type": "markdown",
   "metadata": {},
   "source": [
    "用XGBoost跑出的結果最好的RMSE為0.91187，仍然無法超越 2019.4/23的最佳成績 0.90646。"
   ]
  },
  {
   "cell_type": "markdown",
   "metadata": {},
   "source": [
    "### 查看對XGBoost模型影響的因子排名"
   ]
  },
  {
   "cell_type": "code",
   "execution_count": 85,
   "metadata": {},
   "outputs": [
    {
     "data": {
      "text/plain": [
       "<matplotlib.axes._subplots.AxesSubplot at 0x1a9868f1eb8>"
      ]
     },
     "execution_count": 85,
     "metadata": {},
     "output_type": "execute_result"
    },
    {
     "data": {
      "image/png": "[encoded data removed]",
      "text/plain": [
       "<Figure size 720x1008 with 1 Axes>"
      ]
     },
     "metadata": {
      "needs_background": "light"
     },
     "output_type": "display_data"
    }
   ],
   "source": [
    "plot_features(xgboost, (10,14))"
   ]
  },
  {
   "cell_type": "markdown",
   "metadata": {},
   "source": [
    "## 2.LightGBM"
   ]
  },
  {
   "cell_type": "markdown",
   "metadata": {},
   "source": [
    "利用Grid Search來選出LightGBM最佳的參數組合。\n",
    "因為程式要跑比較久，故這邊只篩選最佳的max_depth、num_leaves組合。"
   ]
  },
  {
   "cell_type": "code",
   "execution_count": null,
   "metadata": {},
   "outputs": [
    {
     "name": "stdout",
     "output_type": "stream",
     "text": [
      "[1]\tvalid_0's l2: 1.29714\tvalid_0's rmse: 1.13892\tvalid_1's l2: 1.21135\tvalid_1's rmse: 1.10062\n",
      "Training until validation scores don't improve for 10 rounds.\n",
      "[2]\tvalid_0's l2: 1.20201\tvalid_0's rmse: 1.09636\tvalid_1's l2: 1.14486\tvalid_1's rmse: 1.06998\n",
      "[3]\tvalid_0's l2: 1.12694\tvalid_0's rmse: 1.06158\tvalid_1's l2: 1.09344\tvalid_1's rmse: 1.04568\n",
      "[4]\tvalid_0's l2: 1.06298\tvalid_0's rmse: 1.03101\tvalid_1's l2: 1.04769\tvalid_1's rmse: 1.02357\n",
      "[5]\tvalid_0's l2: 1.01101\tvalid_0's rmse: 1.00549\tvalid_1's l2: 1.0103\tvalid_1's rmse: 1.00513\n",
      "[6]\tvalid_0's l2: 0.967208\tvalid_0's rmse: 0.983467\tvalid_1's l2: 0.981977\tvalid_1's rmse: 0.990947\n",
      "[7]\tvalid_0's l2: 0.930346\tvalid_0's rmse: 0.964544\tvalid_1's l2: 0.956186\tvalid_1's rmse: 0.977848\n",
      "[8]\tvalid_0's l2: 0.900837\tvalid_0's rmse: 0.949125\tvalid_1's l2: 0.936551\tvalid_1's rmse: 0.967756\n",
      "[9]\tvalid_0's l2: 0.876451\tvalid_0's rmse: 0.93619\tvalid_1's l2: 0.922663\tvalid_1's rmse: 0.960553\n",
      "[10]\tvalid_0's l2: 0.856625\tvalid_0's rmse: 0.92554\tvalid_1's l2: 0.91104\tvalid_1's rmse: 0.954484\n",
      "[11]\tvalid_0's l2: 0.838678\tvalid_0's rmse: 0.915794\tvalid_1's l2: 0.900282\tvalid_1's rmse: 0.948832\n",
      "[12]\tvalid_0's l2: 0.823465\tvalid_0's rmse: 0.907449\tvalid_1's l2: 0.890351\tvalid_1's rmse: 0.943584\n",
      "[13]\tvalid_0's l2: 0.809779\tvalid_0's rmse: 0.899877\tvalid_1's l2: 0.882728\tvalid_1's rmse: 0.939536\n",
      "[14]\tvalid_0's l2: 0.798609\tvalid_0's rmse: 0.893649\tvalid_1's l2: 0.877407\tvalid_1's rmse: 0.9367\n",
      "[15]\tvalid_0's l2: 0.788662\tvalid_0's rmse: 0.888066\tvalid_1's l2: 0.870939\tvalid_1's rmse: 0.933241\n",
      "[16]\tvalid_0's l2: 0.780043\tvalid_0's rmse: 0.883201\tvalid_1's l2: 0.867548\tvalid_1's rmse: 0.931422\n",
      "[17]\tvalid_0's l2: 0.773038\tvalid_0's rmse: 0.879226\tvalid_1's l2: 0.864305\tvalid_1's rmse: 0.92968\n",
      "[18]\tvalid_0's l2: 0.76688\tvalid_0's rmse: 0.875717\tvalid_1's l2: 0.861377\tvalid_1's rmse: 0.928104\n",
      "[19]\tvalid_0's l2: 0.761496\tvalid_0's rmse: 0.872638\tvalid_1's l2: 0.859667\tvalid_1's rmse: 0.927182\n",
      "[20]\tvalid_0's l2: 0.756191\tvalid_0's rmse: 0.869592\tvalid_1's l2: 0.857212\tvalid_1's rmse: 0.925858\n",
      "[21]\tvalid_0's l2: 0.751815\tvalid_0's rmse: 0.867073\tvalid_1's l2: 0.85486\tvalid_1's rmse: 0.924586\n",
      "[22]\tvalid_0's l2: 0.747816\tvalid_0's rmse: 0.864763\tvalid_1's l2: 0.853924\tvalid_1's rmse: 0.92408\n",
      "[23]\tvalid_0's l2: 0.744168\tvalid_0's rmse: 0.862652\tvalid_1's l2: 0.853323\tvalid_1's rmse: 0.923755\n",
      "[24]\tvalid_0's l2: 0.740185\tvalid_0's rmse: 0.86034\tvalid_1's l2: 0.851261\tvalid_1's rmse: 0.922638\n",
      "[25]\tvalid_0's l2: 0.737241\tvalid_0's rmse: 0.858627\tvalid_1's l2: 0.850162\tvalid_1's rmse: 0.922042\n",
      "[26]\tvalid_0's l2: 0.734563\tvalid_0's rmse: 0.857066\tvalid_1's l2: 0.84916\tvalid_1's rmse: 0.921499\n",
      "[27]\tvalid_0's l2: 0.732067\tvalid_0's rmse: 0.855609\tvalid_1's l2: 0.848175\tvalid_1's rmse: 0.920964\n",
      "[28]\tvalid_0's l2: 0.729458\tvalid_0's rmse: 0.854083\tvalid_1's l2: 0.847254\tvalid_1's rmse: 0.920464\n",
      "[29]\tvalid_0's l2: 0.726476\tvalid_0's rmse: 0.852336\tvalid_1's l2: 0.844815\tvalid_1's rmse: 0.919138\n",
      "[30]\tvalid_0's l2: 0.724534\tvalid_0's rmse: 0.851196\tvalid_1's l2: 0.843529\tvalid_1's rmse: 0.918438\n",
      "[31]\tvalid_0's l2: 0.722532\tvalid_0's rmse: 0.850019\tvalid_1's l2: 0.843183\tvalid_1's rmse: 0.91825\n",
      "[32]\tvalid_0's l2: 0.720271\tvalid_0's rmse: 0.848688\tvalid_1's l2: 0.843226\tvalid_1's rmse: 0.918274\n",
      "[33]\tvalid_0's l2: 0.718315\tvalid_0's rmse: 0.847534\tvalid_1's l2: 0.842959\tvalid_1's rmse: 0.918128\n",
      "[34]\tvalid_0's l2: 0.716796\tvalid_0's rmse: 0.846638\tvalid_1's l2: 0.842992\tvalid_1's rmse: 0.918146\n",
      "[35]\tvalid_0's l2: 0.715402\tvalid_0's rmse: 0.845814\tvalid_1's l2: 0.843365\tvalid_1's rmse: 0.918349\n",
      "[36]\tvalid_0's l2: 0.713984\tvalid_0's rmse: 0.844976\tvalid_1's l2: 0.842457\tvalid_1's rmse: 0.917854\n",
      "[37]\tvalid_0's l2: 0.71265\tvalid_0's rmse: 0.844186\tvalid_1's l2: 0.842915\tvalid_1's rmse: 0.918104\n",
      "[38]\tvalid_0's l2: 0.711234\tvalid_0's rmse: 0.843347\tvalid_1's l2: 0.842915\tvalid_1's rmse: 0.918104\n",
      "[39]\tvalid_0's l2: 0.709428\tvalid_0's rmse: 0.842276\tvalid_1's l2: 0.841758\tvalid_1's rmse: 0.917474\n",
      "[40]\tvalid_0's l2: 0.708313\tvalid_0's rmse: 0.841613\tvalid_1's l2: 0.842133\tvalid_1's rmse: 0.917678\n",
      "[41]\tvalid_0's l2: 0.706822\tvalid_0's rmse: 0.840727\tvalid_1's l2: 0.844504\tvalid_1's rmse: 0.918969\n",
      "[42]\tvalid_0's l2: 0.705903\tvalid_0's rmse: 0.840181\tvalid_1's l2: 0.844396\tvalid_1's rmse: 0.91891\n",
      "[43]\tvalid_0's l2: 0.704869\tvalid_0's rmse: 0.839565\tvalid_1's l2: 0.844845\tvalid_1's rmse: 0.919155\n",
      "[44]\tvalid_0's l2: 0.703878\tvalid_0's rmse: 0.838974\tvalid_1's l2: 0.845858\tvalid_1's rmse: 0.919706\n",
      "[45]\tvalid_0's l2: 0.702849\tvalid_0's rmse: 0.838361\tvalid_1's l2: 0.846399\tvalid_1's rmse: 0.919999\n",
      "[46]\tvalid_0's l2: 0.701622\tvalid_0's rmse: 0.837629\tvalid_1's l2: 0.846077\tvalid_1's rmse: 0.919824\n",
      "[47]\tvalid_0's l2: 0.701052\tvalid_0's rmse: 0.837289\tvalid_1's l2: 0.845939\tvalid_1's rmse: 0.919749\n",
      "[48]\tvalid_0's l2: 0.700221\tvalid_0's rmse: 0.836792\tvalid_1's l2: 0.848014\tvalid_1's rmse: 0.920877\n",
      "[49]\tvalid_0's l2: 0.69928\tvalid_0's rmse: 0.83623\tvalid_1's l2: 0.84834\tvalid_1's rmse: 0.921054\n",
      "Early stopping, best iteration is:\n",
      "[39]\tvalid_0's l2: 0.709428\tvalid_0's rmse: 0.842276\tvalid_1's l2: 0.841758\tvalid_1's rmse: 0.917474\n"
     ]
    },
    {
     "name": "stderr",
     "output_type": "stream",
     "text": [
      "d:\\python\\lib\\site-packages\\numpy\\core\\_methods.py:36: RuntimeWarning: overflow encountered in reduce\n",
      "  return umr_sum(a, axis, dtype, out, keepdims, initial)\n",
      "d:\\python\\lib\\site-packages\\numpy\\core\\_methods.py:36: RuntimeWarning: overflow encountered in reduce\n",
      "  return umr_sum(a, axis, dtype, out, keepdims, initial)\n"
     ]
    },
    {
     "name": "stdout",
     "output_type": "stream",
     "text": [
      "[1]\tvalid_0's l2: 1.30087\tvalid_0's rmse: 1.14056\tvalid_1's l2: 1.21583\tvalid_1's rmse: 1.10265\n",
      "Training until validation scores don't improve for 10 rounds.\n",
      "[2]\tvalid_0's l2: 1.20765\tvalid_0's rmse: 1.09893\tvalid_1's l2: 1.14775\tvalid_1's rmse: 1.07133\n",
      "[3]\tvalid_0's l2: 1.13445\tvalid_0's rmse: 1.0651\tvalid_1's l2: 1.09688\tvalid_1's rmse: 1.04732\n",
      "[4]\tvalid_0's l2: 1.07112\tvalid_0's rmse: 1.03495\tvalid_1's l2: 1.05132\tvalid_1's rmse: 1.02534\n",
      "[5]\tvalid_0's l2: 1.01875\tvalid_0's rmse: 1.00933\tvalid_1's l2: 1.01493\tvalid_1's rmse: 1.00744\n",
      "[6]\tvalid_0's l2: 0.975052\tvalid_0's rmse: 0.987447\tvalid_1's l2: 0.984609\tvalid_1's rmse: 0.992275\n",
      "[7]\tvalid_0's l2: 0.938716\tvalid_0's rmse: 0.968873\tvalid_1's l2: 0.961005\tvalid_1's rmse: 0.980308\n",
      "[8]\tvalid_0's l2: 0.908172\tvalid_0's rmse: 0.952981\tvalid_1's l2: 0.941832\tvalid_1's rmse: 0.970481\n",
      "[9]\tvalid_0's l2: 0.883239\tvalid_0's rmse: 0.939808\tvalid_1's l2: 0.928014\tvalid_1's rmse: 0.963335\n",
      "[10]\tvalid_0's l2: 0.862427\tvalid_0's rmse: 0.92867\tvalid_1's l2: 0.915155\tvalid_1's rmse: 0.956637\n",
      "[11]\tvalid_0's l2: 0.843978\tvalid_0's rmse: 0.918683\tvalid_1's l2: 0.90324\tvalid_1's rmse: 0.95039\n",
      "[12]\tvalid_0's l2: 0.828777\tvalid_0's rmse: 0.910372\tvalid_1's l2: 0.893573\tvalid_1's rmse: 0.94529\n",
      "[13]\tvalid_0's l2: 0.81566\tvalid_0's rmse: 0.903139\tvalid_1's l2: 0.886066\tvalid_1's rmse: 0.941311\n",
      "[14]\tvalid_0's l2: 0.804381\tvalid_0's rmse: 0.896873\tvalid_1's l2: 0.879771\tvalid_1's rmse: 0.937961\n",
      "[15]\tvalid_0's l2: 0.79382\tvalid_0's rmse: 0.890966\tvalid_1's l2: 0.875179\tvalid_1's rmse: 0.93551\n",
      "[16]\tvalid_0's l2: 0.784787\tvalid_0's rmse: 0.885882\tvalid_1's l2: 0.872686\tvalid_1's rmse: 0.934176\n",
      "[17]\tvalid_0's l2: 0.77721\tvalid_0's rmse: 0.881595\tvalid_1's l2: 0.870323\tvalid_1's rmse: 0.932911\n",
      "[18]\tvalid_0's l2: 0.770545\tvalid_0's rmse: 0.877807\tvalid_1's l2: 0.866726\tvalid_1's rmse: 0.930981\n",
      "[19]\tvalid_0's l2: 0.764498\tvalid_0's rmse: 0.874356\tvalid_1's l2: 0.863497\tvalid_1's rmse: 0.929245\n",
      "[20]\tvalid_0's l2: 0.759091\tvalid_0's rmse: 0.871258\tvalid_1's l2: 0.861516\tvalid_1's rmse: 0.928179\n",
      "[21]\tvalid_0's l2: 0.753944\tvalid_0's rmse: 0.8683\tvalid_1's l2: 0.858488\tvalid_1's rmse: 0.926546\n",
      "[22]\tvalid_0's l2: 0.749361\tvalid_0's rmse: 0.865656\tvalid_1's l2: 0.855239\tvalid_1's rmse: 0.924791\n",
      "[23]\tvalid_0's l2: 0.745283\tvalid_0's rmse: 0.863298\tvalid_1's l2: 0.853824\tvalid_1's rmse: 0.924026\n",
      "[24]\tvalid_0's l2: 0.741742\tvalid_0's rmse: 0.861244\tvalid_1's l2: 0.851476\tvalid_1's rmse: 0.922755\n",
      "[25]\tvalid_0's l2: 0.738592\tvalid_0's rmse: 0.859414\tvalid_1's l2: 0.850294\tvalid_1's rmse: 0.922114\n",
      "[26]\tvalid_0's l2: 0.735475\tvalid_0's rmse: 0.857598\tvalid_1's l2: 0.849522\tvalid_1's rmse: 0.921695\n",
      "[27]\tvalid_0's l2: 0.7328\tvalid_0's rmse: 0.856038\tvalid_1's l2: 0.84779\tvalid_1's rmse: 0.920755\n",
      "[28]\tvalid_0's l2: 0.729766\tvalid_0's rmse: 0.854263\tvalid_1's l2: 0.84816\tvalid_1's rmse: 0.920956\n",
      "[29]\tvalid_0's l2: 0.726749\tvalid_0's rmse: 0.852496\tvalid_1's l2: 0.846618\tvalid_1's rmse: 0.920118\n",
      "[30]\tvalid_0's l2: 0.724103\tvalid_0's rmse: 0.850942\tvalid_1's l2: 0.845986\tvalid_1's rmse: 0.919775\n",
      "[31]\tvalid_0's l2: 0.722018\tvalid_0's rmse: 0.849716\tvalid_1's l2: 0.845404\tvalid_1's rmse: 0.919459\n",
      "[32]\tvalid_0's l2: 0.719409\tvalid_0's rmse: 0.84818\tvalid_1's l2: 0.843618\tvalid_1's rmse: 0.918487\n",
      "[33]\tvalid_0's l2: 0.71748\tvalid_0's rmse: 0.847042\tvalid_1's l2: 0.842952\tvalid_1's rmse: 0.918124\n",
      "[34]\tvalid_0's l2: 0.715815\tvalid_0's rmse: 0.846058\tvalid_1's l2: 0.843789\tvalid_1's rmse: 0.91858\n",
      "[35]\tvalid_0's l2: 0.713894\tvalid_0's rmse: 0.844922\tvalid_1's l2: 0.84375\tvalid_1's rmse: 0.918559\n",
      "[36]\tvalid_0's l2: 0.712342\tvalid_0's rmse: 0.844003\tvalid_1's l2: 0.842382\tvalid_1's rmse: 0.917814\n",
      "[37]\tvalid_0's l2: 0.710818\tvalid_0's rmse: 0.8431\tvalid_1's l2: 0.842134\tvalid_1's rmse: 0.917679\n",
      "[38]\tvalid_0's l2: 0.70936\tvalid_0's rmse: 0.842235\tvalid_1's l2: 0.840912\tvalid_1's rmse: 0.917012\n",
      "[39]\tvalid_0's l2: 0.707807\tvalid_0's rmse: 0.841313\tvalid_1's l2: 0.840642\tvalid_1's rmse: 0.916865\n",
      "[40]\tvalid_0's l2: 0.706465\tvalid_0's rmse: 0.840515\tvalid_1's l2: 0.840526\tvalid_1's rmse: 0.916802\n",
      "[41]\tvalid_0's l2: 0.705489\tvalid_0's rmse: 0.839934\tvalid_1's l2: 0.839696\tvalid_1's rmse: 0.916349\n",
      "[42]\tvalid_0's l2: 0.704538\tvalid_0's rmse: 0.839367\tvalid_1's l2: 0.839101\tvalid_1's rmse: 0.916024\n",
      "[43]\tvalid_0's l2: 0.703397\tvalid_0's rmse: 0.838688\tvalid_1's l2: 0.839221\tvalid_1's rmse: 0.91609\n",
      "[44]\tvalid_0's l2: 0.702302\tvalid_0's rmse: 0.838035\tvalid_1's l2: 0.839019\tvalid_1's rmse: 0.91598\n",
      "[45]\tvalid_0's l2: 0.70088\tvalid_0's rmse: 0.837186\tvalid_1's l2: 0.839533\tvalid_1's rmse: 0.91626\n",
      "[46]\tvalid_0's l2: 0.699901\tvalid_0's rmse: 0.836601\tvalid_1's l2: 0.841369\tvalid_1's rmse: 0.917262\n",
      "[47]\tvalid_0's l2: 0.699053\tvalid_0's rmse: 0.836094\tvalid_1's l2: 0.841494\tvalid_1's rmse: 0.91733\n",
      "[48]\tvalid_0's l2: 0.698075\tvalid_0's rmse: 0.835509\tvalid_1's l2: 0.841174\tvalid_1's rmse: 0.917155\n",
      "[49]\tvalid_0's l2: 0.697289\tvalid_0's rmse: 0.835038\tvalid_1's l2: 0.841795\tvalid_1's rmse: 0.917494\n",
      "[50]\tvalid_0's l2: 0.696603\tvalid_0's rmse: 0.834627\tvalid_1's l2: 0.841661\tvalid_1's rmse: 0.917421\n",
      "[51]\tvalid_0's l2: 0.695498\tvalid_0's rmse: 0.833965\tvalid_1's l2: 0.841721\tvalid_1's rmse: 0.917454\n",
      "[52]\tvalid_0's l2: 0.694476\tvalid_0's rmse: 0.833352\tvalid_1's l2: 0.842192\tvalid_1's rmse: 0.91771\n",
      "[53]\tvalid_0's l2: 0.693754\tvalid_0's rmse: 0.832919\tvalid_1's l2: 0.841784\tvalid_1's rmse: 0.917488\n",
      "[54]\tvalid_0's l2: 0.692859\tvalid_0's rmse: 0.832381\tvalid_1's l2: 0.841907\tvalid_1's rmse: 0.917555\n",
      "Early stopping, best iteration is:\n",
      "[44]\tvalid_0's l2: 0.702302\tvalid_0's rmse: 0.838035\tvalid_1's l2: 0.839019\tvalid_1's rmse: 0.91598\n"
     ]
    },
    {
     "name": "stderr",
     "output_type": "stream",
     "text": [
      "d:\\python\\lib\\site-packages\\numpy\\core\\_methods.py:36: RuntimeWarning: overflow encountered in reduce\n",
      "  return umr_sum(a, axis, dtype, out, keepdims, initial)\n",
      "d:\\python\\lib\\site-packages\\numpy\\core\\_methods.py:36: RuntimeWarning: overflow encountered in reduce\n",
      "  return umr_sum(a, axis, dtype, out, keepdims, initial)\n"
     ]
    },
    {
     "name": "stdout",
     "output_type": "stream",
     "text": [
      "[1]\tvalid_0's l2: 1.30155\tvalid_0's rmse: 1.14086\tvalid_1's l2: 1.21547\tvalid_1's rmse: 1.10248\n",
      "Training until validation scores don't improve for 10 rounds.\n",
      "[2]\tvalid_0's l2: 1.20876\tvalid_0's rmse: 1.09944\tvalid_1's l2: 1.1483\tvalid_1's rmse: 1.07159\n",
      "[3]\tvalid_0's l2: 1.13569\tvalid_0's rmse: 1.06569\tvalid_1's l2: 1.09744\tvalid_1's rmse: 1.04759\n",
      "[4]\tvalid_0's l2: 1.07311\tvalid_0's rmse: 1.03591\tvalid_1's l2: 1.05185\tvalid_1's rmse: 1.0256\n",
      "[5]\tvalid_0's l2: 1.02128\tvalid_0's rmse: 1.01058\tvalid_1's l2: 1.01449\tvalid_1's rmse: 1.00722\n",
      "[6]\tvalid_0's l2: 0.978125\tvalid_0's rmse: 0.989002\tvalid_1's l2: 0.984557\tvalid_1's rmse: 0.992249\n",
      "[7]\tvalid_0's l2: 0.942082\tvalid_0's rmse: 0.970609\tvalid_1's l2: 0.961919\tvalid_1's rmse: 0.980775\n",
      "[8]\tvalid_0's l2: 0.911181\tvalid_0's rmse: 0.954558\tvalid_1's l2: 0.941232\tvalid_1's rmse: 0.970171\n",
      "[9]\tvalid_0's l2: 0.885959\tvalid_0's rmse: 0.941254\tvalid_1's l2: 0.925366\tvalid_1's rmse: 0.96196\n",
      "[10]\tvalid_0's l2: 0.864963\tvalid_0's rmse: 0.930034\tvalid_1's l2: 0.913082\tvalid_1's rmse: 0.955553\n",
      "[11]\tvalid_0's l2: 0.847255\tvalid_0's rmse: 0.920464\tvalid_1's l2: 0.903415\tvalid_1's rmse: 0.950481\n",
      "[12]\tvalid_0's l2: 0.830929\tvalid_0's rmse: 0.911553\tvalid_1's l2: 0.892072\tvalid_1's rmse: 0.944496\n",
      "[13]\tvalid_0's l2: 0.817034\tvalid_0's rmse: 0.903899\tvalid_1's l2: 0.882804\tvalid_1's rmse: 0.939576\n",
      "[14]\tvalid_0's l2: 0.805401\tvalid_0's rmse: 0.897442\tvalid_1's l2: 0.876263\tvalid_1's rmse: 0.936089\n",
      "[15]\tvalid_0's l2: 0.79474\tvalid_0's rmse: 0.891482\tvalid_1's l2: 0.871893\tvalid_1's rmse: 0.933752\n",
      "[16]\tvalid_0's l2: 0.785492\tvalid_0's rmse: 0.88628\tvalid_1's l2: 0.866018\tvalid_1's rmse: 0.930601\n",
      "[17]\tvalid_0's l2: 0.777701\tvalid_0's rmse: 0.881873\tvalid_1's l2: 0.862147\tvalid_1's rmse: 0.928519\n",
      "[18]\tvalid_0's l2: 0.771137\tvalid_0's rmse: 0.878144\tvalid_1's l2: 0.859803\tvalid_1's rmse: 0.927255\n",
      "[19]\tvalid_0's l2: 0.765864\tvalid_0's rmse: 0.875136\tvalid_1's l2: 0.857559\tvalid_1's rmse: 0.926045\n",
      "[20]\tvalid_0's l2: 0.760736\tvalid_0's rmse: 0.872202\tvalid_1's l2: 0.855149\tvalid_1's rmse: 0.924742\n",
      "[21]\tvalid_0's l2: 0.756023\tvalid_0's rmse: 0.869496\tvalid_1's l2: 0.854066\tvalid_1's rmse: 0.924157\n",
      "[22]\tvalid_0's l2: 0.752128\tvalid_0's rmse: 0.867253\tvalid_1's l2: 0.853513\tvalid_1's rmse: 0.923857\n",
      "[23]\tvalid_0's l2: 0.74853\tvalid_0's rmse: 0.865176\tvalid_1's l2: 0.852388\tvalid_1's rmse: 0.923248\n",
      "[24]\tvalid_0's l2: 0.744618\tvalid_0's rmse: 0.862913\tvalid_1's l2: 0.850955\tvalid_1's rmse: 0.922472\n",
      "[25]\tvalid_0's l2: 0.741403\tvalid_0's rmse: 0.861048\tvalid_1's l2: 0.848863\tvalid_1's rmse: 0.921338\n",
      "[26]\tvalid_0's l2: 0.738649\tvalid_0's rmse: 0.859447\tvalid_1's l2: 0.848057\tvalid_1's rmse: 0.9209\n",
      "[27]\tvalid_0's l2: 0.735909\tvalid_0's rmse: 0.857851\tvalid_1's l2: 0.847468\tvalid_1's rmse: 0.92058\n",
      "[28]\tvalid_0's l2: 0.733676\tvalid_0's rmse: 0.856549\tvalid_1's l2: 0.847185\tvalid_1's rmse: 0.920426\n",
      "[29]\tvalid_0's l2: 0.731562\tvalid_0's rmse: 0.855314\tvalid_1's l2: 0.847829\tvalid_1's rmse: 0.920777\n",
      "[30]\tvalid_0's l2: 0.729572\tvalid_0's rmse: 0.85415\tvalid_1's l2: 0.847722\tvalid_1's rmse: 0.920718\n",
      "[31]\tvalid_0's l2: 0.727896\tvalid_0's rmse: 0.853168\tvalid_1's l2: 0.847019\tvalid_1's rmse: 0.920336\n",
      "[32]\tvalid_0's l2: 0.726029\tvalid_0's rmse: 0.852073\tvalid_1's l2: 0.847875\tvalid_1's rmse: 0.920801\n",
      "[33]\tvalid_0's l2: 0.72355\tvalid_0's rmse: 0.850617\tvalid_1's l2: 0.847799\tvalid_1's rmse: 0.92076\n",
      "[34]\tvalid_0's l2: 0.721914\tvalid_0's rmse: 0.849655\tvalid_1's l2: 0.847003\tvalid_1's rmse: 0.920328\n",
      "[35]\tvalid_0's l2: 0.720532\tvalid_0's rmse: 0.848842\tvalid_1's l2: 0.847774\tvalid_1's rmse: 0.920747\n",
      "[36]\tvalid_0's l2: 0.718974\tvalid_0's rmse: 0.847923\tvalid_1's l2: 0.84752\tvalid_1's rmse: 0.920608\n",
      "[37]\tvalid_0's l2: 0.716911\tvalid_0's rmse: 0.846706\tvalid_1's l2: 0.846136\tvalid_1's rmse: 0.919856\n",
      "[38]\tvalid_0's l2: 0.715477\tvalid_0's rmse: 0.845859\tvalid_1's l2: 0.847028\tvalid_1's rmse: 0.920341\n",
      "[39]\tvalid_0's l2: 0.713793\tvalid_0's rmse: 0.844863\tvalid_1's l2: 0.847168\tvalid_1's rmse: 0.920417\n",
      "[40]\tvalid_0's l2: 0.712702\tvalid_0's rmse: 0.844217\tvalid_1's l2: 0.847464\tvalid_1's rmse: 0.920578\n",
      "[41]\tvalid_0's l2: 0.711275\tvalid_0's rmse: 0.843371\tvalid_1's l2: 0.848624\tvalid_1's rmse: 0.921208\n",
      "[42]\tvalid_0's l2: 0.710481\tvalid_0's rmse: 0.8429\tvalid_1's l2: 0.848345\tvalid_1's rmse: 0.921056\n",
      "[43]\tvalid_0's l2: 0.709454\tvalid_0's rmse: 0.842291\tvalid_1's l2: 0.848933\tvalid_1's rmse: 0.921375\n",
      "[44]\tvalid_0's l2: 0.708524\tvalid_0's rmse: 0.841739\tvalid_1's l2: 0.84938\tvalid_1's rmse: 0.921618\n",
      "[45]\tvalid_0's l2: 0.707507\tvalid_0's rmse: 0.841134\tvalid_1's l2: 0.850418\tvalid_1's rmse: 0.922181\n",
      "[46]\tvalid_0's l2: 0.706684\tvalid_0's rmse: 0.840645\tvalid_1's l2: 0.851049\tvalid_1's rmse: 0.922523\n",
      "[47]\tvalid_0's l2: 0.705719\tvalid_0's rmse: 0.840071\tvalid_1's l2: 0.85151\tvalid_1's rmse: 0.922773\n",
      "Early stopping, best iteration is:\n",
      "[37]\tvalid_0's l2: 0.716911\tvalid_0's rmse: 0.846706\tvalid_1's l2: 0.846136\tvalid_1's rmse: 0.919856\n"
     ]
    },
    {
     "name": "stderr",
     "output_type": "stream",
     "text": [
      "d:\\python\\lib\\site-packages\\numpy\\core\\_methods.py:36: RuntimeWarning: overflow encountered in reduce\n",
      "  return umr_sum(a, axis, dtype, out, keepdims, initial)\n",
      "d:\\python\\lib\\site-packages\\numpy\\core\\_methods.py:36: RuntimeWarning: overflow encountered in reduce\n",
      "  return umr_sum(a, axis, dtype, out, keepdims, initial)\n"
     ]
    },
    {
     "name": "stdout",
     "output_type": "stream",
     "text": [
      "[1]\tvalid_0's l2: 1.29878\tvalid_0's rmse: 1.13964\tvalid_1's l2: 1.21372\tvalid_1's rmse: 1.10169\n",
      "Training until validation scores don't improve for 10 rounds.\n",
      "[2]\tvalid_0's l2: 1.20482\tvalid_0's rmse: 1.09764\tvalid_1's l2: 1.1464\tvalid_1's rmse: 1.0707\n",
      "[3]\tvalid_0's l2: 1.13151\tvalid_0's rmse: 1.06372\tvalid_1's l2: 1.09649\tvalid_1's rmse: 1.04713\n",
      "[4]\tvalid_0's l2: 1.06803\tvalid_0's rmse: 1.03346\tvalid_1's l2: 1.04988\tvalid_1's rmse: 1.02464\n",
      "[5]\tvalid_0's l2: 1.01629\tvalid_0's rmse: 1.00811\tvalid_1's l2: 1.01365\tvalid_1's rmse: 1.0068\n",
      "[6]\tvalid_0's l2: 0.971947\tvalid_0's rmse: 0.985874\tvalid_1's l2: 0.984039\tvalid_1's rmse: 0.991987\n",
      "[7]\tvalid_0's l2: 0.936435\tvalid_0's rmse: 0.967696\tvalid_1's l2: 0.959346\tvalid_1's rmse: 0.979462\n",
      "[8]\tvalid_0's l2: 0.905452\tvalid_0's rmse: 0.951552\tvalid_1's l2: 0.941526\tvalid_1's rmse: 0.970323\n",
      "[9]\tvalid_0's l2: 0.880975\tvalid_0's rmse: 0.938603\tvalid_1's l2: 0.926242\tvalid_1's rmse: 0.962415\n",
      "[10]\tvalid_0's l2: 0.860824\tvalid_0's rmse: 0.927806\tvalid_1's l2: 0.91404\tvalid_1's rmse: 0.956054\n",
      "[11]\tvalid_0's l2: 0.843547\tvalid_0's rmse: 0.918448\tvalid_1's l2: 0.90507\tvalid_1's rmse: 0.951352\n",
      "[12]\tvalid_0's l2: 0.827968\tvalid_0's rmse: 0.909927\tvalid_1's l2: 0.895893\tvalid_1's rmse: 0.946516\n",
      "[13]\tvalid_0's l2: 0.814864\tvalid_0's rmse: 0.902698\tvalid_1's l2: 0.888276\tvalid_1's rmse: 0.942484\n",
      "[14]\tvalid_0's l2: 0.80391\tvalid_0's rmse: 0.89661\tvalid_1's l2: 0.883393\tvalid_1's rmse: 0.93989\n",
      "[15]\tvalid_0's l2: 0.793398\tvalid_0's rmse: 0.890729\tvalid_1's l2: 0.877404\tvalid_1's rmse: 0.936699\n",
      "[16]\tvalid_0's l2: 0.784442\tvalid_0's rmse: 0.885687\tvalid_1's l2: 0.877609\tvalid_1's rmse: 0.936808\n",
      "[17]\tvalid_0's l2: 0.77675\tvalid_0's rmse: 0.881334\tvalid_1's l2: 0.872968\tvalid_1's rmse: 0.934328\n",
      "[18]\tvalid_0's l2: 0.769663\tvalid_0's rmse: 0.877304\tvalid_1's l2: 0.871928\tvalid_1's rmse: 0.933771\n",
      "[19]\tvalid_0's l2: 0.764391\tvalid_0's rmse: 0.874294\tvalid_1's l2: 0.869897\tvalid_1's rmse: 0.932683\n",
      "[20]\tvalid_0's l2: 0.758762\tvalid_0's rmse: 0.87107\tvalid_1's l2: 0.867097\tvalid_1's rmse: 0.93118\n",
      "[21]\tvalid_0's l2: 0.753735\tvalid_0's rmse: 0.868179\tvalid_1's l2: 0.864823\tvalid_1's rmse: 0.929958\n",
      "[22]\tvalid_0's l2: 0.749439\tvalid_0's rmse: 0.865701\tvalid_1's l2: 0.866762\tvalid_1's rmse: 0.931001\n",
      "[23]\tvalid_0's l2: 0.745748\tvalid_0's rmse: 0.863567\tvalid_1's l2: 0.865504\tvalid_1's rmse: 0.930325\n",
      "[24]\tvalid_0's l2: 0.742301\tvalid_0's rmse: 0.861569\tvalid_1's l2: 0.864232\tvalid_1's rmse: 0.929641\n",
      "[25]\tvalid_0's l2: 0.739041\tvalid_0's rmse: 0.859675\tvalid_1's l2: 0.862983\tvalid_1's rmse: 0.928969\n",
      "[26]\tvalid_0's l2: 0.735363\tvalid_0's rmse: 0.857533\tvalid_1's l2: 0.860429\tvalid_1's rmse: 0.927593\n",
      "[27]\tvalid_0's l2: 0.732697\tvalid_0's rmse: 0.855977\tvalid_1's l2: 0.859152\tvalid_1's rmse: 0.926905\n",
      "[28]\tvalid_0's l2: 0.729629\tvalid_0's rmse: 0.854183\tvalid_1's l2: 0.857339\tvalid_1's rmse: 0.925926\n",
      "[29]\tvalid_0's l2: 0.727271\tvalid_0's rmse: 0.852802\tvalid_1's l2: 0.857108\tvalid_1's rmse: 0.925801\n",
      "[30]\tvalid_0's l2: 0.724851\tvalid_0's rmse: 0.851382\tvalid_1's l2: 0.856371\tvalid_1's rmse: 0.925403\n",
      "[31]\tvalid_0's l2: 0.72269\tvalid_0's rmse: 0.850112\tvalid_1's l2: 0.855448\tvalid_1's rmse: 0.924904\n",
      "[32]\tvalid_0's l2: 0.720991\tvalid_0's rmse: 0.849112\tvalid_1's l2: 0.853802\tvalid_1's rmse: 0.924014\n",
      "[33]\tvalid_0's l2: 0.719052\tvalid_0's rmse: 0.847969\tvalid_1's l2: 0.853048\tvalid_1's rmse: 0.923606\n",
      "[34]\tvalid_0's l2: 0.717634\tvalid_0's rmse: 0.847133\tvalid_1's l2: 0.852586\tvalid_1's rmse: 0.923356\n",
      "[35]\tvalid_0's l2: 0.715096\tvalid_0's rmse: 0.845633\tvalid_1's l2: 0.850749\tvalid_1's rmse: 0.92236\n",
      "[36]\tvalid_0's l2: 0.713453\tvalid_0's rmse: 0.844662\tvalid_1's l2: 0.850141\tvalid_1's rmse: 0.922031\n",
      "[37]\tvalid_0's l2: 0.712119\tvalid_0's rmse: 0.843871\tvalid_1's l2: 0.850273\tvalid_1's rmse: 0.922102\n",
      "[38]\tvalid_0's l2: 0.710544\tvalid_0's rmse: 0.842937\tvalid_1's l2: 0.850413\tvalid_1's rmse: 0.922178\n",
      "[39]\tvalid_0's l2: 0.709155\tvalid_0's rmse: 0.842113\tvalid_1's l2: 0.851088\tvalid_1's rmse: 0.922544\n",
      "[40]\tvalid_0's l2: 0.707994\tvalid_0's rmse: 0.841424\tvalid_1's l2: 0.850576\tvalid_1's rmse: 0.922267\n",
      "[41]\tvalid_0's l2: 0.70636\tvalid_0's rmse: 0.840452\tvalid_1's l2: 0.851662\tvalid_1's rmse: 0.922856\n",
      "[42]\tvalid_0's l2: 0.704741\tvalid_0's rmse: 0.839489\tvalid_1's l2: 0.851059\tvalid_1's rmse: 0.922529\n",
      "[43]\tvalid_0's l2: 0.703889\tvalid_0's rmse: 0.838981\tvalid_1's l2: 0.850809\tvalid_1's rmse: 0.922393\n",
      "[44]\tvalid_0's l2: 0.702884\tvalid_0's rmse: 0.838382\tvalid_1's l2: 0.850115\tvalid_1's rmse: 0.922017\n",
      "[45]\tvalid_0's l2: 0.702015\tvalid_0's rmse: 0.837863\tvalid_1's l2: 0.850152\tvalid_1's rmse: 0.922037\n",
      "[46]\tvalid_0's l2: 0.701018\tvalid_0's rmse: 0.837268\tvalid_1's l2: 0.850659\tvalid_1's rmse: 0.922312\n",
      "[47]\tvalid_0's l2: 0.70038\tvalid_0's rmse: 0.836887\tvalid_1's l2: 0.851588\tvalid_1's rmse: 0.922815\n",
      "[48]\tvalid_0's l2: 0.699277\tvalid_0's rmse: 0.836228\tvalid_1's l2: 0.85215\tvalid_1's rmse: 0.92312\n",
      "[49]\tvalid_0's l2: 0.698509\tvalid_0's rmse: 0.835768\tvalid_1's l2: 0.853363\tvalid_1's rmse: 0.923776\n",
      "[50]\tvalid_0's l2: 0.69774\tvalid_0's rmse: 0.835308\tvalid_1's l2: 0.852669\tvalid_1's rmse: 0.923401\n",
      "[51]\tvalid_0's l2: 0.69691\tvalid_0's rmse: 0.834812\tvalid_1's l2: 0.852627\tvalid_1's rmse: 0.923378\n",
      "[52]\tvalid_0's l2: 0.696205\tvalid_0's rmse: 0.834389\tvalid_1's l2: 0.852883\tvalid_1's rmse: 0.923517\n",
      "[53]\tvalid_0's l2: 0.69534\tvalid_0's rmse: 0.83387\tvalid_1's l2: 0.852774\tvalid_1's rmse: 0.923457\n",
      "[54]\tvalid_0's l2: 0.693783\tvalid_0's rmse: 0.832936\tvalid_1's l2: 0.851307\tvalid_1's rmse: 0.922663\n",
      "Early stopping, best iteration is:\n",
      "[44]\tvalid_0's l2: 0.702884\tvalid_0's rmse: 0.838382\tvalid_1's l2: 0.850115\tvalid_1's rmse: 0.922017\n"
     ]
    },
    {
     "name": "stderr",
     "output_type": "stream",
     "text": [
      "d:\\python\\lib\\site-packages\\numpy\\core\\_methods.py:36: RuntimeWarning: overflow encountered in reduce\n",
      "  return umr_sum(a, axis, dtype, out, keepdims, initial)\n",
      "d:\\python\\lib\\site-packages\\numpy\\core\\_methods.py:36: RuntimeWarning: overflow encountered in reduce\n",
      "  return umr_sum(a, axis, dtype, out, keepdims, initial)\n"
     ]
    },
    {
     "name": "stdout",
     "output_type": "stream",
     "text": [
      "[1]\tvalid_0's l2: 1.29914\tvalid_0's rmse: 1.1398\tvalid_1's l2: 1.21292\tvalid_1's rmse: 1.10133\n",
      "Training until validation scores don't improve for 10 rounds.\n",
      "[2]\tvalid_0's l2: 1.20496\tvalid_0's rmse: 1.09771\tvalid_1's l2: 1.14348\tvalid_1's rmse: 1.06933\n",
      "[3]\tvalid_0's l2: 1.13036\tvalid_0's rmse: 1.06319\tvalid_1's l2: 1.09269\tvalid_1's rmse: 1.04532\n",
      "[4]\tvalid_0's l2: 1.06636\tvalid_0's rmse: 1.03265\tvalid_1's l2: 1.04558\tvalid_1's rmse: 1.02254\n",
      "[5]\tvalid_0's l2: 1.01493\tvalid_0's rmse: 1.00744\tvalid_1's l2: 1.00976\tvalid_1's rmse: 1.00487\n",
      "[6]\tvalid_0's l2: 0.971394\tvalid_0's rmse: 0.985593\tvalid_1's l2: 0.980061\tvalid_1's rmse: 0.98998\n",
      "[7]\tvalid_0's l2: 0.934874\tvalid_0's rmse: 0.966889\tvalid_1's l2: 0.954892\tvalid_1's rmse: 0.977186\n",
      "[8]\tvalid_0's l2: 0.904696\tvalid_0's rmse: 0.951155\tvalid_1's l2: 0.937504\tvalid_1's rmse: 0.968248\n",
      "[9]\tvalid_0's l2: 0.879835\tvalid_0's rmse: 0.937995\tvalid_1's l2: 0.923332\tvalid_1's rmse: 0.960902\n",
      "[10]\tvalid_0's l2: 0.85922\tvalid_0's rmse: 0.926941\tvalid_1's l2: 0.910657\tvalid_1's rmse: 0.954283\n",
      "[11]\tvalid_0's l2: 0.841753\tvalid_0's rmse: 0.917471\tvalid_1's l2: 0.900441\tvalid_1's rmse: 0.948915\n",
      "[12]\tvalid_0's l2: 0.825237\tvalid_0's rmse: 0.908426\tvalid_1's l2: 0.892334\tvalid_1's rmse: 0.944635\n",
      "[13]\tvalid_0's l2: 0.811964\tvalid_0's rmse: 0.901091\tvalid_1's l2: 0.884994\tvalid_1's rmse: 0.940741\n",
      "[14]\tvalid_0's l2: 0.800711\tvalid_0's rmse: 0.894825\tvalid_1's l2: 0.879403\tvalid_1's rmse: 0.937765\n",
      "[15]\tvalid_0's l2: 0.790346\tvalid_0's rmse: 0.889014\tvalid_1's l2: 0.876661\tvalid_1's rmse: 0.936302\n",
      "[16]\tvalid_0's l2: 0.781747\tvalid_0's rmse: 0.884165\tvalid_1's l2: 0.876581\tvalid_1's rmse: 0.936259\n",
      "[17]\tvalid_0's l2: 0.774504\tvalid_0's rmse: 0.880059\tvalid_1's l2: 0.875063\tvalid_1's rmse: 0.935448\n",
      "[18]\tvalid_0's l2: 0.767777\tvalid_0's rmse: 0.876229\tvalid_1's l2: 0.872481\tvalid_1's rmse: 0.934067\n",
      "[19]\tvalid_0's l2: 0.76257\tvalid_0's rmse: 0.873253\tvalid_1's l2: 0.871118\tvalid_1's rmse: 0.933337\n",
      "[20]\tvalid_0's l2: 0.756848\tvalid_0's rmse: 0.86997\tvalid_1's l2: 0.870419\tvalid_1's rmse: 0.932962\n",
      "[21]\tvalid_0's l2: 0.752204\tvalid_0's rmse: 0.867297\tvalid_1's l2: 0.869697\tvalid_1's rmse: 0.932576\n",
      "[22]\tvalid_0's l2: 0.747915\tvalid_0's rmse: 0.864821\tvalid_1's l2: 0.868095\tvalid_1's rmse: 0.931716\n",
      "[23]\tvalid_0's l2: 0.743533\tvalid_0's rmse: 0.862283\tvalid_1's l2: 0.865946\tvalid_1's rmse: 0.930562\n",
      "[24]\tvalid_0's l2: 0.739981\tvalid_0's rmse: 0.860221\tvalid_1's l2: 0.873974\tvalid_1's rmse: 0.934866\n",
      "[25]\tvalid_0's l2: 0.737016\tvalid_0's rmse: 0.858496\tvalid_1's l2: 0.873524\tvalid_1's rmse: 0.934625\n",
      "[26]\tvalid_0's l2: 0.734131\tvalid_0's rmse: 0.856815\tvalid_1's l2: 0.871876\tvalid_1's rmse: 0.933743\n",
      "[27]\tvalid_0's l2: 0.731744\tvalid_0's rmse: 0.85542\tvalid_1's l2: 0.871901\tvalid_1's rmse: 0.933756\n",
      "[28]\tvalid_0's l2: 0.729307\tvalid_0's rmse: 0.853995\tvalid_1's l2: 0.871104\tvalid_1's rmse: 0.933329\n",
      "[29]\tvalid_0's l2: 0.726\tvalid_0's rmse: 0.852056\tvalid_1's l2: 0.868782\tvalid_1's rmse: 0.932085\n",
      "[30]\tvalid_0's l2: 0.723674\tvalid_0's rmse: 0.850691\tvalid_1's l2: 0.868348\tvalid_1's rmse: 0.931852\n",
      "[31]\tvalid_0's l2: 0.721063\tvalid_0's rmse: 0.849154\tvalid_1's l2: 0.867306\tvalid_1's rmse: 0.931292\n",
      "[32]\tvalid_0's l2: 0.719016\tvalid_0's rmse: 0.847948\tvalid_1's l2: 0.865984\tvalid_1's rmse: 0.930582\n",
      "[33]\tvalid_0's l2: 0.716924\tvalid_0's rmse: 0.846713\tvalid_1's l2: 0.865842\tvalid_1's rmse: 0.930506\n",
      "[34]\tvalid_0's l2: 0.715366\tvalid_0's rmse: 0.845793\tvalid_1's l2: 0.865425\tvalid_1's rmse: 0.930282\n",
      "[35]\tvalid_0's l2: 0.713841\tvalid_0's rmse: 0.844891\tvalid_1's l2: 0.866041\tvalid_1's rmse: 0.930613\n",
      "[36]\tvalid_0's l2: 0.71197\tvalid_0's rmse: 0.843783\tvalid_1's l2: 0.867796\tvalid_1's rmse: 0.931556\n",
      "[37]\tvalid_0's l2: 0.710701\tvalid_0's rmse: 0.843031\tvalid_1's l2: 0.868525\tvalid_1's rmse: 0.931947\n",
      "[38]\tvalid_0's l2: 0.709439\tvalid_0's rmse: 0.842282\tvalid_1's l2: 0.868627\tvalid_1's rmse: 0.932002\n",
      "[39]\tvalid_0's l2: 0.707967\tvalid_0's rmse: 0.841408\tvalid_1's l2: 0.868399\tvalid_1's rmse: 0.93188\n",
      "[40]\tvalid_0's l2: 0.706756\tvalid_0's rmse: 0.840688\tvalid_1's l2: 0.868516\tvalid_1's rmse: 0.931942\n",
      "[41]\tvalid_0's l2: 0.705496\tvalid_0's rmse: 0.839938\tvalid_1's l2: 0.868617\tvalid_1's rmse: 0.931996\n",
      "[42]\tvalid_0's l2: 0.703953\tvalid_0's rmse: 0.839019\tvalid_1's l2: 0.868699\tvalid_1's rmse: 0.93204\n",
      "[43]\tvalid_0's l2: 0.702687\tvalid_0's rmse: 0.838264\tvalid_1's l2: 0.868101\tvalid_1's rmse: 0.931719\n",
      "[44]\tvalid_0's l2: 0.701765\tvalid_0's rmse: 0.837714\tvalid_1's l2: 0.868687\tvalid_1's rmse: 0.932034\n",
      "Early stopping, best iteration is:\n",
      "[34]\tvalid_0's l2: 0.715366\tvalid_0's rmse: 0.845793\tvalid_1's l2: 0.865425\tvalid_1's rmse: 0.930282\n"
     ]
    },
    {
     "name": "stderr",
     "output_type": "stream",
     "text": [
      "d:\\python\\lib\\site-packages\\numpy\\core\\_methods.py:36: RuntimeWarning: overflow encountered in reduce\n",
      "  return umr_sum(a, axis, dtype, out, keepdims, initial)\n",
      "d:\\python\\lib\\site-packages\\numpy\\core\\_methods.py:36: RuntimeWarning: overflow encountered in reduce\n",
      "  return umr_sum(a, axis, dtype, out, keepdims, initial)\n"
     ]
    },
    {
     "name": "stdout",
     "output_type": "stream",
     "text": [
      "[1]\tvalid_0's l2: 1.29607\tvalid_0's rmse: 1.13845\tvalid_1's l2: 1.21079\tvalid_1's rmse: 1.10036\n",
      "Training until validation scores don't improve for 10 rounds.\n",
      "[2]\tvalid_0's l2: 1.20046\tvalid_0's rmse: 1.09566\tvalid_1's l2: 1.14369\tvalid_1's rmse: 1.06943\n",
      "[3]\tvalid_0's l2: 1.1249\tvalid_0's rmse: 1.06061\tvalid_1's l2: 1.09187\tvalid_1's rmse: 1.04492\n",
      "[4]\tvalid_0's l2: 1.0604\tvalid_0's rmse: 1.02976\tvalid_1's l2: 1.046\tvalid_1's rmse: 1.02274\n",
      "[5]\tvalid_0's l2: 1.00782\tvalid_0's rmse: 1.0039\tvalid_1's l2: 1.00939\tvalid_1's rmse: 1.00468\n",
      "[6]\tvalid_0's l2: 0.963566\tvalid_0's rmse: 0.981614\tvalid_1's l2: 0.980484\tvalid_1's rmse: 0.990194\n",
      "[7]\tvalid_0's l2: 0.927293\tvalid_0's rmse: 0.96296\tvalid_1's l2: 0.956352\tvalid_1's rmse: 0.977933\n",
      "[8]\tvalid_0's l2: 0.897157\tvalid_0's rmse: 0.947183\tvalid_1's l2: 0.934122\tvalid_1's rmse: 0.9665\n",
      "[9]\tvalid_0's l2: 0.872456\tvalid_0's rmse: 0.934053\tvalid_1's l2: 0.919185\tvalid_1's rmse: 0.958741\n",
      "[10]\tvalid_0's l2: 0.851806\tvalid_0's rmse: 0.922933\tvalid_1's l2: 0.907574\tvalid_1's rmse: 0.952667\n",
      "[11]\tvalid_0's l2: 0.834482\tvalid_0's rmse: 0.9135\tvalid_1's l2: 0.897003\tvalid_1's rmse: 0.947102\n",
      "[12]\tvalid_0's l2: 0.818746\tvalid_0's rmse: 0.904846\tvalid_1's l2: 0.886961\tvalid_1's rmse: 0.941786\n",
      "[13]\tvalid_0's l2: 0.805729\tvalid_0's rmse: 0.897624\tvalid_1's l2: 0.879347\tvalid_1's rmse: 0.937735\n",
      "[14]\tvalid_0's l2: 0.794863\tvalid_0's rmse: 0.891551\tvalid_1's l2: 0.874166\tvalid_1's rmse: 0.934968\n",
      "[15]\tvalid_0's l2: 0.784463\tvalid_0's rmse: 0.885699\tvalid_1's l2: 0.869368\tvalid_1's rmse: 0.932399\n",
      "[16]\tvalid_0's l2: 0.775529\tvalid_0's rmse: 0.880641\tvalid_1's l2: 0.867099\tvalid_1's rmse: 0.931181\n",
      "[17]\tvalid_0's l2: 0.768143\tvalid_0's rmse: 0.876438\tvalid_1's l2: 0.863774\tvalid_1's rmse: 0.929395\n",
      "[18]\tvalid_0's l2: 0.761598\tvalid_0's rmse: 0.872696\tvalid_1's l2: 0.862057\tvalid_1's rmse: 0.92847\n",
      "[19]\tvalid_0's l2: 0.756366\tvalid_0's rmse: 0.869693\tvalid_1's l2: 0.860253\tvalid_1's rmse: 0.927498\n",
      "[20]\tvalid_0's l2: 0.750757\tvalid_0's rmse: 0.866463\tvalid_1's l2: 0.858289\tvalid_1's rmse: 0.926439\n",
      "[21]\tvalid_0's l2: 0.745693\tvalid_0's rmse: 0.863535\tvalid_1's l2: 0.856973\tvalid_1's rmse: 0.925728\n",
      "[22]\tvalid_0's l2: 0.741386\tvalid_0's rmse: 0.861038\tvalid_1's l2: 0.855248\tvalid_1's rmse: 0.924796\n",
      "[23]\tvalid_0's l2: 0.736832\tvalid_0's rmse: 0.858389\tvalid_1's l2: 0.853029\tvalid_1's rmse: 0.923596\n",
      "[24]\tvalid_0's l2: 0.733487\tvalid_0's rmse: 0.856439\tvalid_1's l2: 0.851813\tvalid_1's rmse: 0.922937\n",
      "[25]\tvalid_0's l2: 0.729968\tvalid_0's rmse: 0.854382\tvalid_1's l2: 0.850473\tvalid_1's rmse: 0.922211\n",
      "[26]\tvalid_0's l2: 0.727081\tvalid_0's rmse: 0.852691\tvalid_1's l2: 0.849098\tvalid_1's rmse: 0.921465\n",
      "[27]\tvalid_0's l2: 0.724639\tvalid_0's rmse: 0.851257\tvalid_1's l2: 0.848488\tvalid_1's rmse: 0.921134\n",
      "[28]\tvalid_0's l2: 0.721905\tvalid_0's rmse: 0.84965\tvalid_1's l2: 0.848254\tvalid_1's rmse: 0.921007\n",
      "[29]\tvalid_0's l2: 0.719713\tvalid_0's rmse: 0.848359\tvalid_1's l2: 0.847765\tvalid_1's rmse: 0.920742\n",
      "[30]\tvalid_0's l2: 0.717714\tvalid_0's rmse: 0.84718\tvalid_1's l2: 0.846828\tvalid_1's rmse: 0.920233\n",
      "[31]\tvalid_0's l2: 0.715885\tvalid_0's rmse: 0.8461\tvalid_1's l2: 0.846513\tvalid_1's rmse: 0.920061\n",
      "[32]\tvalid_0's l2: 0.713417\tvalid_0's rmse: 0.84464\tvalid_1's l2: 0.845214\tvalid_1's rmse: 0.919355\n",
      "[33]\tvalid_0's l2: 0.711604\tvalid_0's rmse: 0.843566\tvalid_1's l2: 0.844142\tvalid_1's rmse: 0.918772\n",
      "[34]\tvalid_0's l2: 0.709985\tvalid_0's rmse: 0.842606\tvalid_1's l2: 0.844958\tvalid_1's rmse: 0.919216\n",
      "[35]\tvalid_0's l2: 0.70834\tvalid_0's rmse: 0.841629\tvalid_1's l2: 0.845562\tvalid_1's rmse: 0.919544\n",
      "[36]\tvalid_0's l2: 0.706319\tvalid_0's rmse: 0.840428\tvalid_1's l2: 0.845461\tvalid_1's rmse: 0.91949\n",
      "[37]\tvalid_0's l2: 0.704482\tvalid_0's rmse: 0.839334\tvalid_1's l2: 0.842546\tvalid_1's rmse: 0.917903\n",
      "[38]\tvalid_0's l2: 0.703196\tvalid_0's rmse: 0.838568\tvalid_1's l2: 0.842372\tvalid_1's rmse: 0.917808\n",
      "[39]\tvalid_0's l2: 0.701971\tvalid_0's rmse: 0.837837\tvalid_1's l2: 0.842303\tvalid_1's rmse: 0.917771\n",
      "[40]\tvalid_0's l2: 0.700496\tvalid_0's rmse: 0.836957\tvalid_1's l2: 0.843252\tvalid_1's rmse: 0.918287\n",
      "[41]\tvalid_0's l2: 0.699359\tvalid_0's rmse: 0.836277\tvalid_1's l2: 0.842694\tvalid_1's rmse: 0.917984\n",
      "[42]\tvalid_0's l2: 0.698196\tvalid_0's rmse: 0.835581\tvalid_1's l2: 0.842411\tvalid_1's rmse: 0.917829\n",
      "[43]\tvalid_0's l2: 0.697183\tvalid_0's rmse: 0.834975\tvalid_1's l2: 0.841595\tvalid_1's rmse: 0.917385\n",
      "[44]\tvalid_0's l2: 0.696231\tvalid_0's rmse: 0.834405\tvalid_1's l2: 0.841289\tvalid_1's rmse: 0.917218\n",
      "[45]\tvalid_0's l2: 0.695278\tvalid_0's rmse: 0.833834\tvalid_1's l2: 0.841593\tvalid_1's rmse: 0.917384\n",
      "[46]\tvalid_0's l2: 0.694215\tvalid_0's rmse: 0.833196\tvalid_1's l2: 0.842037\tvalid_1's rmse: 0.917626\n",
      "[47]\tvalid_0's l2: 0.693264\tvalid_0's rmse: 0.832625\tvalid_1's l2: 0.842087\tvalid_1's rmse: 0.917653\n",
      "[48]\tvalid_0's l2: 0.692319\tvalid_0's rmse: 0.832057\tvalid_1's l2: 0.844143\tvalid_1's rmse: 0.918773\n",
      "[49]\tvalid_0's l2: 0.691263\tvalid_0's rmse: 0.831422\tvalid_1's l2: 0.843938\tvalid_1's rmse: 0.918661\n",
      "[50]\tvalid_0's l2: 0.690055\tvalid_0's rmse: 0.830696\tvalid_1's l2: 0.843351\tvalid_1's rmse: 0.918342\n",
      "[51]\tvalid_0's l2: 0.68801\tvalid_0's rmse: 0.829464\tvalid_1's l2: 0.843604\tvalid_1's rmse: 0.918479\n",
      "[52]\tvalid_0's l2: 0.687042\tvalid_0's rmse: 0.82888\tvalid_1's l2: 0.843839\tvalid_1's rmse: 0.918607\n",
      "[53]\tvalid_0's l2: 0.686295\tvalid_0's rmse: 0.828429\tvalid_1's l2: 0.843668\tvalid_1's rmse: 0.918514\n",
      "[54]\tvalid_0's l2: 0.68549\tvalid_0's rmse: 0.827943\tvalid_1's l2: 0.843331\tvalid_1's rmse: 0.91833\n",
      "Early stopping, best iteration is:\n",
      "[44]\tvalid_0's l2: 0.696231\tvalid_0's rmse: 0.834405\tvalid_1's l2: 0.841289\tvalid_1's rmse: 0.917218\n"
     ]
    },
    {
     "name": "stderr",
     "output_type": "stream",
     "text": [
      "d:\\python\\lib\\site-packages\\numpy\\core\\_methods.py:36: RuntimeWarning: overflow encountered in reduce\n",
      "  return umr_sum(a, axis, dtype, out, keepdims, initial)\n",
      "d:\\python\\lib\\site-packages\\numpy\\core\\_methods.py:36: RuntimeWarning: overflow encountered in reduce\n",
      "  return umr_sum(a, axis, dtype, out, keepdims, initial)\n"
     ]
    },
    {
     "name": "stdout",
     "output_type": "stream",
     "text": [
      "[1]\tvalid_0's l2: 1.2999\tvalid_0's rmse: 1.14013\tvalid_1's l2: 1.21516\tvalid_1's rmse: 1.10234\n",
      "Training until validation scores don't improve for 10 rounds.\n",
      "[2]\tvalid_0's l2: 1.20577\tvalid_0's rmse: 1.09808\tvalid_1's l2: 1.14886\tvalid_1's rmse: 1.07185\n",
      "[3]\tvalid_0's l2: 1.13199\tvalid_0's rmse: 1.06395\tvalid_1's l2: 1.09743\tvalid_1's rmse: 1.04758\n",
      "[4]\tvalid_0's l2: 1.06809\tvalid_0's rmse: 1.03349\tvalid_1's l2: 1.0518\tvalid_1's rmse: 1.02557\n",
      "[5]\tvalid_0's l2: 1.0151\tvalid_0's rmse: 1.00752\tvalid_1's l2: 1.01451\tvalid_1's rmse: 1.00723\n",
      "[6]\tvalid_0's l2: 0.971059\tvalid_0's rmse: 0.985423\tvalid_1's l2: 0.984796\tvalid_1's rmse: 0.992369\n",
      "[7]\tvalid_0's l2: 0.934984\tvalid_0's rmse: 0.966946\tvalid_1's l2: 0.959567\tvalid_1's rmse: 0.979575\n",
      "[8]\tvalid_0's l2: 0.904873\tvalid_0's rmse: 0.951248\tvalid_1's l2: 0.939798\tvalid_1's rmse: 0.969432\n",
      "[9]\tvalid_0's l2: 0.879878\tvalid_0's rmse: 0.938018\tvalid_1's l2: 0.925571\tvalid_1's rmse: 0.962066\n",
      "[10]\tvalid_0's l2: 0.859116\tvalid_0's rmse: 0.926885\tvalid_1's l2: 0.912999\tvalid_1's rmse: 0.95551\n",
      "[11]\tvalid_0's l2: 0.840459\tvalid_0's rmse: 0.916766\tvalid_1's l2: 0.901434\tvalid_1's rmse: 0.949439\n",
      "[12]\tvalid_0's l2: 0.824136\tvalid_0's rmse: 0.90782\tvalid_1's l2: 0.891606\tvalid_1's rmse: 0.944249\n",
      "[13]\tvalid_0's l2: 0.810825\tvalid_0's rmse: 0.900458\tvalid_1's l2: 0.884342\tvalid_1's rmse: 0.940395\n",
      "[14]\tvalid_0's l2: 0.799064\tvalid_0's rmse: 0.893904\tvalid_1's l2: 0.882125\tvalid_1's rmse: 0.939215\n",
      "[15]\tvalid_0's l2: 0.788458\tvalid_0's rmse: 0.887952\tvalid_1's l2: 0.875771\tvalid_1's rmse: 0.935827\n",
      "[16]\tvalid_0's l2: 0.7791\tvalid_0's rmse: 0.882667\tvalid_1's l2: 0.873562\tvalid_1's rmse: 0.934645\n",
      "[17]\tvalid_0's l2: 0.771447\tvalid_0's rmse: 0.878321\tvalid_1's l2: 0.868873\tvalid_1's rmse: 0.932134\n",
      "[18]\tvalid_0's l2: 0.764355\tvalid_0's rmse: 0.874274\tvalid_1's l2: 0.867442\tvalid_1's rmse: 0.931365\n",
      "[19]\tvalid_0's l2: 0.758907\tvalid_0's rmse: 0.871153\tvalid_1's l2: 0.865122\tvalid_1's rmse: 0.930119\n",
      "[20]\tvalid_0's l2: 0.753529\tvalid_0's rmse: 0.868061\tvalid_1's l2: 0.863694\tvalid_1's rmse: 0.929351\n",
      "[21]\tvalid_0's l2: 0.748415\tvalid_0's rmse: 0.86511\tvalid_1's l2: 0.860869\tvalid_1's rmse: 0.92783\n",
      "[22]\tvalid_0's l2: 0.744016\tvalid_0's rmse: 0.862564\tvalid_1's l2: 0.860377\tvalid_1's rmse: 0.927565\n",
      "[23]\tvalid_0's l2: 0.739951\tvalid_0's rmse: 0.860204\tvalid_1's l2: 0.859115\tvalid_1's rmse: 0.926884\n",
      "[24]\tvalid_0's l2: 0.735568\tvalid_0's rmse: 0.857653\tvalid_1's l2: 0.856764\tvalid_1's rmse: 0.925615\n",
      "[25]\tvalid_0's l2: 0.731448\tvalid_0's rmse: 0.855247\tvalid_1's l2: 0.853509\tvalid_1's rmse: 0.923856\n",
      "[26]\tvalid_0's l2: 0.728234\tvalid_0's rmse: 0.853366\tvalid_1's l2: 0.852326\tvalid_1's rmse: 0.923215\n",
      "[27]\tvalid_0's l2: 0.725529\tvalid_0's rmse: 0.85178\tvalid_1's l2: 0.851552\tvalid_1's rmse: 0.922796\n",
      "[28]\tvalid_0's l2: 0.722834\tvalid_0's rmse: 0.850196\tvalid_1's l2: 0.85048\tvalid_1's rmse: 0.922215\n",
      "[29]\tvalid_0's l2: 0.720301\tvalid_0's rmse: 0.848706\tvalid_1's l2: 0.849388\tvalid_1's rmse: 0.921623\n",
      "[30]\tvalid_0's l2: 0.718095\tvalid_0's rmse: 0.847405\tvalid_1's l2: 0.848395\tvalid_1's rmse: 0.921084\n",
      "[31]\tvalid_0's l2: 0.715663\tvalid_0's rmse: 0.845969\tvalid_1's l2: 0.847371\tvalid_1's rmse: 0.920528\n",
      "[32]\tvalid_0's l2: 0.713656\tvalid_0's rmse: 0.844782\tvalid_1's l2: 0.845346\tvalid_1's rmse: 0.919427\n",
      "[33]\tvalid_0's l2: 0.711461\tvalid_0's rmse: 0.843481\tvalid_1's l2: 0.844762\tvalid_1's rmse: 0.919109\n",
      "[34]\tvalid_0's l2: 0.709668\tvalid_0's rmse: 0.842418\tvalid_1's l2: 0.844068\tvalid_1's rmse: 0.918731\n",
      "[35]\tvalid_0's l2: 0.707768\tvalid_0's rmse: 0.841289\tvalid_1's l2: 0.843695\tvalid_1's rmse: 0.918529\n",
      "[36]\tvalid_0's l2: 0.70634\tvalid_0's rmse: 0.840441\tvalid_1's l2: 0.844203\tvalid_1's rmse: 0.918805\n",
      "[37]\tvalid_0's l2: 0.704681\tvalid_0's rmse: 0.839453\tvalid_1's l2: 0.843316\tvalid_1's rmse: 0.918322\n",
      "[38]\tvalid_0's l2: 0.703136\tvalid_0's rmse: 0.838532\tvalid_1's l2: 0.84387\tvalid_1's rmse: 0.918624\n",
      "[39]\tvalid_0's l2: 0.701701\tvalid_0's rmse: 0.837676\tvalid_1's l2: 0.843554\tvalid_1's rmse: 0.918452\n",
      "[40]\tvalid_0's l2: 0.699896\tvalid_0's rmse: 0.836598\tvalid_1's l2: 0.842659\tvalid_1's rmse: 0.917964\n",
      "[41]\tvalid_0's l2: 0.698559\tvalid_0's rmse: 0.835798\tvalid_1's l2: 0.84329\tvalid_1's rmse: 0.918308\n",
      "[42]\tvalid_0's l2: 0.697375\tvalid_0's rmse: 0.83509\tvalid_1's l2: 0.843035\tvalid_1's rmse: 0.918169\n",
      "[43]\tvalid_0's l2: 0.696473\tvalid_0's rmse: 0.83455\tvalid_1's l2: 0.843074\tvalid_1's rmse: 0.918191\n",
      "[44]\tvalid_0's l2: 0.695316\tvalid_0's rmse: 0.833856\tvalid_1's l2: 0.842751\tvalid_1's rmse: 0.918015\n",
      "[45]\tvalid_0's l2: 0.694207\tvalid_0's rmse: 0.833191\tvalid_1's l2: 0.843014\tvalid_1's rmse: 0.918158\n",
      "[46]\tvalid_0's l2: 0.693064\tvalid_0's rmse: 0.832505\tvalid_1's l2: 0.84272\tvalid_1's rmse: 0.917998\n",
      "[47]\tvalid_0's l2: 0.691723\tvalid_0's rmse: 0.831699\tvalid_1's l2: 0.844297\tvalid_1's rmse: 0.918856\n",
      "[48]\tvalid_0's l2: 0.690835\tvalid_0's rmse: 0.831165\tvalid_1's l2: 0.844294\tvalid_1's rmse: 0.918855\n",
      "[49]\tvalid_0's l2: 0.689936\tvalid_0's rmse: 0.830624\tvalid_1's l2: 0.845073\tvalid_1's rmse: 0.919279\n",
      "[50]\tvalid_0's l2: 0.689063\tvalid_0's rmse: 0.830098\tvalid_1's l2: 0.84468\tvalid_1's rmse: 0.919065\n",
      "Early stopping, best iteration is:\n",
      "[40]\tvalid_0's l2: 0.699896\tvalid_0's rmse: 0.836598\tvalid_1's l2: 0.842659\tvalid_1's rmse: 0.917964\n"
     ]
    },
    {
     "name": "stderr",
     "output_type": "stream",
     "text": [
      "d:\\python\\lib\\site-packages\\numpy\\core\\_methods.py:36: RuntimeWarning: overflow encountered in reduce\n",
      "  return umr_sum(a, axis, dtype, out, keepdims, initial)\n",
      "d:\\python\\lib\\site-packages\\numpy\\core\\_methods.py:36: RuntimeWarning: overflow encountered in reduce\n",
      "  return umr_sum(a, axis, dtype, out, keepdims, initial)\n"
     ]
    },
    {
     "name": "stdout",
     "output_type": "stream",
     "text": [
      "[1]\tvalid_0's l2: 1.30053\tvalid_0's rmse: 1.14041\tvalid_1's l2: 1.21451\tvalid_1's rmse: 1.10205\n",
      "Training until validation scores don't improve for 10 rounds.\n",
      "[2]\tvalid_0's l2: 1.20682\tvalid_0's rmse: 1.09855\tvalid_1's l2: 1.14737\tvalid_1's rmse: 1.07116\n",
      "[3]\tvalid_0's l2: 1.13379\tvalid_0's rmse: 1.0648\tvalid_1's l2: 1.09711\tvalid_1's rmse: 1.04743\n",
      "[4]\tvalid_0's l2: 1.06989\tvalid_0's rmse: 1.03436\tvalid_1's l2: 1.05025\tvalid_1's rmse: 1.02482\n",
      "[5]\tvalid_0's l2: 1.01776\tvalid_0's rmse: 1.00884\tvalid_1's l2: 1.01321\tvalid_1's rmse: 1.00658\n",
      "[6]\tvalid_0's l2: 0.973829\tvalid_0's rmse: 0.986828\tvalid_1's l2: 0.983131\tvalid_1's rmse: 0.99153\n",
      "[7]\tvalid_0's l2: 0.937237\tvalid_0's rmse: 0.96811\tvalid_1's l2: 0.959445\tvalid_1's rmse: 0.979513\n",
      "[8]\tvalid_0's l2: 0.906493\tvalid_0's rmse: 0.952099\tvalid_1's l2: 0.93922\tvalid_1's rmse: 0.969134\n",
      "[9]\tvalid_0's l2: 0.881064\tvalid_0's rmse: 0.93865\tvalid_1's l2: 0.923724\tvalid_1's rmse: 0.961106\n",
      "[10]\tvalid_0's l2: 0.860007\tvalid_0's rmse: 0.927366\tvalid_1's l2: 0.911648\tvalid_1's rmse: 0.954803\n",
      "[11]\tvalid_0's l2: 0.841656\tvalid_0's rmse: 0.917418\tvalid_1's l2: 0.900135\tvalid_1's rmse: 0.948755\n",
      "[12]\tvalid_0's l2: 0.825031\tvalid_0's rmse: 0.908312\tvalid_1's l2: 0.8892\tvalid_1's rmse: 0.942974\n",
      "[13]\tvalid_0's l2: 0.811661\tvalid_0's rmse: 0.900922\tvalid_1's l2: 0.882438\tvalid_1's rmse: 0.939382\n",
      "[14]\tvalid_0's l2: 0.800113\tvalid_0's rmse: 0.89449\tvalid_1's l2: 0.877145\tvalid_1's rmse: 0.93656\n",
      "[15]\tvalid_0's l2: 0.789253\tvalid_0's rmse: 0.888399\tvalid_1's l2: 0.86956\tvalid_1's rmse: 0.932502\n",
      "[16]\tvalid_0's l2: 0.780304\tvalid_0's rmse: 0.883348\tvalid_1's l2: 0.863678\tvalid_1's rmse: 0.929343\n",
      "[17]\tvalid_0's l2: 0.772287\tvalid_0's rmse: 0.878798\tvalid_1's l2: 0.858991\tvalid_1's rmse: 0.926817\n",
      "[18]\tvalid_0's l2: 0.765838\tvalid_0's rmse: 0.875122\tvalid_1's l2: 0.856181\tvalid_1's rmse: 0.925301\n",
      "[19]\tvalid_0's l2: 0.760494\tvalid_0's rmse: 0.872063\tvalid_1's l2: 0.853879\tvalid_1's rmse: 0.924056\n",
      "[20]\tvalid_0's l2: 0.755255\tvalid_0's rmse: 0.869054\tvalid_1's l2: 0.851373\tvalid_1's rmse: 0.922699\n",
      "[21]\tvalid_0's l2: 0.75059\tvalid_0's rmse: 0.866366\tvalid_1's l2: 0.850652\tvalid_1's rmse: 0.922308\n",
      "[22]\tvalid_0's l2: 0.745939\tvalid_0's rmse: 0.863678\tvalid_1's l2: 0.849741\tvalid_1's rmse: 0.921814\n",
      "[23]\tvalid_0's l2: 0.742251\tvalid_0's rmse: 0.86154\tvalid_1's l2: 0.849611\tvalid_1's rmse: 0.921743\n",
      "[24]\tvalid_0's l2: 0.738537\tvalid_0's rmse: 0.859382\tvalid_1's l2: 0.847228\tvalid_1's rmse: 0.92045\n",
      "[25]\tvalid_0's l2: 0.735035\tvalid_0's rmse: 0.857342\tvalid_1's l2: 0.846057\tvalid_1's rmse: 0.919813\n",
      "[26]\tvalid_0's l2: 0.732383\tvalid_0's rmse: 0.855794\tvalid_1's l2: 0.845267\tvalid_1's rmse: 0.919384\n",
      "[27]\tvalid_0's l2: 0.729988\tvalid_0's rmse: 0.854394\tvalid_1's l2: 0.844699\tvalid_1's rmse: 0.919075\n",
      "[28]\tvalid_0's l2: 0.727066\tvalid_0's rmse: 0.852681\tvalid_1's l2: 0.84436\tvalid_1's rmse: 0.918891\n",
      "[29]\tvalid_0's l2: 0.725146\tvalid_0's rmse: 0.851555\tvalid_1's l2: 0.844426\tvalid_1's rmse: 0.918927\n",
      "[30]\tvalid_0's l2: 0.723136\tvalid_0's rmse: 0.850374\tvalid_1's l2: 0.843858\tvalid_1's rmse: 0.918617\n",
      "[31]\tvalid_0's l2: 0.721012\tvalid_0's rmse: 0.849124\tvalid_1's l2: 0.844122\tvalid_1's rmse: 0.918761\n",
      "[32]\tvalid_0's l2: 0.718541\tvalid_0's rmse: 0.847668\tvalid_1's l2: 0.843004\tvalid_1's rmse: 0.918152\n",
      "[33]\tvalid_0's l2: 0.716903\tvalid_0's rmse: 0.846701\tvalid_1's l2: 0.842756\tvalid_1's rmse: 0.918018\n",
      "[34]\tvalid_0's l2: 0.715465\tvalid_0's rmse: 0.845852\tvalid_1's l2: 0.841979\tvalid_1's rmse: 0.917594\n",
      "[35]\tvalid_0's l2: 0.713573\tvalid_0's rmse: 0.844733\tvalid_1's l2: 0.842771\tvalid_1's rmse: 0.918026\n",
      "[36]\tvalid_0's l2: 0.712327\tvalid_0's rmse: 0.843995\tvalid_1's l2: 0.84321\tvalid_1's rmse: 0.918265\n",
      "[37]\tvalid_0's l2: 0.711335\tvalid_0's rmse: 0.843407\tvalid_1's l2: 0.842628\tvalid_1's rmse: 0.917947\n",
      "[38]\tvalid_0's l2: 0.710159\tvalid_0's rmse: 0.842709\tvalid_1's l2: 0.842714\tvalid_1's rmse: 0.917994\n",
      "[39]\tvalid_0's l2: 0.708931\tvalid_0's rmse: 0.841981\tvalid_1's l2: 0.84291\tvalid_1's rmse: 0.918101\n",
      "[40]\tvalid_0's l2: 0.707803\tvalid_0's rmse: 0.84131\tvalid_1's l2: 0.843298\tvalid_1's rmse: 0.918313\n",
      "[41]\tvalid_0's l2: 0.706798\tvalid_0's rmse: 0.840713\tvalid_1's l2: 0.844272\tvalid_1's rmse: 0.918843\n",
      "[42]\tvalid_0's l2: 0.70583\tvalid_0's rmse: 0.840137\tvalid_1's l2: 0.844935\tvalid_1's rmse: 0.919203\n",
      "[43]\tvalid_0's l2: 0.704919\tvalid_0's rmse: 0.839594\tvalid_1's l2: 0.844643\tvalid_1's rmse: 0.919044\n",
      "[44]\tvalid_0's l2: 0.704181\tvalid_0's rmse: 0.839155\tvalid_1's l2: 0.844997\tvalid_1's rmse: 0.919237\n",
      "Early stopping, best iteration is:\n",
      "[34]\tvalid_0's l2: 0.715465\tvalid_0's rmse: 0.845852\tvalid_1's l2: 0.841979\tvalid_1's rmse: 0.917594\n"
     ]
    },
    {
     "name": "stderr",
     "output_type": "stream",
     "text": [
      "d:\\python\\lib\\site-packages\\numpy\\core\\_methods.py:36: RuntimeWarning: overflow encountered in reduce\n",
      "  return umr_sum(a, axis, dtype, out, keepdims, initial)\n",
      "d:\\python\\lib\\site-packages\\numpy\\core\\_methods.py:36: RuntimeWarning: overflow encountered in reduce\n",
      "  return umr_sum(a, axis, dtype, out, keepdims, initial)\n"
     ]
    },
    {
     "name": "stdout",
     "output_type": "stream",
     "text": [
      "[1]\tvalid_0's l2: 1.29784\tvalid_0's rmse: 1.13923\tvalid_1's l2: 1.21312\tvalid_1's rmse: 1.10142\n",
      "Training until validation scores don't improve for 10 rounds.\n",
      "[2]\tvalid_0's l2: 1.20285\tvalid_0's rmse: 1.09675\tvalid_1's l2: 1.14541\tvalid_1's rmse: 1.07024\n",
      "[3]\tvalid_0's l2: 1.12733\tvalid_0's rmse: 1.06176\tvalid_1's l2: 1.0928\tvalid_1's rmse: 1.04537\n",
      "[4]\tvalid_0's l2: 1.06328\tvalid_0's rmse: 1.03116\tvalid_1's l2: 1.04844\tvalid_1's rmse: 1.02393\n",
      "[5]\tvalid_0's l2: 1.01168\tvalid_0's rmse: 1.00582\tvalid_1's l2: 1.0122\tvalid_1's rmse: 1.00608\n",
      "[6]\tvalid_0's l2: 0.967484\tvalid_0's rmse: 0.983608\tvalid_1's l2: 0.981482\tvalid_1's rmse: 0.990698\n",
      "[7]\tvalid_0's l2: 0.931994\tvalid_0's rmse: 0.965398\tvalid_1's l2: 0.957103\tvalid_1's rmse: 0.978317\n",
      "[8]\tvalid_0's l2: 0.9015\tvalid_0's rmse: 0.949474\tvalid_1's l2: 0.937285\tvalid_1's rmse: 0.968135\n",
      "[9]\tvalid_0's l2: 0.876861\tvalid_0's rmse: 0.936408\tvalid_1's l2: 0.922437\tvalid_1's rmse: 0.960436\n",
      "[10]\tvalid_0's l2: 0.856882\tvalid_0's rmse: 0.925679\tvalid_1's l2: 0.910366\tvalid_1's rmse: 0.954131\n",
      "[11]\tvalid_0's l2: 0.839037\tvalid_0's rmse: 0.91599\tvalid_1's l2: 0.898865\tvalid_1's rmse: 0.948085\n",
      "[12]\tvalid_0's l2: 0.823292\tvalid_0's rmse: 0.907354\tvalid_1's l2: 0.890774\tvalid_1's rmse: 0.943808\n",
      "[13]\tvalid_0's l2: 0.809538\tvalid_0's rmse: 0.899743\tvalid_1's l2: 0.882023\tvalid_1's rmse: 0.939161\n",
      "[14]\tvalid_0's l2: 0.79826\tvalid_0's rmse: 0.893454\tvalid_1's l2: 0.876515\tvalid_1's rmse: 0.936224\n",
      "[15]\tvalid_0's l2: 0.787572\tvalid_0's rmse: 0.887453\tvalid_1's l2: 0.870335\tvalid_1's rmse: 0.932917\n",
      "[16]\tvalid_0's l2: 0.778502\tvalid_0's rmse: 0.882328\tvalid_1's l2: 0.871492\tvalid_1's rmse: 0.933537\n",
      "[17]\tvalid_0's l2: 0.771036\tvalid_0's rmse: 0.878086\tvalid_1's l2: 0.868157\tvalid_1's rmse: 0.931749\n",
      "[18]\tvalid_0's l2: 0.764196\tvalid_0's rmse: 0.874183\tvalid_1's l2: 0.866487\tvalid_1's rmse: 0.930853\n",
      "[19]\tvalid_0's l2: 0.75904\tvalid_0's rmse: 0.871229\tvalid_1's l2: 0.864409\tvalid_1's rmse: 0.929736\n",
      "[20]\tvalid_0's l2: 0.753866\tvalid_0's rmse: 0.868254\tvalid_1's l2: 0.861541\tvalid_1's rmse: 0.928192\n",
      "[21]\tvalid_0's l2: 0.748298\tvalid_0's rmse: 0.865042\tvalid_1's l2: 0.859163\tvalid_1's rmse: 0.926911\n",
      "[22]\tvalid_0's l2: 0.743338\tvalid_0's rmse: 0.86217\tvalid_1's l2: 0.855479\tvalid_1's rmse: 0.924921\n",
      "[23]\tvalid_0's l2: 0.739434\tvalid_0's rmse: 0.859903\tvalid_1's l2: 0.854622\tvalid_1's rmse: 0.924458\n",
      "[24]\tvalid_0's l2: 0.73561\tvalid_0's rmse: 0.857677\tvalid_1's l2: 0.851225\tvalid_1's rmse: 0.922619\n",
      "[25]\tvalid_0's l2: 0.732644\tvalid_0's rmse: 0.855946\tvalid_1's l2: 0.850005\tvalid_1's rmse: 0.921957\n",
      "[26]\tvalid_0's l2: 0.72978\tvalid_0's rmse: 0.854271\tvalid_1's l2: 0.849568\tvalid_1's rmse: 0.92172\n",
      "[27]\tvalid_0's l2: 0.727475\tvalid_0's rmse: 0.852922\tvalid_1's l2: 0.849407\tvalid_1's rmse: 0.921633\n",
      "[28]\tvalid_0's l2: 0.724689\tvalid_0's rmse: 0.851287\tvalid_1's l2: 0.848521\tvalid_1's rmse: 0.921152\n",
      "[29]\tvalid_0's l2: 0.722434\tvalid_0's rmse: 0.849961\tvalid_1's l2: 0.84803\tvalid_1's rmse: 0.920885\n",
      "[30]\tvalid_0's l2: 0.720316\tvalid_0's rmse: 0.848714\tvalid_1's l2: 0.847562\tvalid_1's rmse: 0.920632\n",
      "[31]\tvalid_0's l2: 0.718162\tvalid_0's rmse: 0.847444\tvalid_1's l2: 0.846256\tvalid_1's rmse: 0.919922\n",
      "[32]\tvalid_0's l2: 0.716473\tvalid_0's rmse: 0.846447\tvalid_1's l2: 0.845881\tvalid_1's rmse: 0.919718\n",
      "[33]\tvalid_0's l2: 0.71452\tvalid_0's rmse: 0.845293\tvalid_1's l2: 0.84576\tvalid_1's rmse: 0.919652\n",
      "[34]\tvalid_0's l2: 0.712865\tvalid_0's rmse: 0.844314\tvalid_1's l2: 0.845299\tvalid_1's rmse: 0.919402\n",
      "[35]\tvalid_0's l2: 0.711176\tvalid_0's rmse: 0.843313\tvalid_1's l2: 0.845834\tvalid_1's rmse: 0.919693\n",
      "[36]\tvalid_0's l2: 0.709888\tvalid_0's rmse: 0.842548\tvalid_1's l2: 0.846449\tvalid_1's rmse: 0.920027\n",
      "[37]\tvalid_0's l2: 0.707739\tvalid_0's rmse: 0.841272\tvalid_1's l2: 0.846294\tvalid_1's rmse: 0.919942\n",
      "[38]\tvalid_0's l2: 0.7067\tvalid_0's rmse: 0.840654\tvalid_1's l2: 0.845652\tvalid_1's rmse: 0.919594\n",
      "[39]\tvalid_0's l2: 0.705475\tvalid_0's rmse: 0.839925\tvalid_1's l2: 0.845844\tvalid_1's rmse: 0.919698\n",
      "[40]\tvalid_0's l2: 0.704296\tvalid_0's rmse: 0.839223\tvalid_1's l2: 0.846792\tvalid_1's rmse: 0.920213\n",
      "[41]\tvalid_0's l2: 0.703313\tvalid_0's rmse: 0.838638\tvalid_1's l2: 0.846315\tvalid_1's rmse: 0.919954\n",
      "[42]\tvalid_0's l2: 0.702107\tvalid_0's rmse: 0.837918\tvalid_1's l2: 0.845965\tvalid_1's rmse: 0.919763\n",
      "[43]\tvalid_0's l2: 0.701249\tvalid_0's rmse: 0.837406\tvalid_1's l2: 0.846261\tvalid_1's rmse: 0.919925\n",
      "[44]\tvalid_0's l2: 0.700245\tvalid_0's rmse: 0.836806\tvalid_1's l2: 0.846182\tvalid_1's rmse: 0.919882\n",
      "Early stopping, best iteration is:\n",
      "[34]\tvalid_0's l2: 0.712865\tvalid_0's rmse: 0.844314\tvalid_1's l2: 0.845299\tvalid_1's rmse: 0.919402\n"
     ]
    },
    {
     "name": "stderr",
     "output_type": "stream",
     "text": [
      "d:\\python\\lib\\site-packages\\numpy\\core\\_methods.py:36: RuntimeWarning: overflow encountered in reduce\n",
      "  return umr_sum(a, axis, dtype, out, keepdims, initial)\n",
      "d:\\python\\lib\\site-packages\\numpy\\core\\_methods.py:36: RuntimeWarning: overflow encountered in reduce\n",
      "  return umr_sum(a, axis, dtype, out, keepdims, initial)\n"
     ]
    },
    {
     "name": "stdout",
     "output_type": "stream",
     "text": [
      "[1]\tvalid_0's l2: 1.29815\tvalid_0's rmse: 1.13936\tvalid_1's l2: 1.21232\tvalid_1's rmse: 1.10105\n",
      "Training until validation scores don't improve for 10 rounds.\n",
      "[2]\tvalid_0's l2: 1.20314\tvalid_0's rmse: 1.09688\tvalid_1's l2: 1.14246\tvalid_1's rmse: 1.06886\n",
      "[3]\tvalid_0's l2: 1.12802\tvalid_0's rmse: 1.06208\tvalid_1's l2: 1.09154\tvalid_1's rmse: 1.04477\n",
      "[4]\tvalid_0's l2: 1.0638\tvalid_0's rmse: 1.03141\tvalid_1's l2: 1.04521\tvalid_1's rmse: 1.02236\n",
      "[5]\tvalid_0's l2: 1.01098\tvalid_0's rmse: 1.00548\tvalid_1's l2: 1.00746\tvalid_1's rmse: 1.00372\n",
      "[6]\tvalid_0's l2: 0.966755\tvalid_0's rmse: 0.983237\tvalid_1's l2: 0.976705\tvalid_1's rmse: 0.988284\n",
      "[7]\tvalid_0's l2: 0.930406\tvalid_0's rmse: 0.964576\tvalid_1's l2: 0.956283\tvalid_1's rmse: 0.977897\n",
      "[8]\tvalid_0's l2: 0.899436\tvalid_0's rmse: 0.948386\tvalid_1's l2: 0.937059\tvalid_1's rmse: 0.968018\n",
      "[9]\tvalid_0's l2: 0.874638\tvalid_0's rmse: 0.935221\tvalid_1's l2: 0.922428\tvalid_1's rmse: 0.960431\n",
      "[10]\tvalid_0's l2: 0.85471\tvalid_0's rmse: 0.924505\tvalid_1's l2: 0.910975\tvalid_1's rmse: 0.95445\n",
      "[11]\tvalid_0's l2: 0.836135\tvalid_0's rmse: 0.914404\tvalid_1's l2: 0.899822\tvalid_1's rmse: 0.948589\n",
      "[12]\tvalid_0's l2: 0.819248\tvalid_0's rmse: 0.905123\tvalid_1's l2: 0.891392\tvalid_1's rmse: 0.944136\n",
      "[13]\tvalid_0's l2: 0.805677\tvalid_0's rmse: 0.897595\tvalid_1's l2: 0.884499\tvalid_1's rmse: 0.940478\n",
      "[14]\tvalid_0's l2: 0.79394\tvalid_0's rmse: 0.891033\tvalid_1's l2: 0.880692\tvalid_1's rmse: 0.938452\n",
      "[15]\tvalid_0's l2: 0.783162\tvalid_0's rmse: 0.884964\tvalid_1's l2: 0.876009\tvalid_1's rmse: 0.935954\n",
      "[16]\tvalid_0's l2: 0.774517\tvalid_0's rmse: 0.880067\tvalid_1's l2: 0.872148\tvalid_1's rmse: 0.933889\n",
      "[17]\tvalid_0's l2: 0.765704\tvalid_0's rmse: 0.875045\tvalid_1's l2: 0.877363\tvalid_1's rmse: 0.936677\n",
      "[18]\tvalid_0's l2: 0.758987\tvalid_0's rmse: 0.871199\tvalid_1's l2: 0.877758\tvalid_1's rmse: 0.936887\n",
      "[19]\tvalid_0's l2: 0.753601\tvalid_0's rmse: 0.868102\tvalid_1's l2: 0.87511\tvalid_1's rmse: 0.935473\n",
      "[20]\tvalid_0's l2: 0.747987\tvalid_0's rmse: 0.864862\tvalid_1's l2: 0.873395\tvalid_1's rmse: 0.934556\n",
      "[21]\tvalid_0's l2: 0.743002\tvalid_0's rmse: 0.861976\tvalid_1's l2: 0.871423\tvalid_1's rmse: 0.9335\n",
      "[22]\tvalid_0's l2: 0.738936\tvalid_0's rmse: 0.859614\tvalid_1's l2: 0.873506\tvalid_1's rmse: 0.934616\n",
      "[23]\tvalid_0's l2: 0.734579\tvalid_0's rmse: 0.857076\tvalid_1's l2: 0.871724\tvalid_1's rmse: 0.933661\n",
      "[24]\tvalid_0's l2: 0.730679\tvalid_0's rmse: 0.854798\tvalid_1's l2: 0.871803\tvalid_1's rmse: 0.933704\n",
      "[25]\tvalid_0's l2: 0.727641\tvalid_0's rmse: 0.853019\tvalid_1's l2: 0.871275\tvalid_1's rmse: 0.933421\n",
      "[26]\tvalid_0's l2: 0.72489\tvalid_0's rmse: 0.851405\tvalid_1's l2: 0.870448\tvalid_1's rmse: 0.932978\n",
      "[27]\tvalid_0's l2: 0.722186\tvalid_0's rmse: 0.849815\tvalid_1's l2: 0.868801\tvalid_1's rmse: 0.932095\n",
      "[28]\tvalid_0's l2: 0.719733\tvalid_0's rmse: 0.848371\tvalid_1's l2: 0.868274\tvalid_1's rmse: 0.931812\n",
      "[29]\tvalid_0's l2: 0.717553\tvalid_0's rmse: 0.847085\tvalid_1's l2: 0.867973\tvalid_1's rmse: 0.931651\n",
      "[30]\tvalid_0's l2: 0.714698\tvalid_0's rmse: 0.845398\tvalid_1's l2: 0.866236\tvalid_1's rmse: 0.930718\n",
      "[31]\tvalid_0's l2: 0.71246\tvalid_0's rmse: 0.844073\tvalid_1's l2: 0.865386\tvalid_1's rmse: 0.930261\n",
      "[32]\tvalid_0's l2: 0.710516\tvalid_0's rmse: 0.842921\tvalid_1's l2: 0.864973\tvalid_1's rmse: 0.930039\n",
      "[33]\tvalid_0's l2: 0.708398\tvalid_0's rmse: 0.841664\tvalid_1's l2: 0.865363\tvalid_1's rmse: 0.930249\n",
      "[34]\tvalid_0's l2: 0.707016\tvalid_0's rmse: 0.840843\tvalid_1's l2: 0.865111\tvalid_1's rmse: 0.930113\n",
      "[35]\tvalid_0's l2: 0.705395\tvalid_0's rmse: 0.839878\tvalid_1's l2: 0.865558\tvalid_1's rmse: 0.930354\n",
      "[36]\tvalid_0's l2: 0.703862\tvalid_0's rmse: 0.838965\tvalid_1's l2: 0.86489\tvalid_1's rmse: 0.929995\n",
      "[37]\tvalid_0's l2: 0.702623\tvalid_0's rmse: 0.838226\tvalid_1's l2: 0.864719\tvalid_1's rmse: 0.929903\n",
      "[38]\tvalid_0's l2: 0.700867\tvalid_0's rmse: 0.837178\tvalid_1's l2: 0.865927\tvalid_1's rmse: 0.930552\n",
      "[39]\tvalid_0's l2: 0.699811\tvalid_0's rmse: 0.836547\tvalid_1's l2: 0.866222\tvalid_1's rmse: 0.93071\n",
      "[40]\tvalid_0's l2: 0.698517\tvalid_0's rmse: 0.835773\tvalid_1's l2: 0.866417\tvalid_1's rmse: 0.930815\n",
      "[41]\tvalid_0's l2: 0.697056\tvalid_0's rmse: 0.834899\tvalid_1's l2: 0.867389\tvalid_1's rmse: 0.931337\n",
      "[42]\tvalid_0's l2: 0.695933\tvalid_0's rmse: 0.834226\tvalid_1's l2: 0.867397\tvalid_1's rmse: 0.931341\n",
      "[43]\tvalid_0's l2: 0.69474\tvalid_0's rmse: 0.83351\tvalid_1's l2: 0.868411\tvalid_1's rmse: 0.931886\n",
      "[44]\tvalid_0's l2: 0.693721\tvalid_0's rmse: 0.832899\tvalid_1's l2: 0.86767\tvalid_1's rmse: 0.931488\n",
      "[45]\tvalid_0's l2: 0.692591\tvalid_0's rmse: 0.832221\tvalid_1's l2: 0.868436\tvalid_1's rmse: 0.931899\n",
      "[46]\tvalid_0's l2: 0.691614\tvalid_0's rmse: 0.831634\tvalid_1's l2: 0.868728\tvalid_1's rmse: 0.932056\n",
      "[47]\tvalid_0's l2: 0.690404\tvalid_0's rmse: 0.830906\tvalid_1's l2: 0.868685\tvalid_1's rmse: 0.932033\n",
      "Early stopping, best iteration is:\n",
      "[37]\tvalid_0's l2: 0.702623\tvalid_0's rmse: 0.838226\tvalid_1's l2: 0.864719\tvalid_1's rmse: 0.929903\n"
     ]
    },
    {
     "name": "stderr",
     "output_type": "stream",
     "text": [
      "d:\\python\\lib\\site-packages\\numpy\\core\\_methods.py:36: RuntimeWarning: overflow encountered in reduce\n",
      "  return umr_sum(a, axis, dtype, out, keepdims, initial)\n",
      "d:\\python\\lib\\site-packages\\numpy\\core\\_methods.py:36: RuntimeWarning: overflow encountered in reduce\n",
      "  return umr_sum(a, axis, dtype, out, keepdims, initial)\n"
     ]
    },
    {
     "name": "stdout",
     "output_type": "stream",
     "text": [
      "[1]\tvalid_0's l2: 1.29526\tvalid_0's rmse: 1.1381\tvalid_1's l2: 1.21017\tvalid_1's rmse: 1.10008\n",
      "Training until validation scores don't improve for 10 rounds.\n",
      "[2]\tvalid_0's l2: 1.19915\tvalid_0's rmse: 1.09506\tvalid_1's l2: 1.14322\tvalid_1's rmse: 1.06921\n",
      "[3]\tvalid_0's l2: 1.12066\tvalid_0's rmse: 1.05861\tvalid_1's l2: 1.0905\tvalid_1's rmse: 1.04427\n",
      "[4]\tvalid_0's l2: 1.05636\tvalid_0's rmse: 1.02779\tvalid_1's l2: 1.04533\tvalid_1's rmse: 1.02241\n",
      "[5]\tvalid_0's l2: 1.00367\tvalid_0's rmse: 1.00183\tvalid_1's l2: 1.00777\tvalid_1's rmse: 1.00388\n",
      "[6]\tvalid_0's l2: 0.959311\tvalid_0's rmse: 0.979444\tvalid_1's l2: 0.978966\tvalid_1's rmse: 0.989427\n",
      "[7]\tvalid_0's l2: 0.922108\tvalid_0's rmse: 0.960265\tvalid_1's l2: 0.953096\tvalid_1's rmse: 0.976266\n",
      "[8]\tvalid_0's l2: 0.891432\tvalid_0's rmse: 0.944157\tvalid_1's l2: 0.932516\tvalid_1's rmse: 0.965669\n",
      "[9]\tvalid_0's l2: 0.866485\tvalid_0's rmse: 0.930852\tvalid_1's l2: 0.917954\tvalid_1's rmse: 0.958099\n",
      "[10]\tvalid_0's l2: 0.846878\tvalid_0's rmse: 0.92026\tvalid_1's l2: 0.905061\tvalid_1's rmse: 0.951347\n",
      "[11]\tvalid_0's l2: 0.829119\tvalid_0's rmse: 0.91056\tvalid_1's l2: 0.894054\tvalid_1's rmse: 0.945544\n",
      "[12]\tvalid_0's l2: 0.813764\tvalid_0's rmse: 0.902089\tvalid_1's l2: 0.88502\tvalid_1's rmse: 0.940755\n",
      "[13]\tvalid_0's l2: 0.800462\tvalid_0's rmse: 0.894686\tvalid_1's l2: 0.87659\tvalid_1's rmse: 0.936264\n",
      "[14]\tvalid_0's l2: 0.789291\tvalid_0's rmse: 0.888421\tvalid_1's l2: 0.87193\tvalid_1's rmse: 0.933772\n",
      "[15]\tvalid_0's l2: 0.779314\tvalid_0's rmse: 0.882788\tvalid_1's l2: 0.865822\tvalid_1's rmse: 0.930496\n",
      "[16]\tvalid_0's l2: 0.770465\tvalid_0's rmse: 0.877761\tvalid_1's l2: 0.862903\tvalid_1's rmse: 0.928926\n",
      "[17]\tvalid_0's l2: 0.762844\tvalid_0's rmse: 0.873409\tvalid_1's l2: 0.860022\tvalid_1's rmse: 0.927374\n",
      "[18]\tvalid_0's l2: 0.756332\tvalid_0's rmse: 0.869674\tvalid_1's l2: 0.85988\tvalid_1's rmse: 0.927297\n",
      "[19]\tvalid_0's l2: 0.750853\tvalid_0's rmse: 0.866518\tvalid_1's l2: 0.858106\tvalid_1's rmse: 0.92634\n",
      "[20]\tvalid_0's l2: 0.745609\tvalid_0's rmse: 0.863486\tvalid_1's l2: 0.854651\tvalid_1's rmse: 0.924473\n",
      "[21]\tvalid_0's l2: 0.740534\tvalid_0's rmse: 0.860543\tvalid_1's l2: 0.852143\tvalid_1's rmse: 0.923116\n",
      "[22]\tvalid_0's l2: 0.736021\tvalid_0's rmse: 0.857917\tvalid_1's l2: 0.852573\tvalid_1's rmse: 0.923349\n",
      "[23]\tvalid_0's l2: 0.731403\tvalid_0's rmse: 0.855221\tvalid_1's l2: 0.851094\tvalid_1's rmse: 0.922547\n",
      "[24]\tvalid_0's l2: 0.728406\tvalid_0's rmse: 0.853467\tvalid_1's l2: 0.851097\tvalid_1's rmse: 0.922549\n",
      "[25]\tvalid_0's l2: 0.725208\tvalid_0's rmse: 0.851592\tvalid_1's l2: 0.850552\tvalid_1's rmse: 0.922254\n",
      "[26]\tvalid_0's l2: 0.72157\tvalid_0's rmse: 0.849453\tvalid_1's l2: 0.847764\tvalid_1's rmse: 0.920741\n",
      "[27]\tvalid_0's l2: 0.718998\tvalid_0's rmse: 0.847938\tvalid_1's l2: 0.848621\tvalid_1's rmse: 0.921207\n",
      "[28]\tvalid_0's l2: 0.716916\tvalid_0's rmse: 0.846709\tvalid_1's l2: 0.848042\tvalid_1's rmse: 0.920892\n",
      "[29]\tvalid_0's l2: 0.71378\tvalid_0's rmse: 0.844855\tvalid_1's l2: 0.845683\tvalid_1's rmse: 0.91961\n",
      "[30]\tvalid_0's l2: 0.711711\tvalid_0's rmse: 0.84363\tvalid_1's l2: 0.844102\tvalid_1's rmse: 0.91875\n",
      "[31]\tvalid_0's l2: 0.709517\tvalid_0's rmse: 0.842328\tvalid_1's l2: 0.845706\tvalid_1's rmse: 0.919623\n",
      "[32]\tvalid_0's l2: 0.707605\tvalid_0's rmse: 0.841193\tvalid_1's l2: 0.844541\tvalid_1's rmse: 0.918989\n",
      "[33]\tvalid_0's l2: 0.705505\tvalid_0's rmse: 0.839943\tvalid_1's l2: 0.846661\tvalid_1's rmse: 0.920142\n",
      "[34]\tvalid_0's l2: 0.703773\tvalid_0's rmse: 0.838912\tvalid_1's l2: 0.846373\tvalid_1's rmse: 0.919985\n",
      "[35]\tvalid_0's l2: 0.702156\tvalid_0's rmse: 0.837947\tvalid_1's l2: 0.846987\tvalid_1's rmse: 0.920319\n",
      "[36]\tvalid_0's l2: 0.700743\tvalid_0's rmse: 0.837104\tvalid_1's l2: 0.846891\tvalid_1's rmse: 0.920267\n",
      "[37]\tvalid_0's l2: 0.69955\tvalid_0's rmse: 0.836391\tvalid_1's l2: 0.847075\tvalid_1's rmse: 0.920367\n",
      "[38]\tvalid_0's l2: 0.698374\tvalid_0's rmse: 0.835688\tvalid_1's l2: 0.846322\tvalid_1's rmse: 0.919958\n",
      "[39]\tvalid_0's l2: 0.697002\tvalid_0's rmse: 0.834867\tvalid_1's l2: 0.846596\tvalid_1's rmse: 0.920107\n",
      "[40]\tvalid_0's l2: 0.695798\tvalid_0's rmse: 0.834145\tvalid_1's l2: 0.847262\tvalid_1's rmse: 0.920468\n",
      "Early stopping, best iteration is:\n",
      "[30]\tvalid_0's l2: 0.711711\tvalid_0's rmse: 0.84363\tvalid_1's l2: 0.844102\tvalid_1's rmse: 0.91875\n"
     ]
    },
    {
     "name": "stderr",
     "output_type": "stream",
     "text": [
      "d:\\python\\lib\\site-packages\\numpy\\core\\_methods.py:36: RuntimeWarning: overflow encountered in reduce\n",
      "  return umr_sum(a, axis, dtype, out, keepdims, initial)\n",
      "d:\\python\\lib\\site-packages\\numpy\\core\\_methods.py:36: RuntimeWarning: overflow encountered in reduce\n",
      "  return umr_sum(a, axis, dtype, out, keepdims, initial)\n"
     ]
    },
    {
     "name": "stdout",
     "output_type": "stream",
     "text": [
      "[1]\tvalid_0's l2: 1.29915\tvalid_0's rmse: 1.1398\tvalid_1's l2: 1.21483\tvalid_1's rmse: 1.10219\n",
      "Training until validation scores don't improve for 10 rounds.\n",
      "[2]\tvalid_0's l2: 1.20428\tvalid_0's rmse: 1.0974\tvalid_1's l2: 1.14822\tvalid_1's rmse: 1.07155\n",
      "[3]\tvalid_0's l2: 1.12997\tvalid_0's rmse: 1.063\tvalid_1's l2: 1.09625\tvalid_1's rmse: 1.04702\n",
      "[4]\tvalid_0's l2: 1.06562\tvalid_0's rmse: 1.03229\tvalid_1's l2: 1.05041\tvalid_1's rmse: 1.02489\n",
      "[5]\tvalid_0's l2: 1.01252\tvalid_0's rmse: 1.00624\tvalid_1's l2: 1.01281\tvalid_1's rmse: 1.00638\n",
      "[6]\tvalid_0's l2: 0.968094\tvalid_0's rmse: 0.983918\tvalid_1's l2: 0.983293\tvalid_1's rmse: 0.991611\n",
      "[7]\tvalid_0's l2: 0.931426\tvalid_0's rmse: 0.965104\tvalid_1's l2: 0.956918\tvalid_1's rmse: 0.978222\n",
      "[8]\tvalid_0's l2: 0.900614\tvalid_0's rmse: 0.949007\tvalid_1's l2: 0.936504\tvalid_1's rmse: 0.967732\n",
      "[9]\tvalid_0's l2: 0.875499\tvalid_0's rmse: 0.935681\tvalid_1's l2: 0.921759\tvalid_1's rmse: 0.960083\n",
      "[10]\tvalid_0's l2: 0.854517\tvalid_0's rmse: 0.924401\tvalid_1's l2: 0.90911\tvalid_1's rmse: 0.953473\n",
      "[11]\tvalid_0's l2: 0.835862\tvalid_0's rmse: 0.914255\tvalid_1's l2: 0.898042\tvalid_1's rmse: 0.947651\n",
      "[12]\tvalid_0's l2: 0.819236\tvalid_0's rmse: 0.905116\tvalid_1's l2: 0.888205\tvalid_1's rmse: 0.942446\n",
      "[13]\tvalid_0's l2: 0.805499\tvalid_0's rmse: 0.897496\tvalid_1's l2: 0.880768\tvalid_1's rmse: 0.938493\n",
      "[14]\tvalid_0's l2: 0.793839\tvalid_0's rmse: 0.890976\tvalid_1's l2: 0.876941\tvalid_1's rmse: 0.936452\n",
      "[15]\tvalid_0's l2: 0.783448\tvalid_0's rmse: 0.885126\tvalid_1's l2: 0.872151\tvalid_1's rmse: 0.93389\n",
      "[16]\tvalid_0's l2: 0.773901\tvalid_0's rmse: 0.879716\tvalid_1's l2: 0.870725\tvalid_1's rmse: 0.933126\n",
      "[17]\tvalid_0's l2: 0.765759\tvalid_0's rmse: 0.875077\tvalid_1's l2: 0.866263\tvalid_1's rmse: 0.930732\n",
      "[18]\tvalid_0's l2: 0.758971\tvalid_0's rmse: 0.87119\tvalid_1's l2: 0.864623\tvalid_1's rmse: 0.929851\n",
      "[19]\tvalid_0's l2: 0.753613\tvalid_0's rmse: 0.868109\tvalid_1's l2: 0.861563\tvalid_1's rmse: 0.928204\n",
      "[20]\tvalid_0's l2: 0.747833\tvalid_0's rmse: 0.864773\tvalid_1's l2: 0.858344\tvalid_1's rmse: 0.926468\n",
      "[21]\tvalid_0's l2: 0.74295\tvalid_0's rmse: 0.861946\tvalid_1's l2: 0.856591\tvalid_1's rmse: 0.925522\n",
      "[22]\tvalid_0's l2: 0.738632\tvalid_0's rmse: 0.859437\tvalid_1's l2: 0.855437\tvalid_1's rmse: 0.924898\n",
      "[23]\tvalid_0's l2: 0.734131\tvalid_0's rmse: 0.856814\tvalid_1's l2: 0.852838\tvalid_1's rmse: 0.923492\n",
      "[24]\tvalid_0's l2: 0.729976\tvalid_0's rmse: 0.854386\tvalid_1's l2: 0.856486\tvalid_1's rmse: 0.925465\n",
      "[25]\tvalid_0's l2: 0.726606\tvalid_0's rmse: 0.852412\tvalid_1's l2: 0.855798\tvalid_1's rmse: 0.925093\n",
      "[26]\tvalid_0's l2: 0.723567\tvalid_0's rmse: 0.850627\tvalid_1's l2: 0.853886\tvalid_1's rmse: 0.924059\n",
      "[27]\tvalid_0's l2: 0.720897\tvalid_0's rmse: 0.849057\tvalid_1's l2: 0.853565\tvalid_1's rmse: 0.923886\n",
      "[28]\tvalid_0's l2: 0.718224\tvalid_0's rmse: 0.847481\tvalid_1's l2: 0.852522\tvalid_1's rmse: 0.923321\n",
      "[29]\tvalid_0's l2: 0.715356\tvalid_0's rmse: 0.845787\tvalid_1's l2: 0.850858\tvalid_1's rmse: 0.92242\n",
      "[30]\tvalid_0's l2: 0.713131\tvalid_0's rmse: 0.844471\tvalid_1's l2: 0.849644\tvalid_1's rmse: 0.921761\n",
      "[31]\tvalid_0's l2: 0.711022\tvalid_0's rmse: 0.843221\tvalid_1's l2: 0.848993\tvalid_1's rmse: 0.921408\n",
      "[32]\tvalid_0's l2: 0.709024\tvalid_0's rmse: 0.842036\tvalid_1's l2: 0.847109\tvalid_1's rmse: 0.920385\n",
      "[33]\tvalid_0's l2: 0.706981\tvalid_0's rmse: 0.840821\tvalid_1's l2: 0.846939\tvalid_1's rmse: 0.920293\n",
      "[34]\tvalid_0's l2: 0.705365\tvalid_0's rmse: 0.83986\tvalid_1's l2: 0.84627\tvalid_1's rmse: 0.919929\n",
      "[35]\tvalid_0's l2: 0.703363\tvalid_0's rmse: 0.838667\tvalid_1's l2: 0.846471\tvalid_1's rmse: 0.920039\n",
      "[36]\tvalid_0's l2: 0.70188\tvalid_0's rmse: 0.837783\tvalid_1's l2: 0.846299\tvalid_1's rmse: 0.919945\n",
      "[37]\tvalid_0's l2: 0.700561\tvalid_0's rmse: 0.836996\tvalid_1's l2: 0.845907\tvalid_1's rmse: 0.919732\n",
      "[38]\tvalid_0's l2: 0.698986\tvalid_0's rmse: 0.836054\tvalid_1's l2: 0.845471\tvalid_1's rmse: 0.919495\n",
      "[39]\tvalid_0's l2: 0.697305\tvalid_0's rmse: 0.835048\tvalid_1's l2: 0.844599\tvalid_1's rmse: 0.919021\n",
      "[40]\tvalid_0's l2: 0.695907\tvalid_0's rmse: 0.83421\tvalid_1's l2: 0.844417\tvalid_1's rmse: 0.918922\n",
      "[41]\tvalid_0's l2: 0.694606\tvalid_0's rmse: 0.833431\tvalid_1's l2: 0.843885\tvalid_1's rmse: 0.918632\n",
      "[42]\tvalid_0's l2: 0.693389\tvalid_0's rmse: 0.8327\tvalid_1's l2: 0.843277\tvalid_1's rmse: 0.918301\n",
      "[43]\tvalid_0's l2: 0.691723\tvalid_0's rmse: 0.831699\tvalid_1's l2: 0.842255\tvalid_1's rmse: 0.917744\n",
      "[44]\tvalid_0's l2: 0.690619\tvalid_0's rmse: 0.831035\tvalid_1's l2: 0.842018\tvalid_1's rmse: 0.917615\n",
      "[45]\tvalid_0's l2: 0.689585\tvalid_0's rmse: 0.830413\tvalid_1's l2: 0.842908\tvalid_1's rmse: 0.9181\n",
      "[46]\tvalid_0's l2: 0.688386\tvalid_0's rmse: 0.82969\tvalid_1's l2: 0.842482\tvalid_1's rmse: 0.917868\n",
      "[47]\tvalid_0's l2: 0.68743\tvalid_0's rmse: 0.829114\tvalid_1's l2: 0.843174\tvalid_1's rmse: 0.918245\n",
      "[48]\tvalid_0's l2: 0.686497\tvalid_0's rmse: 0.828551\tvalid_1's l2: 0.843807\tvalid_1's rmse: 0.91859\n",
      "[49]\tvalid_0's l2: 0.685629\tvalid_0's rmse: 0.828027\tvalid_1's l2: 0.843617\tvalid_1's rmse: 0.918486\n",
      "[50]\tvalid_0's l2: 0.684761\tvalid_0's rmse: 0.827503\tvalid_1's l2: 0.843091\tvalid_1's rmse: 0.9182\n",
      "[51]\tvalid_0's l2: 0.683634\tvalid_0's rmse: 0.826821\tvalid_1's l2: 0.842815\tvalid_1's rmse: 0.91805\n",
      "[52]\tvalid_0's l2: 0.682459\tvalid_0's rmse: 0.826111\tvalid_1's l2: 0.842882\tvalid_1's rmse: 0.918086\n",
      "[53]\tvalid_0's l2: 0.681529\tvalid_0's rmse: 0.825548\tvalid_1's l2: 0.842756\tvalid_1's rmse: 0.918017\n",
      "[54]\tvalid_0's l2: 0.680824\tvalid_0's rmse: 0.825121\tvalid_1's l2: 0.842982\tvalid_1's rmse: 0.91814\n",
      "Early stopping, best iteration is:\n",
      "[44]\tvalid_0's l2: 0.690619\tvalid_0's rmse: 0.831035\tvalid_1's l2: 0.842018\tvalid_1's rmse: 0.917615\n"
     ]
    },
    {
     "name": "stderr",
     "output_type": "stream",
     "text": [
      "d:\\python\\lib\\site-packages\\numpy\\core\\_methods.py:36: RuntimeWarning: overflow encountered in reduce\n",
      "  return umr_sum(a, axis, dtype, out, keepdims, initial)\n",
      "d:\\python\\lib\\site-packages\\numpy\\core\\_methods.py:36: RuntimeWarning: overflow encountered in reduce\n",
      "  return umr_sum(a, axis, dtype, out, keepdims, initial)\n"
     ]
    },
    {
     "name": "stdout",
     "output_type": "stream",
     "text": [
      "[1]\tvalid_0's l2: 1.29977\tvalid_0's rmse: 1.14007\tvalid_1's l2: 1.21409\tvalid_1's rmse: 1.10186\n",
      "Training until validation scores don't improve for 10 rounds.\n",
      "[2]\tvalid_0's l2: 1.20486\tvalid_0's rmse: 1.09766\tvalid_1's l2: 1.14513\tvalid_1's rmse: 1.07011\n",
      "[3]\tvalid_0's l2: 1.13138\tvalid_0's rmse: 1.06366\tvalid_1's l2: 1.09447\tvalid_1's rmse: 1.04617\n",
      "[4]\tvalid_0's l2: 1.06746\tvalid_0's rmse: 1.03318\tvalid_1's l2: 1.04874\tvalid_1's rmse: 1.02408\n",
      "[5]\tvalid_0's l2: 1.0144\tvalid_0's rmse: 1.00718\tvalid_1's l2: 1.01073\tvalid_1's rmse: 1.00535\n",
      "[6]\tvalid_0's l2: 0.969927\tvalid_0's rmse: 0.984849\tvalid_1's l2: 0.9803\tvalid_1's rmse: 0.990101\n",
      "[7]\tvalid_0's l2: 0.93277\tvalid_0's rmse: 0.9658\tvalid_1's l2: 0.956717\tvalid_1's rmse: 0.978119\n",
      "[8]\tvalid_0's l2: 0.901193\tvalid_0's rmse: 0.949312\tvalid_1's l2: 0.932565\tvalid_1's rmse: 0.965694\n",
      "[9]\tvalid_0's l2: 0.875774\tvalid_0's rmse: 0.935828\tvalid_1's l2: 0.916645\tvalid_1's rmse: 0.957416\n",
      "[10]\tvalid_0's l2: 0.854484\tvalid_0's rmse: 0.924383\tvalid_1's l2: 0.904189\tvalid_1's rmse: 0.950888\n",
      "[11]\tvalid_0's l2: 0.836754\tvalid_0's rmse: 0.914743\tvalid_1's l2: 0.894636\tvalid_1's rmse: 0.945852\n",
      "[12]\tvalid_0's l2: 0.820256\tvalid_0's rmse: 0.90568\tvalid_1's l2: 0.884095\tvalid_1's rmse: 0.940263\n",
      "[13]\tvalid_0's l2: 0.80651\tvalid_0's rmse: 0.898059\tvalid_1's l2: 0.876562\tvalid_1's rmse: 0.936249\n",
      "[14]\tvalid_0's l2: 0.795262\tvalid_0's rmse: 0.891775\tvalid_1's l2: 0.870757\tvalid_1's rmse: 0.933143\n",
      "[15]\tvalid_0's l2: 0.78453\tvalid_0's rmse: 0.885737\tvalid_1's l2: 0.867156\tvalid_1's rmse: 0.931212\n",
      "[16]\tvalid_0's l2: 0.775817\tvalid_0's rmse: 0.880805\tvalid_1's l2: 0.862111\tvalid_1's rmse: 0.928499\n",
      "[17]\tvalid_0's l2: 0.768103\tvalid_0's rmse: 0.876415\tvalid_1's l2: 0.856604\tvalid_1's rmse: 0.925529\n",
      "[18]\tvalid_0's l2: 0.76154\tvalid_0's rmse: 0.872662\tvalid_1's l2: 0.853666\tvalid_1's rmse: 0.92394\n",
      "[19]\tvalid_0's l2: 0.755881\tvalid_0's rmse: 0.869414\tvalid_1's l2: 0.851822\tvalid_1's rmse: 0.922942\n",
      "[20]\tvalid_0's l2: 0.750817\tvalid_0's rmse: 0.866497\tvalid_1's l2: 0.850136\tvalid_1's rmse: 0.922028\n",
      "[21]\tvalid_0's l2: 0.74606\tvalid_0's rmse: 0.863748\tvalid_1's l2: 0.849072\tvalid_1's rmse: 0.921451\n",
      "[22]\tvalid_0's l2: 0.741681\tvalid_0's rmse: 0.861209\tvalid_1's l2: 0.846813\tvalid_1's rmse: 0.920224\n",
      "[23]\tvalid_0's l2: 0.737714\tvalid_0's rmse: 0.858903\tvalid_1's l2: 0.846237\tvalid_1's rmse: 0.919912\n",
      "[24]\tvalid_0's l2: 0.734235\tvalid_0's rmse: 0.856875\tvalid_1's l2: 0.845118\tvalid_1's rmse: 0.919303\n",
      "[25]\tvalid_0's l2: 0.731222\tvalid_0's rmse: 0.855115\tvalid_1's l2: 0.844167\tvalid_1's rmse: 0.918785\n",
      "[26]\tvalid_0's l2: 0.728634\tvalid_0's rmse: 0.853601\tvalid_1's l2: 0.843382\tvalid_1's rmse: 0.918358\n",
      "[27]\tvalid_0's l2: 0.726076\tvalid_0's rmse: 0.852101\tvalid_1's l2: 0.842962\tvalid_1's rmse: 0.918129\n",
      "[28]\tvalid_0's l2: 0.723671\tvalid_0's rmse: 0.850689\tvalid_1's l2: 0.842618\tvalid_1's rmse: 0.917942\n",
      "[29]\tvalid_0's l2: 0.721695\tvalid_0's rmse: 0.849527\tvalid_1's l2: 0.84209\tvalid_1's rmse: 0.917655\n",
      "[30]\tvalid_0's l2: 0.719756\tvalid_0's rmse: 0.848384\tvalid_1's l2: 0.842576\tvalid_1's rmse: 0.917919\n",
      "[31]\tvalid_0's l2: 0.71818\tvalid_0's rmse: 0.847455\tvalid_1's l2: 0.842215\tvalid_1's rmse: 0.917723\n",
      "[32]\tvalid_0's l2: 0.716012\tvalid_0's rmse: 0.846175\tvalid_1's l2: 0.842304\tvalid_1's rmse: 0.917771\n",
      "[33]\tvalid_0's l2: 0.714279\tvalid_0's rmse: 0.84515\tvalid_1's l2: 0.843047\tvalid_1's rmse: 0.918176\n",
      "[34]\tvalid_0's l2: 0.712409\tvalid_0's rmse: 0.844043\tvalid_1's l2: 0.8439\tvalid_1's rmse: 0.91864\n",
      "[35]\tvalid_0's l2: 0.710863\tvalid_0's rmse: 0.843127\tvalid_1's l2: 0.845022\tvalid_1's rmse: 0.919251\n",
      "[36]\tvalid_0's l2: 0.709316\tvalid_0's rmse: 0.842209\tvalid_1's l2: 0.847951\tvalid_1's rmse: 0.920842\n",
      "[37]\tvalid_0's l2: 0.707816\tvalid_0's rmse: 0.841318\tvalid_1's l2: 0.847184\tvalid_1's rmse: 0.920426\n",
      "[38]\tvalid_0's l2: 0.70668\tvalid_0's rmse: 0.840643\tvalid_1's l2: 0.846565\tvalid_1's rmse: 0.92009\n",
      "[39]\tvalid_0's l2: 0.705521\tvalid_0's rmse: 0.839953\tvalid_1's l2: 0.84689\tvalid_1's rmse: 0.920266\n",
      "Early stopping, best iteration is:\n",
      "[29]\tvalid_0's l2: 0.721695\tvalid_0's rmse: 0.849527\tvalid_1's l2: 0.84209\tvalid_1's rmse: 0.917655\n"
     ]
    },
    {
     "name": "stderr",
     "output_type": "stream",
     "text": [
      "d:\\python\\lib\\site-packages\\numpy\\core\\_methods.py:36: RuntimeWarning: overflow encountered in reduce\n",
      "  return umr_sum(a, axis, dtype, out, keepdims, initial)\n",
      "d:\\python\\lib\\site-packages\\numpy\\core\\_methods.py:36: RuntimeWarning: overflow encountered in reduce\n",
      "  return umr_sum(a, axis, dtype, out, keepdims, initial)\n"
     ]
    },
    {
     "name": "stdout",
     "output_type": "stream",
     "text": [
      "[1]\tvalid_0's l2: 1.29704\tvalid_0's rmse: 1.13888\tvalid_1's l2: 1.21243\tvalid_1's rmse: 1.1011\n",
      "Training until validation scores don't improve for 10 rounds.\n",
      "[2]\tvalid_0's l2: 1.2012\tvalid_0's rmse: 1.09599\tvalid_1's l2: 1.14392\tvalid_1's rmse: 1.06954\n",
      "[3]\tvalid_0's l2: 1.1242\tvalid_0's rmse: 1.06028\tvalid_1's l2: 1.09073\tvalid_1's rmse: 1.04438\n",
      "[4]\tvalid_0's l2: 1.05996\tvalid_0's rmse: 1.02955\tvalid_1's l2: 1.0462\tvalid_1's rmse: 1.02284\n",
      "[5]\tvalid_0's l2: 1.0082\tvalid_0's rmse: 1.00409\tvalid_1's l2: 1.00942\tvalid_1's rmse: 1.0047\n",
      "[6]\tvalid_0's l2: 0.963965\tvalid_0's rmse: 0.981817\tvalid_1's l2: 0.979011\tvalid_1's rmse: 0.98945\n",
      "[7]\tvalid_0's l2: 0.927608\tvalid_0's rmse: 0.963124\tvalid_1's l2: 0.953979\tvalid_1's rmse: 0.976718\n",
      "[8]\tvalid_0's l2: 0.897011\tvalid_0's rmse: 0.947107\tvalid_1's l2: 0.934529\tvalid_1's rmse: 0.96671\n",
      "[9]\tvalid_0's l2: 0.872269\tvalid_0's rmse: 0.933954\tvalid_1's l2: 0.919584\tvalid_1's rmse: 0.958949\n",
      "[10]\tvalid_0's l2: 0.852086\tvalid_0's rmse: 0.923085\tvalid_1's l2: 0.90756\tvalid_1's rmse: 0.952659\n",
      "[11]\tvalid_0's l2: 0.83353\tvalid_0's rmse: 0.912979\tvalid_1's l2: 0.896906\tvalid_1's rmse: 0.947051\n",
      "[12]\tvalid_0's l2: 0.817644\tvalid_0's rmse: 0.904237\tvalid_1's l2: 0.886842\tvalid_1's rmse: 0.941723\n",
      "[13]\tvalid_0's l2: 0.803821\tvalid_0's rmse: 0.896561\tvalid_1's l2: 0.877565\tvalid_1's rmse: 0.936784\n",
      "[14]\tvalid_0's l2: 0.792965\tvalid_0's rmse: 0.890486\tvalid_1's l2: 0.873044\tvalid_1's rmse: 0.934368\n",
      "[15]\tvalid_0's l2: 0.782377\tvalid_0's rmse: 0.884521\tvalid_1's l2: 0.867223\tvalid_1's rmse: 0.931248\n",
      "[16]\tvalid_0's l2: 0.774011\tvalid_0's rmse: 0.879779\tvalid_1's l2: 0.862627\tvalid_1's rmse: 0.928777\n",
      "[17]\tvalid_0's l2: 0.766875\tvalid_0's rmse: 0.875714\tvalid_1's l2: 0.858809\tvalid_1's rmse: 0.926719\n",
      "[18]\tvalid_0's l2: 0.759028\tvalid_0's rmse: 0.871222\tvalid_1's l2: 0.856507\tvalid_1's rmse: 0.925477\n",
      "[19]\tvalid_0's l2: 0.7544\tvalid_0's rmse: 0.868562\tvalid_1's l2: 0.854461\tvalid_1's rmse: 0.92437\n",
      "[20]\tvalid_0's l2: 0.748894\tvalid_0's rmse: 0.865386\tvalid_1's l2: 0.853418\tvalid_1's rmse: 0.923806\n",
      "[21]\tvalid_0's l2: 0.743321\tvalid_0's rmse: 0.862161\tvalid_1's l2: 0.850876\tvalid_1's rmse: 0.92243\n",
      "[22]\tvalid_0's l2: 0.738646\tvalid_0's rmse: 0.859445\tvalid_1's l2: 0.848566\tvalid_1's rmse: 0.921176\n",
      "[23]\tvalid_0's l2: 0.734766\tvalid_0's rmse: 0.857185\tvalid_1's l2: 0.848785\tvalid_1's rmse: 0.921295\n",
      "[24]\tvalid_0's l2: 0.731251\tvalid_0's rmse: 0.855132\tvalid_1's l2: 0.847693\tvalid_1's rmse: 0.920702\n",
      "[25]\tvalid_0's l2: 0.727936\tvalid_0's rmse: 0.853192\tvalid_1's l2: 0.846233\tvalid_1's rmse: 0.919909\n",
      "[26]\tvalid_0's l2: 0.724172\tvalid_0's rmse: 0.850983\tvalid_1's l2: 0.844093\tvalid_1's rmse: 0.918745\n",
      "[27]\tvalid_0's l2: 0.721759\tvalid_0's rmse: 0.849564\tvalid_1's l2: 0.843307\tvalid_1's rmse: 0.918317\n",
      "[28]\tvalid_0's l2: 0.718945\tvalid_0's rmse: 0.847906\tvalid_1's l2: 0.848328\tvalid_1's rmse: 0.921047\n",
      "[29]\tvalid_0's l2: 0.716609\tvalid_0's rmse: 0.846528\tvalid_1's l2: 0.847602\tvalid_1's rmse: 0.920653\n",
      "[30]\tvalid_0's l2: 0.714305\tvalid_0's rmse: 0.845166\tvalid_1's l2: 0.847323\tvalid_1's rmse: 0.920501\n",
      "[31]\tvalid_0's l2: 0.712021\tvalid_0's rmse: 0.843813\tvalid_1's l2: 0.846837\tvalid_1's rmse: 0.920238\n",
      "[32]\tvalid_0's l2: 0.710444\tvalid_0's rmse: 0.842878\tvalid_1's l2: 0.844852\tvalid_1's rmse: 0.919158\n",
      "[33]\tvalid_0's l2: 0.708466\tvalid_0's rmse: 0.841704\tvalid_1's l2: 0.844192\tvalid_1's rmse: 0.918799\n",
      "[34]\tvalid_0's l2: 0.706736\tvalid_0's rmse: 0.840676\tvalid_1's l2: 0.843307\tvalid_1's rmse: 0.918317\n",
      "[35]\tvalid_0's l2: 0.704522\tvalid_0's rmse: 0.839358\tvalid_1's l2: 0.842127\tvalid_1's rmse: 0.917675\n",
      "[36]\tvalid_0's l2: 0.702887\tvalid_0's rmse: 0.838384\tvalid_1's l2: 0.841931\tvalid_1's rmse: 0.917568\n",
      "[37]\tvalid_0's l2: 0.701565\tvalid_0's rmse: 0.837595\tvalid_1's l2: 0.841811\tvalid_1's rmse: 0.917503\n",
      "[38]\tvalid_0's l2: 0.700351\tvalid_0's rmse: 0.836869\tvalid_1's l2: 0.841789\tvalid_1's rmse: 0.917491\n",
      "[39]\tvalid_0's l2: 0.698909\tvalid_0's rmse: 0.836008\tvalid_1's l2: 0.84112\tvalid_1's rmse: 0.917126\n",
      "[40]\tvalid_0's l2: 0.69769\tvalid_0's rmse: 0.835278\tvalid_1's l2: 0.841407\tvalid_1's rmse: 0.917282\n",
      "[41]\tvalid_0's l2: 0.69639\tvalid_0's rmse: 0.8345\tvalid_1's l2: 0.841465\tvalid_1's rmse: 0.917314\n",
      "[42]\tvalid_0's l2: 0.694893\tvalid_0's rmse: 0.833603\tvalid_1's l2: 0.841309\tvalid_1's rmse: 0.917229\n",
      "[43]\tvalid_0's l2: 0.693553\tvalid_0's rmse: 0.832798\tvalid_1's l2: 0.841982\tvalid_1's rmse: 0.917596\n",
      "[44]\tvalid_0's l2: 0.692632\tvalid_0's rmse: 0.832245\tvalid_1's l2: 0.841653\tvalid_1's rmse: 0.917416\n",
      "[45]\tvalid_0's l2: 0.691851\tvalid_0's rmse: 0.831776\tvalid_1's l2: 0.8413\tvalid_1's rmse: 0.917224\n",
      "[46]\tvalid_0's l2: 0.690825\tvalid_0's rmse: 0.831159\tvalid_1's l2: 0.841147\tvalid_1's rmse: 0.917141\n",
      "[47]\tvalid_0's l2: 0.69003\tvalid_0's rmse: 0.83068\tvalid_1's l2: 0.841178\tvalid_1's rmse: 0.917157\n",
      "[48]\tvalid_0's l2: 0.688898\tvalid_0's rmse: 0.829999\tvalid_1's l2: 0.841521\tvalid_1's rmse: 0.917345\n",
      "[49]\tvalid_0's l2: 0.688031\tvalid_0's rmse: 0.829477\tvalid_1's l2: 0.841578\tvalid_1's rmse: 0.917375\n",
      "Early stopping, best iteration is:\n",
      "[39]\tvalid_0's l2: 0.698909\tvalid_0's rmse: 0.836008\tvalid_1's l2: 0.84112\tvalid_1's rmse: 0.917126\n"
     ]
    },
    {
     "name": "stderr",
     "output_type": "stream",
     "text": [
      "d:\\python\\lib\\site-packages\\numpy\\core\\_methods.py:36: RuntimeWarning: overflow encountered in reduce\n",
      "  return umr_sum(a, axis, dtype, out, keepdims, initial)\n",
      "d:\\python\\lib\\site-packages\\numpy\\core\\_methods.py:36: RuntimeWarning: overflow encountered in reduce\n",
      "  return umr_sum(a, axis, dtype, out, keepdims, initial)\n"
     ]
    },
    {
     "name": "stdout",
     "output_type": "stream",
     "text": [
      "[1]\tvalid_0's l2: 1.29745\tvalid_0's rmse: 1.13906\tvalid_1's l2: 1.21206\tvalid_1's rmse: 1.10094\n",
      "Training until validation scores don't improve for 10 rounds.\n",
      "[2]\tvalid_0's l2: 1.20178\tvalid_0's rmse: 1.09626\tvalid_1's l2: 1.14307\tvalid_1's rmse: 1.06914\n",
      "[3]\tvalid_0's l2: 1.1249\tvalid_0's rmse: 1.06061\tvalid_1's l2: 1.09164\tvalid_1's rmse: 1.04482\n",
      "[4]\tvalid_0's l2: 1.05993\tvalid_0's rmse: 1.02953\tvalid_1's l2: 1.04395\tvalid_1's rmse: 1.02174\n",
      "[5]\tvalid_0's l2: 1.007\tvalid_0's rmse: 1.00349\tvalid_1's l2: 1.00631\tvalid_1's rmse: 1.00315\n",
      "[6]\tvalid_0's l2: 0.962693\tvalid_0's rmse: 0.981169\tvalid_1's l2: 0.975404\tvalid_1's rmse: 0.987626\n",
      "[7]\tvalid_0's l2: 0.925041\tvalid_0's rmse: 0.96179\tvalid_1's l2: 0.954015\tvalid_1's rmse: 0.976737\n",
      "[8]\tvalid_0's l2: 0.894066\tvalid_0's rmse: 0.94555\tvalid_1's l2: 0.933818\tvalid_1's rmse: 0.966343\n",
      "[9]\tvalid_0's l2: 0.869575\tvalid_0's rmse: 0.93251\tvalid_1's l2: 0.919994\tvalid_1's rmse: 0.959163\n",
      "[10]\tvalid_0's l2: 0.848343\tvalid_0's rmse: 0.921055\tvalid_1's l2: 0.90806\tvalid_1's rmse: 0.952922\n",
      "[11]\tvalid_0's l2: 0.829417\tvalid_0's rmse: 0.910723\tvalid_1's l2: 0.897515\tvalid_1's rmse: 0.947373\n",
      "[12]\tvalid_0's l2: 0.813489\tvalid_0's rmse: 0.901936\tvalid_1's l2: 0.890799\tvalid_1's rmse: 0.943822\n",
      "[13]\tvalid_0's l2: 0.800363\tvalid_0's rmse: 0.89463\tvalid_1's l2: 0.88693\tvalid_1's rmse: 0.94177\n",
      "[14]\tvalid_0's l2: 0.78861\tvalid_0's rmse: 0.888037\tvalid_1's l2: 0.88325\tvalid_1's rmse: 0.939814\n",
      "[15]\tvalid_0's l2: 0.777874\tvalid_0's rmse: 0.881972\tvalid_1's l2: 0.878542\tvalid_1's rmse: 0.937305\n",
      "[16]\tvalid_0's l2: 0.769152\tvalid_0's rmse: 0.877013\tvalid_1's l2: 0.875055\tvalid_1's rmse: 0.935444\n",
      "[17]\tvalid_0's l2: 0.761653\tvalid_0's rmse: 0.872728\tvalid_1's l2: 0.874196\tvalid_1's rmse: 0.934984\n",
      "[18]\tvalid_0's l2: 0.754386\tvalid_0's rmse: 0.868554\tvalid_1's l2: 0.88063\tvalid_1's rmse: 0.938419\n",
      "[19]\tvalid_0's l2: 0.749408\tvalid_0's rmse: 0.865684\tvalid_1's l2: 0.879526\tvalid_1's rmse: 0.93783\n",
      "[20]\tvalid_0's l2: 0.743622\tvalid_0's rmse: 0.862335\tvalid_1's l2: 0.8891\tvalid_1's rmse: 0.942921\n",
      "[21]\tvalid_0's l2: 0.738241\tvalid_0's rmse: 0.85921\tvalid_1's l2: 0.887891\tvalid_1's rmse: 0.94228\n",
      "[22]\tvalid_0's l2: 0.734108\tvalid_0's rmse: 0.856801\tvalid_1's l2: 0.889027\tvalid_1's rmse: 0.942882\n",
      "[23]\tvalid_0's l2: 0.730196\tvalid_0's rmse: 0.854515\tvalid_1's l2: 0.890188\tvalid_1's rmse: 0.943498\n",
      "[24]\tvalid_0's l2: 0.726538\tvalid_0's rmse: 0.852372\tvalid_1's l2: 0.891043\tvalid_1's rmse: 0.943951\n",
      "[25]\tvalid_0's l2: 0.722431\tvalid_0's rmse: 0.84996\tvalid_1's l2: 0.887469\tvalid_1's rmse: 0.942056\n",
      "[26]\tvalid_0's l2: 0.719489\tvalid_0's rmse: 0.848227\tvalid_1's l2: 0.886461\tvalid_1's rmse: 0.94152\n",
      "[27]\tvalid_0's l2: 0.716912\tvalid_0's rmse: 0.846706\tvalid_1's l2: 0.886865\tvalid_1's rmse: 0.941735\n",
      "Early stopping, best iteration is:\n",
      "[17]\tvalid_0's l2: 0.761653\tvalid_0's rmse: 0.872728\tvalid_1's l2: 0.874196\tvalid_1's rmse: 0.934984\n"
     ]
    },
    {
     "name": "stderr",
     "output_type": "stream",
     "text": [
      "d:\\python\\lib\\site-packages\\numpy\\core\\_methods.py:36: RuntimeWarning: overflow encountered in reduce\n",
      "  return umr_sum(a, axis, dtype, out, keepdims, initial)\n",
      "d:\\python\\lib\\site-packages\\numpy\\core\\_methods.py:36: RuntimeWarning: overflow encountered in reduce\n",
      "  return umr_sum(a, axis, dtype, out, keepdims, initial)\n"
     ]
    },
    {
     "name": "stdout",
     "output_type": "stream",
     "text": [
      "[1]\tvalid_0's l2: 1.29455\tvalid_0's rmse: 1.13778\tvalid_1's l2: 1.21003\tvalid_1's rmse: 1.10001\n",
      "Training until validation scores don't improve for 10 rounds.\n",
      "[2]\tvalid_0's l2: 1.19768\tvalid_0's rmse: 1.09439\tvalid_1's l2: 1.14163\tvalid_1's rmse: 1.06847\n",
      "[3]\tvalid_0's l2: 1.11855\tvalid_0's rmse: 1.05762\tvalid_1's l2: 1.08841\tvalid_1's rmse: 1.04327\n",
      "[4]\tvalid_0's l2: 1.05428\tvalid_0's rmse: 1.02678\tvalid_1's l2: 1.04194\tvalid_1's rmse: 1.02075\n",
      "[5]\tvalid_0's l2: 1.00141\tvalid_0's rmse: 1.00071\tvalid_1's l2: 1.00577\tvalid_1's rmse: 1.00288\n",
      "[6]\tvalid_0's l2: 0.957611\tvalid_0's rmse: 0.978576\tvalid_1's l2: 0.974727\tvalid_1's rmse: 0.987282\n",
      "[7]\tvalid_0's l2: 0.921883\tvalid_0's rmse: 0.960147\tvalid_1's l2: 0.947805\tvalid_1's rmse: 0.973553\n",
      "[8]\tvalid_0's l2: 0.891077\tvalid_0's rmse: 0.943969\tvalid_1's l2: 0.92736\tvalid_1's rmse: 0.962995\n",
      "[9]\tvalid_0's l2: 0.865576\tvalid_0's rmse: 0.930364\tvalid_1's l2: 0.912415\tvalid_1's rmse: 0.955204\n",
      "[10]\tvalid_0's l2: 0.84562\tvalid_0's rmse: 0.919576\tvalid_1's l2: 0.901056\tvalid_1's rmse: 0.94924\n",
      "[11]\tvalid_0's l2: 0.827369\tvalid_0's rmse: 0.909598\tvalid_1's l2: 0.889979\tvalid_1's rmse: 0.943387\n",
      "[12]\tvalid_0's l2: 0.811095\tvalid_0's rmse: 0.900608\tvalid_1's l2: 0.88166\tvalid_1's rmse: 0.938968\n",
      "[13]\tvalid_0's l2: 0.797483\tvalid_0's rmse: 0.893019\tvalid_1's l2: 0.873313\tvalid_1's rmse: 0.934512\n",
      "[14]\tvalid_0's l2: 0.786256\tvalid_0's rmse: 0.886711\tvalid_1's l2: 0.867347\tvalid_1's rmse: 0.931314\n",
      "[15]\tvalid_0's l2: 0.775779\tvalid_0's rmse: 0.880783\tvalid_1's l2: 0.864168\tvalid_1's rmse: 0.929607\n",
      "[16]\tvalid_0's l2: 0.767071\tvalid_0's rmse: 0.875826\tvalid_1's l2: 0.860699\tvalid_1's rmse: 0.927739\n",
      "[17]\tvalid_0's l2: 0.759788\tvalid_0's rmse: 0.871658\tvalid_1's l2: 0.856818\tvalid_1's rmse: 0.925645\n",
      "[18]\tvalid_0's l2: 0.753447\tvalid_0's rmse: 0.868013\tvalid_1's l2: 0.854392\tvalid_1's rmse: 0.924333\n",
      "[19]\tvalid_0's l2: 0.748107\tvalid_0's rmse: 0.864932\tvalid_1's l2: 0.852806\tvalid_1's rmse: 0.923475\n",
      "[20]\tvalid_0's l2: 0.742517\tvalid_0's rmse: 0.861695\tvalid_1's l2: 0.849601\tvalid_1's rmse: 0.921738\n",
      "[21]\tvalid_0's l2: 0.737401\tvalid_0's rmse: 0.858721\tvalid_1's l2: 0.848211\tvalid_1's rmse: 0.920984\n",
      "[22]\tvalid_0's l2: 0.732963\tvalid_0's rmse: 0.856133\tvalid_1's l2: 0.849367\tvalid_1's rmse: 0.921611\n",
      "[23]\tvalid_0's l2: 0.729015\tvalid_0's rmse: 0.853824\tvalid_1's l2: 0.848671\tvalid_1's rmse: 0.921233\n",
      "[24]\tvalid_0's l2: 0.724595\tvalid_0's rmse: 0.851232\tvalid_1's l2: 0.845923\tvalid_1's rmse: 0.91974\n",
      "[25]\tvalid_0's l2: 0.72121\tvalid_0's rmse: 0.849241\tvalid_1's l2: 0.844735\tvalid_1's rmse: 0.919095\n",
      "[26]\tvalid_0's l2: 0.718485\tvalid_0's rmse: 0.847635\tvalid_1's l2: 0.84369\tvalid_1's rmse: 0.918526\n",
      "[27]\tvalid_0's l2: 0.715745\tvalid_0's rmse: 0.846017\tvalid_1's l2: 0.843478\tvalid_1's rmse: 0.918411\n",
      "[28]\tvalid_0's l2: 0.713492\tvalid_0's rmse: 0.844685\tvalid_1's l2: 0.842749\tvalid_1's rmse: 0.918013\n",
      "[29]\tvalid_0's l2: 0.71109\tvalid_0's rmse: 0.843262\tvalid_1's l2: 0.842543\tvalid_1's rmse: 0.917902\n",
      "[30]\tvalid_0's l2: 0.708776\tvalid_0's rmse: 0.841889\tvalid_1's l2: 0.842036\tvalid_1's rmse: 0.917625\n",
      "[31]\tvalid_0's l2: 0.706412\tvalid_0's rmse: 0.840483\tvalid_1's l2: 0.841251\tvalid_1's rmse: 0.917197\n",
      "[32]\tvalid_0's l2: 0.704043\tvalid_0's rmse: 0.839073\tvalid_1's l2: 0.840089\tvalid_1's rmse: 0.916563\n",
      "[33]\tvalid_0's l2: 0.702198\tvalid_0's rmse: 0.837972\tvalid_1's l2: 0.840156\tvalid_1's rmse: 0.9166\n",
      "[34]\tvalid_0's l2: 0.700536\tvalid_0's rmse: 0.83698\tvalid_1's l2: 0.840775\tvalid_1's rmse: 0.916938\n",
      "[35]\tvalid_0's l2: 0.698912\tvalid_0's rmse: 0.83601\tvalid_1's l2: 0.841181\tvalid_1's rmse: 0.917159\n",
      "[36]\tvalid_0's l2: 0.697317\tvalid_0's rmse: 0.835055\tvalid_1's l2: 0.840757\tvalid_1's rmse: 0.916928\n",
      "[37]\tvalid_0's l2: 0.695998\tvalid_0's rmse: 0.834265\tvalid_1's l2: 0.841511\tvalid_1's rmse: 0.917339\n",
      "[38]\tvalid_0's l2: 0.694611\tvalid_0's rmse: 0.833433\tvalid_1's l2: 0.840862\tvalid_1's rmse: 0.916985\n",
      "[39]\tvalid_0's l2: 0.693065\tvalid_0's rmse: 0.832505\tvalid_1's l2: 0.840738\tvalid_1's rmse: 0.916918\n",
      "[40]\tvalid_0's l2: 0.691794\tvalid_0's rmse: 0.831742\tvalid_1's l2: 0.84031\tvalid_1's rmse: 0.916684\n",
      "[41]\tvalid_0's l2: 0.690366\tvalid_0's rmse: 0.830883\tvalid_1's l2: 0.841266\tvalid_1's rmse: 0.917206\n",
      "[42]\tvalid_0's l2: 0.689341\tvalid_0's rmse: 0.830266\tvalid_1's l2: 0.842116\tvalid_1's rmse: 0.917669\n",
      "Early stopping, best iteration is:\n",
      "[32]\tvalid_0's l2: 0.704043\tvalid_0's rmse: 0.839073\tvalid_1's l2: 0.840089\tvalid_1's rmse: 0.916563\n"
     ]
    },
    {
     "name": "stderr",
     "output_type": "stream",
     "text": [
      "d:\\python\\lib\\site-packages\\numpy\\core\\_methods.py:36: RuntimeWarning: overflow encountered in reduce\n",
      "  return umr_sum(a, axis, dtype, out, keepdims, initial)\n",
      "d:\\python\\lib\\site-packages\\numpy\\core\\_methods.py:36: RuntimeWarning: overflow encountered in reduce\n",
      "  return umr_sum(a, axis, dtype, out, keepdims, initial)\n"
     ]
    },
    {
     "name": "stdout",
     "output_type": "stream",
     "text": [
      "[1]\tvalid_0's l2: 1.29839\tvalid_0's rmse: 1.13947\tvalid_1's l2: 1.21442\tvalid_1's rmse: 1.10201\n",
      "Training until validation scores don't improve for 10 rounds.\n",
      "[2]\tvalid_0's l2: 1.20303\tvalid_0's rmse: 1.09683\tvalid_1's l2: 1.14749\tvalid_1's rmse: 1.07121\n",
      "[3]\tvalid_0's l2: 1.12698\tvalid_0's rmse: 1.06159\tvalid_1's l2: 1.09383\tvalid_1's rmse: 1.04586\n",
      "[4]\tvalid_0's l2: 1.06243\tvalid_0's rmse: 1.03074\tvalid_1's l2: 1.04962\tvalid_1's rmse: 1.02451\n",
      "[5]\tvalid_0's l2: 1.00845\tvalid_0's rmse: 1.00421\tvalid_1's l2: 1.01107\tvalid_1's rmse: 1.00552\n",
      "[6]\tvalid_0's l2: 0.963984\tvalid_0's rmse: 0.981827\tvalid_1's l2: 0.980365\tvalid_1's rmse: 0.990134\n",
      "[7]\tvalid_0's l2: 0.927043\tvalid_0's rmse: 0.962831\tvalid_1's l2: 0.956016\tvalid_1's rmse: 0.977761\n",
      "[8]\tvalid_0's l2: 0.896318\tvalid_0's rmse: 0.946741\tvalid_1's l2: 0.935736\tvalid_1's rmse: 0.967334\n",
      "[9]\tvalid_0's l2: 0.870756\tvalid_0's rmse: 0.933143\tvalid_1's l2: 0.921387\tvalid_1's rmse: 0.959889\n",
      "[10]\tvalid_0's l2: 0.849886\tvalid_0's rmse: 0.921893\tvalid_1's l2: 0.909279\tvalid_1's rmse: 0.953561\n",
      "[11]\tvalid_0's l2: 0.831436\tvalid_0's rmse: 0.911831\tvalid_1's l2: 0.897126\tvalid_1's rmse: 0.947167\n",
      "[12]\tvalid_0's l2: 0.814745\tvalid_0's rmse: 0.902633\tvalid_1's l2: 0.887868\tvalid_1's rmse: 0.942268\n",
      "[13]\tvalid_0's l2: 0.80103\tvalid_0's rmse: 0.895003\tvalid_1's l2: 0.881052\tvalid_1's rmse: 0.938644\n",
      "[14]\tvalid_0's l2: 0.789042\tvalid_0's rmse: 0.88828\tvalid_1's l2: 0.878789\tvalid_1's rmse: 0.937437\n",
      "[15]\tvalid_0's l2: 0.778611\tvalid_0's rmse: 0.882389\tvalid_1's l2: 0.874963\tvalid_1's rmse: 0.935395\n",
      "[16]\tvalid_0's l2: 0.769561\tvalid_0's rmse: 0.877246\tvalid_1's l2: 0.872282\tvalid_1's rmse: 0.93396\n",
      "[17]\tvalid_0's l2: 0.761525\tvalid_0's rmse: 0.872654\tvalid_1's l2: 0.868183\tvalid_1's rmse: 0.931763\n",
      "[18]\tvalid_0's l2: 0.754531\tvalid_0's rmse: 0.868638\tvalid_1's l2: 0.865868\tvalid_1's rmse: 0.93052\n",
      "[19]\tvalid_0's l2: 0.748945\tvalid_0's rmse: 0.865416\tvalid_1's l2: 0.863315\tvalid_1's rmse: 0.929148\n",
      "[20]\tvalid_0's l2: 0.743499\tvalid_0's rmse: 0.862264\tvalid_1's l2: 0.862343\tvalid_1's rmse: 0.928624\n",
      "[21]\tvalid_0's l2: 0.738177\tvalid_0's rmse: 0.859172\tvalid_1's l2: 0.859148\tvalid_1's rmse: 0.926903\n",
      "[22]\tvalid_0's l2: 0.733826\tvalid_0's rmse: 0.856636\tvalid_1's l2: 0.858046\tvalid_1's rmse: 0.926308\n",
      "[23]\tvalid_0's l2: 0.728911\tvalid_0's rmse: 0.853763\tvalid_1's l2: 0.855769\tvalid_1's rmse: 0.925078\n",
      "[24]\tvalid_0's l2: 0.724679\tvalid_0's rmse: 0.851281\tvalid_1's l2: 0.853278\tvalid_1's rmse: 0.923731\n",
      "[25]\tvalid_0's l2: 0.721334\tvalid_0's rmse: 0.849314\tvalid_1's l2: 0.852244\tvalid_1's rmse: 0.923171\n",
      "[26]\tvalid_0's l2: 0.718256\tvalid_0's rmse: 0.8475\tvalid_1's l2: 0.851435\tvalid_1's rmse: 0.922732\n",
      "[27]\tvalid_0's l2: 0.715615\tvalid_0's rmse: 0.84594\tvalid_1's l2: 0.851114\tvalid_1's rmse: 0.922559\n",
      "[28]\tvalid_0's l2: 0.712988\tvalid_0's rmse: 0.844386\tvalid_1's l2: 0.85003\tvalid_1's rmse: 0.921971\n",
      "[29]\tvalid_0's l2: 0.710016\tvalid_0's rmse: 0.842624\tvalid_1's l2: 0.84853\tvalid_1's rmse: 0.921157\n",
      "[30]\tvalid_0's l2: 0.707365\tvalid_0's rmse: 0.84105\tvalid_1's l2: 0.846775\tvalid_1's rmse: 0.920204\n",
      "[31]\tvalid_0's l2: 0.705209\tvalid_0's rmse: 0.839767\tvalid_1's l2: 0.846128\tvalid_1's rmse: 0.919852\n",
      "[32]\tvalid_0's l2: 0.703292\tvalid_0's rmse: 0.838625\tvalid_1's l2: 0.844836\tvalid_1's rmse: 0.91915\n",
      "[33]\tvalid_0's l2: 0.700962\tvalid_0's rmse: 0.837235\tvalid_1's l2: 0.844396\tvalid_1's rmse: 0.91891\n",
      "[34]\tvalid_0's l2: 0.699276\tvalid_0's rmse: 0.836227\tvalid_1's l2: 0.844118\tvalid_1's rmse: 0.918759\n",
      "[35]\tvalid_0's l2: 0.697614\tvalid_0's rmse: 0.835233\tvalid_1's l2: 0.844202\tvalid_1's rmse: 0.918805\n",
      "[36]\tvalid_0's l2: 0.695431\tvalid_0's rmse: 0.833925\tvalid_1's l2: 0.844062\tvalid_1's rmse: 0.918728\n",
      "[37]\tvalid_0's l2: 0.694027\tvalid_0's rmse: 0.833083\tvalid_1's l2: 0.843547\tvalid_1's rmse: 0.918448\n",
      "[38]\tvalid_0's l2: 0.692577\tvalid_0's rmse: 0.832212\tvalid_1's l2: 0.84326\tvalid_1's rmse: 0.918292\n",
      "[39]\tvalid_0's l2: 0.690775\tvalid_0's rmse: 0.831129\tvalid_1's l2: 0.843776\tvalid_1's rmse: 0.918573\n",
      "[40]\tvalid_0's l2: 0.689276\tvalid_0's rmse: 0.830227\tvalid_1's l2: 0.844175\tvalid_1's rmse: 0.91879\n",
      "[41]\tvalid_0's l2: 0.687933\tvalid_0's rmse: 0.829417\tvalid_1's l2: 0.844155\tvalid_1's rmse: 0.918779\n",
      "[42]\tvalid_0's l2: 0.686985\tvalid_0's rmse: 0.828846\tvalid_1's l2: 0.843676\tvalid_1's rmse: 0.918518\n",
      "[43]\tvalid_0's l2: 0.685887\tvalid_0's rmse: 0.828183\tvalid_1's l2: 0.843126\tvalid_1's rmse: 0.918219\n",
      "[44]\tvalid_0's l2: 0.684923\tvalid_0's rmse: 0.827601\tvalid_1's l2: 0.843759\tvalid_1's rmse: 0.918563\n",
      "[45]\tvalid_0's l2: 0.683657\tvalid_0's rmse: 0.826836\tvalid_1's l2: 0.843376\tvalid_1's rmse: 0.918355\n",
      "[46]\tvalid_0's l2: 0.682395\tvalid_0's rmse: 0.826072\tvalid_1's l2: 0.843724\tvalid_1's rmse: 0.918544\n",
      "[47]\tvalid_0's l2: 0.681231\tvalid_0's rmse: 0.825367\tvalid_1's l2: 0.843597\tvalid_1's rmse: 0.918475\n",
      "[48]\tvalid_0's l2: 0.679994\tvalid_0's rmse: 0.824617\tvalid_1's l2: 0.843732\tvalid_1's rmse: 0.918549\n",
      "[49]\tvalid_0's l2: 0.679189\tvalid_0's rmse: 0.82413\tvalid_1's l2: 0.843781\tvalid_1's rmse: 0.918575\n",
      "[50]\tvalid_0's l2: 0.678197\tvalid_0's rmse: 0.823527\tvalid_1's l2: 0.843578\tvalid_1's rmse: 0.918465\n",
      "[51]\tvalid_0's l2: 0.677222\tvalid_0's rmse: 0.822935\tvalid_1's l2: 0.844329\tvalid_1's rmse: 0.918874\n",
      "[52]\tvalid_0's l2: 0.676274\tvalid_0's rmse: 0.822359\tvalid_1's l2: 0.844249\tvalid_1's rmse: 0.91883\n",
      "[53]\tvalid_0's l2: 0.675391\tvalid_0's rmse: 0.821822\tvalid_1's l2: 0.844232\tvalid_1's rmse: 0.918821\n",
      "Early stopping, best iteration is:\n",
      "[43]\tvalid_0's l2: 0.685887\tvalid_0's rmse: 0.828183\tvalid_1's l2: 0.843126\tvalid_1's rmse: 0.918219\n"
     ]
    },
    {
     "name": "stderr",
     "output_type": "stream",
     "text": [
      "d:\\python\\lib\\site-packages\\numpy\\core\\_methods.py:36: RuntimeWarning: overflow encountered in reduce\n",
      "  return umr_sum(a, axis, dtype, out, keepdims, initial)\n"
     ]
    }
   ],
   "source": [
    "ts = time.time()\n",
    "\n",
    "parameters =  {\n",
    "        'max_depth': range(5,15,2),\n",
    "        'num_leaves': range(10,50,5),\n",
    "        }\n",
    "gbm = lgb.LGBMRegressor(objective='regression',\n",
    "                        learning_rate =0.1, \n",
    "                        n_estimators = 100, \n",
    "                        min_child_weight = 1, \n",
    "                        subsample = 0.8,\n",
    "                        colsample_bytree=0.8,\n",
    "                        nthread = 7,)\n",
    "\n",
    "gsearch = GridSearchCV(gbm, param_grid = parameters, cv = 5)\n",
    "gsearch.fit(X_train, Y_train, \n",
    "            eval_metric = \"rmse\",\n",
    "            eval_set = [(X_train, Y_train), (X_valid, Y_valid)],\n",
    "            verbose = True,\n",
    "            early_stopping_rounds = 10)\n",
    "\n",
    "time.time() - ts\n",
    "\n",
    "gsearch.best_params_, gsearch.best_score_"
   ]
  },
  {
   "cell_type": "markdown",
   "metadata": {},
   "source": [
    "#### 印出最佳max_depth、num_leaves參數組合"
   ]
  },
  {
   "cell_type": "code",
   "execution_count": 122,
   "metadata": {},
   "outputs": [
    {
     "data": {
      "text/plain": [
       "({'max_depth': 11, 'num_leaves': 40}, 0.47523879328069474)"
      ]
     },
     "execution_count": 122,
     "metadata": {},
     "output_type": "execute_result"
    }
   ],
   "source": [
    "gsearch.best_params_, gsearch.best_score_"
   ]
  },
  {
   "cell_type": "code",
   "execution_count": 157,
   "metadata": {},
   "outputs": [
    {
     "name": "stdout",
     "output_type": "stream",
     "text": [
      "[1]\ttraining's l2: 1.35213\ttraining's rmse: 1.16281\tvalid_1's l2: 1.25022\tvalid_1's rmse: 1.11813\n",
      "Training until validation scores don't improve for 50 rounds.\n",
      "[2]\ttraining's l2: 1.29815\ttraining's rmse: 1.13937\tvalid_1's l2: 1.21234\tvalid_1's rmse: 1.10106\n",
      "[3]\ttraining's l2: 1.24928\ttraining's rmse: 1.11771\tvalid_1's l2: 1.17862\tvalid_1's rmse: 1.08564\n",
      "[4]\ttraining's l2: 1.20492\ttraining's rmse: 1.09769\tvalid_1's l2: 1.14805\tvalid_1's rmse: 1.07147\n",
      "[5]\ttraining's l2: 1.16479\ttraining's rmse: 1.07926\tvalid_1's l2: 1.11972\tvalid_1's rmse: 1.05817\n",
      "[6]\ttraining's l2: 1.12842\ttraining's rmse: 1.06227\tvalid_1's l2: 1.09543\tvalid_1's rmse: 1.04663\n",
      "[7]\ttraining's l2: 1.09543\ttraining's rmse: 1.04663\tvalid_1's l2: 1.0722\tvalid_1's rmse: 1.03547\n",
      "[8]\ttraining's l2: 1.06528\ttraining's rmse: 1.03212\tvalid_1's l2: 1.05114\tvalid_1's rmse: 1.02525\n",
      "[9]\ttraining's l2: 1.03809\ttraining's rmse: 1.01887\tvalid_1's l2: 1.03235\tvalid_1's rmse: 1.01605\n",
      "[10]\ttraining's l2: 1.01315\ttraining's rmse: 1.00655\tvalid_1's l2: 1.01466\tvalid_1's rmse: 1.0073\n",
      "[11]\ttraining's l2: 0.990485\ttraining's rmse: 0.995231\tvalid_1's l2: 0.998839\tvalid_1's rmse: 0.999419\n",
      "[12]\ttraining's l2: 0.969527\ttraining's rmse: 0.984646\tvalid_1's l2: 0.984637\tvalid_1's rmse: 0.992289\n",
      "[13]\ttraining's l2: 0.950467\ttraining's rmse: 0.974919\tvalid_1's l2: 0.97155\tvalid_1's rmse: 0.985672\n",
      "[14]\ttraining's l2: 0.933026\ttraining's rmse: 0.965933\tvalid_1's l2: 0.961363\tvalid_1's rmse: 0.980491\n",
      "[15]\ttraining's l2: 0.916972\ttraining's rmse: 0.957587\tvalid_1's l2: 0.951639\tvalid_1's rmse: 0.97552\n",
      "[16]\ttraining's l2: 0.90223\ttraining's rmse: 0.949858\tvalid_1's l2: 0.941802\tvalid_1's rmse: 0.970465\n",
      "[17]\ttraining's l2: 0.888885\ttraining's rmse: 0.942807\tvalid_1's l2: 0.932756\tvalid_1's rmse: 0.965793\n",
      "[18]\ttraining's l2: 0.876485\ttraining's rmse: 0.936208\tvalid_1's l2: 0.925142\tvalid_1's rmse: 0.961843\n",
      "[19]\ttraining's l2: 0.865197\ttraining's rmse: 0.93016\tvalid_1's l2: 0.918001\tvalid_1's rmse: 0.958124\n",
      "[20]\ttraining's l2: 0.854662\ttraining's rmse: 0.924479\tvalid_1's l2: 0.911597\tvalid_1's rmse: 0.954776\n",
      "[21]\ttraining's l2: 0.845322\ttraining's rmse: 0.919414\tvalid_1's l2: 0.905985\tvalid_1's rmse: 0.951833\n",
      "[22]\ttraining's l2: 0.836546\ttraining's rmse: 0.914629\tvalid_1's l2: 0.901927\tvalid_1's rmse: 0.949698\n",
      "[23]\ttraining's l2: 0.82833\ttraining's rmse: 0.910126\tvalid_1's l2: 0.897294\tvalid_1's rmse: 0.947256\n",
      "[24]\ttraining's l2: 0.820543\ttraining's rmse: 0.905839\tvalid_1's l2: 0.893533\tvalid_1's rmse: 0.945269\n",
      "[25]\ttraining's l2: 0.81349\ttraining's rmse: 0.901937\tvalid_1's l2: 0.889583\tvalid_1's rmse: 0.943177\n",
      "[26]\ttraining's l2: 0.80717\ttraining's rmse: 0.898427\tvalid_1's l2: 0.887109\tvalid_1's rmse: 0.941864\n",
      "[27]\ttraining's l2: 0.801042\ttraining's rmse: 0.895009\tvalid_1's l2: 0.884125\tvalid_1's rmse: 0.940279\n",
      "[28]\ttraining's l2: 0.795394\ttraining's rmse: 0.891849\tvalid_1's l2: 0.882052\tvalid_1's rmse: 0.939176\n",
      "[29]\ttraining's l2: 0.790082\ttraining's rmse: 0.888866\tvalid_1's l2: 0.880087\tvalid_1's rmse: 0.93813\n",
      "[30]\ttraining's l2: 0.784751\ttraining's rmse: 0.885862\tvalid_1's l2: 0.876534\tvalid_1's rmse: 0.936234\n",
      "[31]\ttraining's l2: 0.780213\ttraining's rmse: 0.883297\tvalid_1's l2: 0.874233\tvalid_1's rmse: 0.935004\n",
      "[32]\ttraining's l2: 0.775798\ttraining's rmse: 0.880794\tvalid_1's l2: 0.87319\tvalid_1's rmse: 0.934446\n",
      "[33]\ttraining's l2: 0.77188\ttraining's rmse: 0.878567\tvalid_1's l2: 0.872253\tvalid_1's rmse: 0.933945\n",
      "[34]\ttraining's l2: 0.767998\ttraining's rmse: 0.876355\tvalid_1's l2: 0.87006\tvalid_1's rmse: 0.93277\n",
      "[35]\ttraining's l2: 0.764465\ttraining's rmse: 0.874337\tvalid_1's l2: 0.868523\tvalid_1's rmse: 0.931946\n",
      "[36]\ttraining's l2: 0.760784\ttraining's rmse: 0.87223\tvalid_1's l2: 0.866197\tvalid_1's rmse: 0.930697\n",
      "[37]\ttraining's l2: 0.757572\ttraining's rmse: 0.870386\tvalid_1's l2: 0.864748\tvalid_1's rmse: 0.929918\n",
      "[38]\ttraining's l2: 0.754479\ttraining's rmse: 0.868607\tvalid_1's l2: 0.862703\tvalid_1's rmse: 0.928818\n",
      "[39]\ttraining's l2: 0.751204\ttraining's rmse: 0.86672\tvalid_1's l2: 0.860948\tvalid_1's rmse: 0.927873\n",
      "[40]\ttraining's l2: 0.74825\ttraining's rmse: 0.865015\tvalid_1's l2: 0.859488\tvalid_1's rmse: 0.927086\n",
      "[41]\ttraining's l2: 0.745683\ttraining's rmse: 0.863529\tvalid_1's l2: 0.859216\tvalid_1's rmse: 0.926939\n",
      "[42]\ttraining's l2: 0.743149\ttraining's rmse: 0.862061\tvalid_1's l2: 0.858309\tvalid_1's rmse: 0.92645\n",
      "[43]\ttraining's l2: 0.740835\ttraining's rmse: 0.860718\tvalid_1's l2: 0.857169\tvalid_1's rmse: 0.925834\n",
      "[44]\ttraining's l2: 0.738288\ttraining's rmse: 0.859237\tvalid_1's l2: 0.855568\tvalid_1's rmse: 0.924969\n",
      "[45]\ttraining's l2: 0.736054\ttraining's rmse: 0.857936\tvalid_1's l2: 0.85551\tvalid_1's rmse: 0.924938\n",
      "[46]\ttraining's l2: 0.733866\ttraining's rmse: 0.85666\tvalid_1's l2: 0.854213\tvalid_1's rmse: 0.924236\n",
      "[47]\ttraining's l2: 0.731848\ttraining's rmse: 0.855481\tvalid_1's l2: 0.853669\tvalid_1's rmse: 0.923942\n",
      "[48]\ttraining's l2: 0.729828\ttraining's rmse: 0.8543\tvalid_1's l2: 0.852766\tvalid_1's rmse: 0.923453\n",
      "[49]\ttraining's l2: 0.727984\ttraining's rmse: 0.85322\tvalid_1's l2: 0.85163\tvalid_1's rmse: 0.922838\n",
      "[50]\ttraining's l2: 0.726055\ttraining's rmse: 0.852089\tvalid_1's l2: 0.850667\tvalid_1's rmse: 0.922316\n",
      "[51]\ttraining's l2: 0.72444\ttraining's rmse: 0.85114\tvalid_1's l2: 0.850393\tvalid_1's rmse: 0.922167\n",
      "[52]\ttraining's l2: 0.722791\ttraining's rmse: 0.850171\tvalid_1's l2: 0.849858\tvalid_1's rmse: 0.921878\n",
      "[53]\ttraining's l2: 0.721425\ttraining's rmse: 0.849367\tvalid_1's l2: 0.849202\tvalid_1's rmse: 0.921522\n",
      "[54]\ttraining's l2: 0.719897\ttraining's rmse: 0.848467\tvalid_1's l2: 0.848601\tvalid_1's rmse: 0.921195\n",
      "[55]\ttraining's l2: 0.718651\ttraining's rmse: 0.847733\tvalid_1's l2: 0.8481\tvalid_1's rmse: 0.920924\n",
      "[56]\ttraining's l2: 0.7172\ttraining's rmse: 0.846877\tvalid_1's l2: 0.847672\tvalid_1's rmse: 0.920691\n",
      "[57]\ttraining's l2: 0.715804\ttraining's rmse: 0.846052\tvalid_1's l2: 0.846811\tvalid_1's rmse: 0.920223\n",
      "[58]\ttraining's l2: 0.714517\ttraining's rmse: 0.845291\tvalid_1's l2: 0.846728\tvalid_1's rmse: 0.920179\n",
      "[59]\ttraining's l2: 0.713378\ttraining's rmse: 0.844617\tvalid_1's l2: 0.846543\tvalid_1's rmse: 0.920078\n",
      "[60]\ttraining's l2: 0.712033\ttraining's rmse: 0.84382\tvalid_1's l2: 0.845987\tvalid_1's rmse: 0.919775\n",
      "[61]\ttraining's l2: 0.71103\ttraining's rmse: 0.843226\tvalid_1's l2: 0.845643\tvalid_1's rmse: 0.919589\n",
      "[62]\ttraining's l2: 0.709925\ttraining's rmse: 0.84257\tvalid_1's l2: 0.845148\tvalid_1's rmse: 0.919319\n",
      "[63]\ttraining's l2: 0.708989\ttraining's rmse: 0.842015\tvalid_1's l2: 0.845029\tvalid_1's rmse: 0.919255\n",
      "[64]\ttraining's l2: 0.708016\ttraining's rmse: 0.841437\tvalid_1's l2: 0.844789\tvalid_1's rmse: 0.919124\n",
      "[65]\ttraining's l2: 0.706853\ttraining's rmse: 0.840745\tvalid_1's l2: 0.843677\tvalid_1's rmse: 0.918519\n",
      "[66]\ttraining's l2: 0.705882\ttraining's rmse: 0.840168\tvalid_1's l2: 0.843136\tvalid_1's rmse: 0.918224\n",
      "[67]\ttraining's l2: 0.705025\ttraining's rmse: 0.839658\tvalid_1's l2: 0.843149\tvalid_1's rmse: 0.918232\n",
      "[68]\ttraining's l2: 0.704109\ttraining's rmse: 0.839112\tvalid_1's l2: 0.842923\tvalid_1's rmse: 0.918108\n",
      "[69]\ttraining's l2: 0.703368\ttraining's rmse: 0.838671\tvalid_1's l2: 0.84258\tvalid_1's rmse: 0.917921\n",
      "[70]\ttraining's l2: 0.702026\ttraining's rmse: 0.83787\tvalid_1's l2: 0.842824\tvalid_1's rmse: 0.918054\n",
      "[71]\ttraining's l2: 0.701216\ttraining's rmse: 0.837387\tvalid_1's l2: 0.842907\tvalid_1's rmse: 0.9181\n",
      "[72]\ttraining's l2: 0.700259\ttraining's rmse: 0.836815\tvalid_1's l2: 0.842313\tvalid_1's rmse: 0.917776\n",
      "[73]\ttraining's l2: 0.699608\ttraining's rmse: 0.836426\tvalid_1's l2: 0.842073\tvalid_1's rmse: 0.917645\n",
      "[74]\ttraining's l2: 0.698749\ttraining's rmse: 0.835912\tvalid_1's l2: 0.841829\tvalid_1's rmse: 0.917512\n",
      "[75]\ttraining's l2: 0.698108\ttraining's rmse: 0.835528\tvalid_1's l2: 0.841911\tvalid_1's rmse: 0.917557\n",
      "[76]\ttraining's l2: 0.697341\ttraining's rmse: 0.835069\tvalid_1's l2: 0.841186\tvalid_1's rmse: 0.917162\n",
      "[77]\ttraining's l2: 0.696555\ttraining's rmse: 0.834599\tvalid_1's l2: 0.841105\tvalid_1's rmse: 0.917118\n",
      "[78]\ttraining's l2: 0.695682\ttraining's rmse: 0.834076\tvalid_1's l2: 0.840944\tvalid_1's rmse: 0.91703\n",
      "[79]\ttraining's l2: 0.69494\ttraining's rmse: 0.833631\tvalid_1's l2: 0.841039\tvalid_1's rmse: 0.917082\n",
      "[80]\ttraining's l2: 0.694334\ttraining's rmse: 0.833267\tvalid_1's l2: 0.840982\tvalid_1's rmse: 0.917051\n"
     ]
    },
    {
     "name": "stdout",
     "output_type": "stream",
     "text": [
      "[81]\ttraining's l2: 0.693673\ttraining's rmse: 0.83287\tvalid_1's l2: 0.84123\tvalid_1's rmse: 0.917186\n",
      "[82]\ttraining's l2: 0.692333\ttraining's rmse: 0.832065\tvalid_1's l2: 0.843817\tvalid_1's rmse: 0.918595\n",
      "[83]\ttraining's l2: 0.691511\ttraining's rmse: 0.831571\tvalid_1's l2: 0.843641\tvalid_1's rmse: 0.918499\n",
      "[84]\ttraining's l2: 0.690904\ttraining's rmse: 0.831207\tvalid_1's l2: 0.843884\tvalid_1's rmse: 0.918631\n",
      "[85]\ttraining's l2: 0.690324\ttraining's rmse: 0.830857\tvalid_1's l2: 0.843778\tvalid_1's rmse: 0.918574\n",
      "[86]\ttraining's l2: 0.689732\ttraining's rmse: 0.830501\tvalid_1's l2: 0.844064\tvalid_1's rmse: 0.918729\n",
      "[87]\ttraining's l2: 0.68917\ttraining's rmse: 0.830162\tvalid_1's l2: 0.84382\tvalid_1's rmse: 0.918597\n",
      "[88]\ttraining's l2: 0.688579\ttraining's rmse: 0.829807\tvalid_1's l2: 0.843533\tvalid_1's rmse: 0.918441\n",
      "[89]\ttraining's l2: 0.687912\ttraining's rmse: 0.829405\tvalid_1's l2: 0.843384\tvalid_1's rmse: 0.918359\n",
      "[90]\ttraining's l2: 0.687311\ttraining's rmse: 0.829042\tvalid_1's l2: 0.842862\tvalid_1's rmse: 0.918075\n",
      "[91]\ttraining's l2: 0.686694\ttraining's rmse: 0.82867\tvalid_1's l2: 0.842669\tvalid_1's rmse: 0.91797\n",
      "[92]\ttraining's l2: 0.686131\ttraining's rmse: 0.82833\tvalid_1's l2: 0.842297\tvalid_1's rmse: 0.917768\n",
      "[93]\ttraining's l2: 0.685608\ttraining's rmse: 0.828015\tvalid_1's l2: 0.842409\tvalid_1's rmse: 0.917828\n",
      "[94]\ttraining's l2: 0.685094\ttraining's rmse: 0.827704\tvalid_1's l2: 0.842332\tvalid_1's rmse: 0.917786\n",
      "[95]\ttraining's l2: 0.684653\ttraining's rmse: 0.827438\tvalid_1's l2: 0.842237\tvalid_1's rmse: 0.917735\n",
      "[96]\ttraining's l2: 0.684127\ttraining's rmse: 0.82712\tvalid_1's l2: 0.842362\tvalid_1's rmse: 0.917803\n",
      "[97]\ttraining's l2: 0.683617\ttraining's rmse: 0.826811\tvalid_1's l2: 0.84221\tvalid_1's rmse: 0.91772\n",
      "[98]\ttraining's l2: 0.683163\ttraining's rmse: 0.826537\tvalid_1's l2: 0.842058\tvalid_1's rmse: 0.917637\n",
      "[99]\ttraining's l2: 0.682693\ttraining's rmse: 0.826252\tvalid_1's l2: 0.841871\tvalid_1's rmse: 0.917535\n",
      "[100]\ttraining's l2: 0.682297\ttraining's rmse: 0.826012\tvalid_1's l2: 0.84182\tvalid_1's rmse: 0.917507\n",
      "Did not meet early stopping. Best iteration is:\n",
      "[100]\ttraining's l2: 0.682297\ttraining's rmse: 0.826012\tvalid_1's l2: 0.84182\tvalid_1's rmse: 0.917507\n"
     ]
    },
    {
     "data": {
      "text/plain": [
       "80.3467972278595"
      ]
     },
     "execution_count": 157,
     "metadata": {},
     "output_type": "execute_result"
    }
   ],
   "source": [
    "ts = time.time()\n",
    "\n",
    "gbm = lgb.LGBMRegressor(objective='regression',\n",
    "                        max_depth=11,\n",
    "                        num_leaves=40,\n",
    "                        learning_rate=0.05,\n",
    "                        n_estimators=100)\n",
    "gbm.fit(\n",
    "    X_train, \n",
    "    Y_train, \n",
    "    eval_metric=\"rmse\", \n",
    "    eval_set=[(X_train, Y_train), (X_valid, Y_valid)], \n",
    "    verbose=True, \n",
    "    early_stopping_rounds = 50)\n",
    "\n",
    "time.time() - ts"
   ]
  },
  {
   "cell_type": "code",
   "execution_count": 81,
   "metadata": {},
   "outputs": [],
   "source": [
    "Y_pred = gbm.predict(X_valid).clip(0, 20)\n",
    "Y_test = gbm.predict(X_test).clip(0, 20)\n",
    "\n",
    "submission = pd.DataFrame({\n",
    "    \"ID\": test.index, \n",
    "    \"item_cnt_month\": Y_test\n",
    "})\n",
    "submission.to_csv('gbm_submission2.csv', index=False)\n",
    "\n",
    "# save predictions for an ensemble\n",
    "pickle.dump(Y_pred, open('gbm_train2.pickle', 'wb'))\n",
    "pickle.dump(Y_test, open('gbm_test2.pickle', 'wb'))"
   ]
  },
  {
   "cell_type": "markdown",
   "metadata": {},
   "source": [
    "但是用最佳參數組合跑出的結果最好的RMSE為0.91841，仍然無法超越 2019.4/23的最佳成績 0.90646。"
   ]
  },
  {
   "cell_type": "markdown",
   "metadata": {},
   "source": [
    "## 3.Random Forest"
   ]
  },
  {
   "cell_type": "code",
   "execution_count": 158,
   "metadata": {},
   "outputs": [],
   "source": [
    "rf = RandomForestRegressor(n_estimators=50, random_state=20190513, n_jobs=6)"
   ]
  },
  {
   "cell_type": "code",
   "execution_count": 159,
   "metadata": {},
   "outputs": [
    {
     "name": "stderr",
     "output_type": "stream",
     "text": [
      "d:\\python\\lib\\site-packages\\numpy\\core\\_methods.py:36: RuntimeWarning: overflow encountered in reduce\n",
      "  return umr_sum(a, axis, dtype, out, keepdims, initial)\n"
     ]
    },
    {
     "data": {
      "text/plain": [
       "1416.891346693039"
      ]
     },
     "execution_count": 159,
     "metadata": {},
     "output_type": "execute_result"
    }
   ],
   "source": [
    "ts = time.time()\n",
    "rf.fit(X_train, Y_train)\n",
    "time.time() - ts"
   ]
  },
  {
   "cell_type": "code",
   "execution_count": 160,
   "metadata": {},
   "outputs": [],
   "source": [
    "Y_pred = rf.predict(X_valid).clip(0, 20)\n",
    "Y_test = rf.predict(X_test).clip(0, 20)\n",
    "\n",
    "submission = pd.DataFrame({\n",
    "    \"ID\": test.index, \n",
    "    \"item_cnt_month\": Y_test\n",
    "})\n",
    "submission.to_csv('rf_submission3.csv', index=False)\n",
    "\n",
    "# save predictions for an ensemble\n",
    "pickle.dump(Y_pred, open('rf_train3.pickle', 'wb'))\n",
    "pickle.dump(Y_test, open('rf_test3.pickle', 'wb'))"
   ]
  },
  {
   "cell_type": "markdown",
   "metadata": {},
   "source": [
    "用Random Forest跑出的最好的RMSE為0.96645。"
   ]
  }
 ],
 "metadata": {
  "kernelspec": {
   "display_name": "Python 3",
   "language": "python",
   "name": "python3"
  },
  "language_info": {
   "codemirror_mode": {
    "name": "ipython",
    "version": 3
   },
   "file_extension": ".py",
   "mimetype": "text/x-python",
   "name": "python",
   "nbconvert_exporter": "python",
   "pygments_lexer": "ipython3",
   "version": "3.6.5"
  }
 },
 "nbformat": 4,
 "nbformat_minor": 2
}
