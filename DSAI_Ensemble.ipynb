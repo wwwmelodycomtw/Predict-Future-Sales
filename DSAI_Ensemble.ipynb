{
 "cells": [
  {
   "cell_type": "code",
   "execution_count": 43,
   "metadata": {},
   "outputs": [],
   "source": [
    "import pandas as pd                                          #讀檔\n",
    "import numpy as np                                           #計算"
   ]
  },
  {
   "cell_type": "code",
   "execution_count": 53,
   "metadata": {},
   "outputs": [],
   "source": [
    "#匯入三種預測結果\n",
    "predict_xgb = pd.read_csv(\"xgb_submission090646.csv\", header = 0)\n",
    "predict_gbm = pd.read_csv(\"gbm_submission2.csv\", header = 0)\n",
    "predict_rf  = pd.read_csv(\"rf_submission2.csv\", header = 0)"
   ]
  },
  {
   "cell_type": "code",
   "execution_count": 55,
   "metadata": {},
   "outputs": [
    {
     "data": {
      "text/html": [
       "<div>\n",
       "<style scoped>\n",
       "    .dataframe tbody tr th:only-of-type {\n",
       "        vertical-align: middle;\n",
       "    }\n",
       "\n",
       "    .dataframe tbody tr th {\n",
       "        vertical-align: top;\n",
       "    }\n",
       "\n",
       "    .dataframe thead th {\n",
       "        text-align: right;\n",
       "    }\n",
       "</style>\n",
       "<table border=\"1\" class=\"dataframe\">\n",
       "  <thead>\n",
       "    <tr style=\"text-align: right;\">\n",
       "      <th></th>\n",
       "      <th>item_cnt_month_xgb</th>\n",
       "      <th>item_cnt_month_gbm</th>\n",
       "      <th>item_cnt_month_rf</th>\n",
       "    </tr>\n",
       "  </thead>\n",
       "  <tbody>\n",
       "    <tr>\n",
       "      <th>0</th>\n",
       "      <td>0.580359</td>\n",
       "      <td>0.572580</td>\n",
       "      <td>0.86</td>\n",
       "    </tr>\n",
       "    <tr>\n",
       "      <th>1</th>\n",
       "      <td>0.358934</td>\n",
       "      <td>0.513043</td>\n",
       "      <td>2.36</td>\n",
       "    </tr>\n",
       "    <tr>\n",
       "      <th>2</th>\n",
       "      <td>1.199845</td>\n",
       "      <td>1.173652</td>\n",
       "      <td>2.20</td>\n",
       "    </tr>\n",
       "    <tr>\n",
       "      <th>3</th>\n",
       "      <td>0.469782</td>\n",
       "      <td>0.427353</td>\n",
       "      <td>1.34</td>\n",
       "    </tr>\n",
       "    <tr>\n",
       "      <th>4</th>\n",
       "      <td>3.862634</td>\n",
       "      <td>2.525291</td>\n",
       "      <td>0.64</td>\n",
       "    </tr>\n",
       "  </tbody>\n",
       "</table>\n",
       "</div>"
      ],
      "text/plain": [
       "   item_cnt_month_xgb  item_cnt_month_gbm  item_cnt_month_rf\n",
       "0            0.580359            0.572580               0.86\n",
       "1            0.358934            0.513043               2.36\n",
       "2            1.199845            1.173652               2.20\n",
       "3            0.469782            0.427353               1.34\n",
       "4            3.862634            2.525291               0.64"
      ]
     },
     "execution_count": 55,
     "metadata": {},
     "output_type": "execute_result"
    }
   ],
   "source": [
    "#建立dataframe存放三種方式之預測結果\n",
    "vote = pd.concat([predict_xgb, predict_gbm, predict_rf], axis=1, ignore_index=True)\n",
    "vote = vote.drop(columns = [2,4])\n",
    "vote.columns = [\"ID\", \"item_cnt_month_xgb\", \"item_cnt_month_gbm\", \"item_cnt_month_rf\"]\n",
    "vote.iloc[:,1:4].head()"
   ]
  },
  {
   "cell_type": "code",
   "execution_count": 52,
   "metadata": {},
   "outputs": [
    {
     "data": {
      "text/html": [
       "<div>\n",
       "<style scoped>\n",
       "    .dataframe tbody tr th:only-of-type {\n",
       "        vertical-align: middle;\n",
       "    }\n",
       "\n",
       "    .dataframe tbody tr th {\n",
       "        vertical-align: top;\n",
       "    }\n",
       "\n",
       "    .dataframe thead th {\n",
       "        text-align: right;\n",
       "    }\n",
       "</style>\n",
       "<table border=\"1\" class=\"dataframe\">\n",
       "  <thead>\n",
       "    <tr style=\"text-align: right;\">\n",
       "      <th></th>\n",
       "      <th>item_cnt_month_xgb</th>\n",
       "      <th>item_cnt_month_rf</th>\n",
       "    </tr>\n",
       "  </thead>\n",
       "  <tbody>\n",
       "    <tr>\n",
       "      <th>0</th>\n",
       "      <td>0.580359</td>\n",
       "      <td>0.86</td>\n",
       "    </tr>\n",
       "    <tr>\n",
       "      <th>1</th>\n",
       "      <td>0.358934</td>\n",
       "      <td>2.36</td>\n",
       "    </tr>\n",
       "    <tr>\n",
       "      <th>2</th>\n",
       "      <td>1.199845</td>\n",
       "      <td>2.20</td>\n",
       "    </tr>\n",
       "    <tr>\n",
       "      <th>3</th>\n",
       "      <td>0.469782</td>\n",
       "      <td>1.34</td>\n",
       "    </tr>\n",
       "    <tr>\n",
       "      <th>4</th>\n",
       "      <td>3.862634</td>\n",
       "      <td>0.64</td>\n",
       "    </tr>\n",
       "  </tbody>\n",
       "</table>\n",
       "</div>"
      ],
      "text/plain": [
       "   item_cnt_month_xgb  item_cnt_month_rf\n",
       "0            0.580359               0.86\n",
       "1            0.358934               2.36\n",
       "2            1.199845               2.20\n",
       "3            0.469782               1.34\n",
       "4            3.862634               0.64"
      ]
     },
     "execution_count": 52,
     "metadata": {},
     "output_type": "execute_result"
    }
   ],
   "source": [
    "vote[[\"item_cnt_month_xgb\", \"item_cnt_month_rf\"]].head()"
   ]
  },
  {
   "cell_type": "code",
   "execution_count": 56,
   "metadata": {},
   "outputs": [],
   "source": [
    "#找出每個row的平均\n",
    "predict_mean = vote[[\"item_cnt_month_xgb\", \"item_cnt_month_rf\"]].mean(axis =1)\n",
    "#print(predict_mean)"
   ]
  },
  {
   "cell_type": "code",
   "execution_count": 57,
   "metadata": {},
   "outputs": [],
   "source": [
    "guess1 = {\"ID\":vote[\"ID\"],\"item_cnt_month\":predict_mean}\n",
    "df_guess=pd.DataFrame(guess1)\n",
    "df_guess.to_csv(\"ensemble_submission4.csv\",header=True,index=False)"
   ]
  },
  {
   "cell_type": "markdown",
   "metadata": {},
   "source": [
    "#### 各個model最佳的RMSE結果為: XGBoost 0.90646 / LightGBM 0.91841 / Random Forest 0.96645\n",
    "#### 將各model的最佳RMSE結果一起取平均，結果如下(V代表有放入取平均、X代表沒有放入):"
   ]
  },
  {
   "cell_type": "markdown",
   "metadata": {},
   "source": [
    "|Model|XGBoost|LightGBM|Random Forest|RMSE|\n",
    "|---|---|---|---|---|\n",
    "|1|V|V|V|0.89793|\n",
    "|2|V|V|X|0.90997|\n",
    "|3|X|V|V|0.90705|\n",
    "|4|V|X|V|0.90175|"
   ]
  },
  {
   "cell_type": "markdown",
   "metadata": {},
   "source": [
    "利用XGBoost、LightGBM和Random Forest三種模型ensemble可得到最佳的RMSE結果0.89793。"
   ]
  }
 ],
 "metadata": {
  "kernelspec": {
   "display_name": "Python 3",
   "language": "python",
   "name": "python3"
  },
  "language_info": {
   "codemirror_mode": {
    "name": "ipython",
    "version": 3
   },
   "file_extension": ".py",
   "mimetype": "text/x-python",
   "name": "python",
   "nbconvert_exporter": "python",
   "pygments_lexer": "ipython3",
   "version": "3.6.5"
  }
 },
 "nbformat": 4,
 "nbformat_minor": 2
}
